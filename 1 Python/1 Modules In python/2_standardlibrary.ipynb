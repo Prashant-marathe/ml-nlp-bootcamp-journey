{
 "cells": [
  {
   "cell_type": "markdown",
   "id": "4887eb33",
   "metadata": {},
   "source": [
    "## Python Standard Library\n",
    "- Python's standard library comes with a vast collection of modules and packages that come built-in, providing wide range of functionalities out of the box. "
   ]
  },
  {
   "cell_type": "code",
   "execution_count": 1,
   "id": "b1126976",
   "metadata": {},
   "outputs": [
    {
     "name": "stdout",
     "output_type": "stream",
     "text": [
      "array('i', [1, 2, 3, 4, 5])\n"
     ]
    }
   ],
   "source": [
    "import array\n",
    "arr = array.array('i', [1,2,3,4,5])\n",
    "print(arr)"
   ]
  },
  {
   "cell_type": "code",
   "execution_count": 2,
   "id": "f570993f",
   "metadata": {},
   "outputs": [
    {
     "name": "stdout",
     "output_type": "stream",
     "text": [
      "16.0\n",
      "3.141592653589793\n"
     ]
    }
   ],
   "source": [
    "import math\n",
    "print(math.sqrt(256))\n",
    "print(math.pi)"
   ]
  },
  {
   "cell_type": "code",
   "execution_count": 3,
   "id": "9f9f8701",
   "metadata": {},
   "outputs": [
    {
     "name": "stdout",
     "output_type": "stream",
     "text": [
      "6\n",
      "cherry\n"
     ]
    }
   ],
   "source": [
    "import random\n",
    "print(random.randint(1, 10))\n",
    "print(random.choice(['apple', 'banana', 'cherry', 'grapes']))"
   ]
  },
  {
   "cell_type": "code",
   "execution_count": 4,
   "id": "a2ddabb8",
   "metadata": {},
   "outputs": [
    {
     "name": "stdout",
     "output_type": "stream",
     "text": [
      "c:\\Users\\ASUS\\Desktop\\DATA SCIENCE AND MACHINE LEARNING\\Python\\Modules In python\n",
      "None\n"
     ]
    }
   ],
   "source": [
    "# os : used for file handling and accessibility\n",
    "import os\n",
    "print(os.getcwd())\n",
    "print(os.mkdir('test_dir'))"
   ]
  },
  {
   "cell_type": "code",
   "execution_count": 5,
   "id": "1e031358",
   "metadata": {},
   "outputs": [
    {
     "data": {
      "text/plain": [
       "'destination.txt'"
      ]
     },
     "execution_count": 5,
     "metadata": {},
     "output_type": "execute_result"
    }
   ],
   "source": [
    "# For high level operations on files and collections \n",
    "import shutil\n",
    "shutil.copyfile('source.txt', 'destination.txt')"
   ]
  },
  {
   "cell_type": "code",
   "execution_count": 6,
   "id": "44c9532c",
   "metadata": {},
   "outputs": [
    {
     "name": "stdout",
     "output_type": "stream",
     "text": [
      "{\"name\": \"Prashant Marathe\", \"age\": 21, \"DOB\": \"01/01/2004\"} <class 'str'>\n",
      "{'name': 'Prashant Marathe', 'age': 21, 'DOB': '01/01/2004'} <class 'dict'>\n"
     ]
    }
   ],
   "source": [
    "# Data Serialization\n",
    "import json\n",
    "\n",
    "data = {\n",
    "    'name':'Prashant Marathe',\n",
    "    'age':21,\n",
    "    'DOB':'01/01/2004'\n",
    "}\n",
    "\n",
    "json_str = json.dumps(data)\n",
    "print(json_str, type(json_str))\n",
    "\n",
    "parsed_json = json.loads(json_str)\n",
    "print(parsed_json, type(parsed_json))\n"
   ]
  },
  {
   "cell_type": "code",
   "execution_count": 7,
   "id": "7a3fd9c9",
   "metadata": {},
   "outputs": [
    {
     "name": "stdout",
     "output_type": "stream",
     "text": [
      "['name', 'age']\n",
      "['Prashant Marathe', '21']\n"
     ]
    }
   ],
   "source": [
    "# csv\n",
    "import csv\n",
    "\n",
    "with open('example.txt', mode='w', newline='') as f:\n",
    "    writer = csv.writer(f)\n",
    "    writer.writerow(['name', 'age'])\n",
    "    writer.writerow(['Prashant Marathe', 21])\n",
    "\n",
    "with open('example.txt', mode='r') as f:\n",
    "    reader = csv.reader(f)\n",
    "    for line in reader:\n",
    "        print(line)"
   ]
  },
  {
   "cell_type": "code",
   "execution_count": 8,
   "id": "3f1a665c",
   "metadata": {},
   "outputs": [
    {
     "name": "stdout",
     "output_type": "stream",
     "text": [
      "2025-08-22 12:25:58.520786\n",
      "2025-08-21 12:25:58.520786\n"
     ]
    }
   ],
   "source": [
    "# datetime\n",
    "from datetime import datetime, timedelta\n",
    "\n",
    "# current time\n",
    "now = datetime.now()\n",
    "print(now)\n",
    "\n",
    "# print yesterdays time\n",
    "yesterday = now - timedelta(days=1)\n",
    "print(yesterday)"
   ]
  },
  {
   "cell_type": "code",
   "execution_count": 9,
   "id": "177e6403",
   "metadata": {},
   "outputs": [
    {
     "name": "stdout",
     "output_type": "stream",
     "text": [
      "1755845758.5330815\n",
      "1755845760.533643\n"
     ]
    }
   ],
   "source": [
    "# time\n",
    "import time\n",
    "\n",
    "print(time.time())\n",
    "time.sleep(2)\n",
    "print(time.time())"
   ]
  },
  {
   "cell_type": "code",
   "execution_count": 10,
   "id": "33bd4f61",
   "metadata": {},
   "outputs": [
    {
     "name": "stdout",
     "output_type": "stream",
     "text": [
      "<re.Match object; span=(34, 36), match='20'>\n"
     ]
    }
   ],
   "source": [
    "# Regular Expressions\n",
    "import re\n",
    "\n",
    "pattern = r'\\d+'\n",
    "text = 'Hello I am Prashant Marathe. I am 20 years old.'\n",
    "match=re.search(pattern, text)\n",
    "print(match)"
   ]
  }
 ],
 "metadata": {
  "kernelspec": {
   "display_name": "venv",
   "language": "python",
   "name": "python3"
  },
  "language_info": {
   "codemirror_mode": {
    "name": "ipython",
    "version": 3
   },
   "file_extension": ".py",
   "mimetype": "text/x-python",
   "name": "python",
   "nbconvert_exporter": "python",
   "pygments_lexer": "ipython3",
   "version": "3.13.5"
  }
 },
 "nbformat": 4,
 "nbformat_minor": 5
}
