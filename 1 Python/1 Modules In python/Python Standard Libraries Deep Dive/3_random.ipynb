{
 "cells": [
  {
   "cell_type": "code",
   "execution_count": 1,
   "id": "652da10b",
   "metadata": {},
   "outputs": [],
   "source": [
    "import random"
   ]
  },
  {
   "cell_type": "markdown",
   "id": "8451fe8e",
   "metadata": {},
   "source": [
    "**Most used functions**"
   ]
  },
  {
   "cell_type": "code",
   "execution_count": 2,
   "id": "56c22af0",
   "metadata": {},
   "outputs": [
    {
     "data": {
      "text/plain": [
       "0.1518055106339702"
      ]
     },
     "execution_count": 2,
     "metadata": {},
     "output_type": "execute_result"
    }
   ],
   "source": [
    "# random.random() : Returns random number floats between 0.0 and 1.0\n",
    "random.random()"
   ]
  },
  {
   "cell_type": "code",
   "execution_count": null,
   "id": "8e9e700a",
   "metadata": {},
   "outputs": [],
   "source": [
    "random.randint(1, 10)\n",
    "# Returns a random number between a and b"
   ]
  },
  {
   "cell_type": "code",
   "execution_count": 17,
   "id": "fb305821",
   "metadata": {},
   "outputs": [
    {
     "data": {
      "text/plain": [
       "'cherry'"
      ]
     },
     "execution_count": 17,
     "metadata": {},
     "output_type": "execute_result"
    }
   ],
   "source": [
    "# random.choice(sequence): Returns a random element from a non-empty sequence such as a list or string.\n",
    "fruits = ['apple', 'banana', 'cherry']\n",
    "random.choice(fruits)"
   ]
  },
  {
   "cell_type": "code",
   "execution_count": 18,
   "id": "2e462cfa",
   "metadata": {},
   "outputs": [
    {
     "data": {
      "text/plain": [
       "['apple', 'apple']"
      ]
     },
     "execution_count": 18,
     "metadata": {},
     "output_type": "execute_result"
    }
   ],
   "source": [
    "# random.choices(population, k=n): Returns a lisst of n random elements from the population, allowing duplication; can specify weights\n",
    "\n",
    "random.choices(fruits, k=2)"
   ]
  },
  {
   "cell_type": "code",
   "execution_count": null,
   "id": "a0c2bfdb",
   "metadata": {},
   "outputs": [
    {
     "name": "stdout",
     "output_type": "stream",
     "text": [
      "[87, 66, 29, 78, 80, 47, 42, 3, 91, 83, 45, 12, 95, 27, 30, 85, 8, 21, 76, 49, 38, 53, 63, 89, 2, 84, 20, 67, 43, 48]\n"
     ]
    }
   ],
   "source": [
    "# random.sample(population, k): Returns a list of k unique elements from the population (no duplicates)\n",
    "\n",
    "sample = random.sample(range(1, 100), 30)\n",
    "print(sample)"
   ]
  },
  {
   "cell_type": "code",
   "execution_count": null,
   "id": "2322b21c",
   "metadata": {},
   "outputs": [
    {
     "name": "stdout",
     "output_type": "stream",
     "text": [
      "[48, 84, 12, 42, 30, 80, 2, 8, 87, 85, 38, 63, 20, 91, 76, 95, 53, 78, 83, 29, 21, 43, 47, 27, 49, 67, 89, 3, 45, 66]\n"
     ]
    }
   ],
   "source": [
    "# randomly shuffles a mutable sequnce in place (modifies the original list)\n",
    "random.shuffle(sample)\n",
    "print(sample)"
   ]
  },
  {
   "cell_type": "code",
   "execution_count": 28,
   "id": "a458c251",
   "metadata": {},
   "outputs": [
    {
     "name": "stdout",
     "output_type": "stream",
     "text": [
      "[82, 15, 4, 95, 36, 32, 29, 18, 14, 87]\n"
     ]
    }
   ],
   "source": [
    "random.seed(42)\n",
    "sample2 = random.sample(range(1, 100), 10)\n",
    "print(sample2)"
   ]
  },
  {
   "cell_type": "code",
   "execution_count": null,
   "id": "58ced656",
   "metadata": {},
   "outputs": [],
   "source": []
  }
 ],
 "metadata": {
  "kernelspec": {
   "display_name": "venv",
   "language": "python",
   "name": "python3"
  },
  "language_info": {
   "codemirror_mode": {
    "name": "ipython",
    "version": 3
   },
   "file_extension": ".py",
   "mimetype": "text/x-python",
   "name": "python",
   "nbconvert_exporter": "python",
   "pygments_lexer": "ipython3",
   "version": "3.13.5"
  }
 },
 "nbformat": 4,
 "nbformat_minor": 5
}
