{
 "cells": [
  {
   "cell_type": "code",
   "execution_count": 1,
   "id": "248eb5c4",
   "metadata": {},
   "outputs": [],
   "source": [
    "import os"
   ]
  },
  {
   "cell_type": "markdown",
   "id": "6ccfbf96",
   "metadata": {},
   "source": [
    "**Most used functions**\n"
   ]
  },
  {
   "cell_type": "code",
   "execution_count": 2,
   "id": "fa8ad9b7",
   "metadata": {},
   "outputs": [
    {
     "data": {
      "text/plain": [
       "'nt'"
      ]
     },
     "execution_count": 2,
     "metadata": {},
     "output_type": "execute_result"
    }
   ],
   "source": [
    "# os.name : returns the name of the OS-dependent module imported - 'posix' for Unix/Linux/macOS and 'nt' for Windows\n",
    "os.name"
   ]
  },
  {
   "cell_type": "code",
   "execution_count": 3,
   "id": "460f9d48",
   "metadata": {},
   "outputs": [
    {
     "data": {
      "text/plain": [
       "'c:\\\\Users\\\\ASUS\\\\Desktop\\\\DATA SCIENCE AND MACHINE LEARNING\\\\Python\\\\Modules In python\\\\Python Standard Libraries Deep Dive'"
      ]
     },
     "execution_count": 3,
     "metadata": {},
     "output_type": "execute_result"
    }
   ],
   "source": [
    "# os.getcwd() : returns the current working directory path\n",
    "os.getcwd()"
   ]
  },
  {
   "cell_type": "code",
   "execution_count": 7,
   "id": "8ac6d6b8",
   "metadata": {},
   "outputs": [
    {
     "data": {
      "text/plain": [
       "'C:\\\\Users\\\\ASUS\\\\Desktop\\\\DATA SCIENCE AND MACHINE LEARNING\\\\Python\\\\Modules In python\\\\Python Standard Libraries Deep Dive'"
      ]
     },
     "execution_count": 7,
     "metadata": {},
     "output_type": "execute_result"
    }
   ],
   "source": [
    "# os.chdir(path) : changes the current working directory to the specified path\n",
    "os.chdir(\"C:/Users/ASUS/Desktop/DATA SCIENCE AND MACHINE LEARNING/Python/Modules In python/Python Standard Libraries Deep Dive\")\n",
    "os.getcwd()"
   ]
  },
  {
   "cell_type": "code",
   "execution_count": 8,
   "id": "eddad18f",
   "metadata": {},
   "outputs": [
    {
     "data": {
      "text/plain": [
       "['1_array.ipynb', '2_math.ipynb', '3_random.ipynb', '4_os.ipynb']"
      ]
     },
     "execution_count": 8,
     "metadata": {},
     "output_type": "execute_result"
    }
   ],
   "source": [
    "# os.listdir(path='.'): returns all the files and directories in the specified dir (default is cwd)\n",
    "os.listdir(path='.')"
   ]
  },
  {
   "cell_type": "code",
   "execution_count": 9,
   "id": "14000f48",
   "metadata": {},
   "outputs": [],
   "source": [
    "os.mkdir('test')"
   ]
  },
  {
   "cell_type": "code",
   "execution_count": 10,
   "id": "22578a55",
   "metadata": {},
   "outputs": [],
   "source": [
    "os.rmdir('test')"
   ]
  },
  {
   "cell_type": "code",
   "execution_count": 11,
   "id": "c1e83d64",
   "metadata": {},
   "outputs": [],
   "source": [
    "# os.remove(path) : removes a specified file at path\n",
    "os.remove(\"C:/Users/ASUS/Desktop/DATA SCIENCE AND MACHINE LEARNING/Python/Modules In python/example.txt\")"
   ]
  },
  {
   "cell_type": "code",
   "execution_count": null,
   "id": "b809d7d4",
   "metadata": {},
   "outputs": [
    {
     "data": {
      "text/plain": [
       "'C:\\\\Users\\\\ASUS\\\\Desktop\\\\DATA SCIENCE AND MACHINE LEARNING\\\\Python\\\\Modules In python\\\\Python Standard Libraries Deep Dive'"
      ]
     },
     "execution_count": 12,
     "metadata": {},
     "output_type": "execute_result"
    }
   ],
   "source": [
    "# os.rename(src, dst): rename a file or directory from src to dst\n",
    "os.getcwd()\n",
    "os.rename('4_os.ipynb', '4_os_module.ipynb')"
   ]
  }
 ],
 "metadata": {
  "kernelspec": {
   "display_name": "venv",
   "language": "python",
   "name": "python3"
  },
  "language_info": {
   "codemirror_mode": {
    "name": "ipython",
    "version": 3
   },
   "file_extension": ".py",
   "mimetype": "text/x-python",
   "name": "python",
   "nbconvert_exporter": "python",
   "pygments_lexer": "ipython3",
   "version": "3.13.5"
  }
 },
 "nbformat": 4,
 "nbformat_minor": 5
}
