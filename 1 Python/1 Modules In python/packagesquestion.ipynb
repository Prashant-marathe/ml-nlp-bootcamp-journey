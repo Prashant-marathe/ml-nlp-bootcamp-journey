{
 "cells": [
  {
   "cell_type": "markdown",
   "metadata": {},
   "source": [
    "# Module 5: Modules and Packages Assignments\n",
    "## Lesson 5.1: Importing Modules\n",
    "### Assignment 1: Importing and Using Modules\n",
    "\n",
    "Import the `math` module and use it to calculate the square root of 25 and the sine of 90 degrees.\n",
    "\n",
    "### Assignment 2: Aliasing Modules\n",
    "\n",
    "Import the `datetime` module with an alias and use it to print the current date and time.\n",
    "\n",
    "### Assignment 3: Importing Specific Functions\n",
    "\n",
    "Import the `randint` function from the `random` module and use it to generate a random integer between 1 and 100.\n",
    "\n",
    "### Assignment 4: Importing Multiple Functions\n",
    "\n",
    "Import the `sqrt` and `pow` functions from the `math` module and use them to calculate the square root of 16 and 2 raised to the power of 3.\n",
    "\n",
    "### Assignment 5: Handling Import Errors\n",
    "\n",
    "Write code that attempts to import a non-existent module and gracefully handles the import error by printing an error message.\n",
    "\n",
    "## Lesson 5.2: Standard Library Overview\n",
    "### Assignment 6: Working with the `os` Module\n",
    "\n",
    "Use the `os` module to create a new directory, list the contents of the current directory, and remove the newly created directory.\n",
    "\n",
    "### Assignment 7: Working with the `sys` Module\n",
    "\n",
    "Use the `sys` module to print the Python version currently in use and the command-line arguments passed to the script.\n",
    "\n",
    "### Assignment 8: Working with the `math` Module\n",
    "\n",
    "Use the `math` module to calculate the greatest common divisor (GCD) of two numbers and the factorial of a number.\n",
    "\n",
    "### Assignment 9: Working with the `datetime` Module\n",
    "\n",
    "Use the `datetime` module to print the current date, calculate the date 100 days from today, and determine the day of the week for a given date.\n",
    "\n",
    "### Assignment 10: Working with the `random` Module\n",
    "\n",
    "Use the `random` module to generate a list of 5 random numbers between 1 and 50 and shuffle the elements of a list.\n",
    "\n",
    "## Lesson 5.3: Creating and Using Packages\n",
    "### Assignment 11: Creating a Simple Package\n",
    "\n",
    "Create a package named `mypackage` with two modules: `module1` and `module2`. `module1` should contain a function that adds two numbers, and `module2` should contain a function that multiplies two numbers. Write code to use these functions.\n",
    "\n",
    "### Assignment 12: Using `__init__.py`\n",
    "\n",
    "Modify the `mypackage` package to include an `__init__.py` file that imports the functions from `module1` and `module2`. Write code to use these functions.\n",
    "\n",
    "### Assignment 13: Importing from a Package\n",
    "\n",
    "Write code to import and use the functions from `mypackage` without explicitly importing `module1` and `module2`.\n",
    "\n",
    "### Assignment 14: Relative Imports\n",
    "\n",
    "Create a subpackage named `subpackage` within `mypackage` and move `module2` into `subpackage`. Modify the import statements in `__init__.py` to use relative imports. Write code to use the functions from both modules.\n",
    "\n",
    "### Assignment 15: Handling Package Import Errors\n",
    "\n",
    "Write code that attempts to import a non-existent function from `mypackage` and gracefully handles the import error by printing an error message."
   ]
  },
  {
   "cell_type": "code",
   "execution_count": 2,
   "id": "3d12c3eb",
   "metadata": {},
   "outputs": [
    {
     "name": "stdout",
     "output_type": "stream",
     "text": [
      "5.0\n",
      "0.8939966636005579\n"
     ]
    }
   ],
   "source": [
    "# Importing module\n",
    "\n",
    "import math\n",
    "\n",
    "print(math.sqrt(25))\n",
    "print(math.sin(90))"
   ]
  },
  {
   "cell_type": "code",
   "execution_count": 5,
   "metadata": {},
   "outputs": [
    {
     "name": "stdout",
     "output_type": "stream",
     "text": [
      "2025-08-21 22:35:37.944384\n"
     ]
    }
   ],
   "source": [
    "import datetime as dt\n",
    "\n",
    "print(dt.datetime.now())"
   ]
  },
  {
   "cell_type": "code",
   "execution_count": 6,
   "id": "c5ca7f33",
   "metadata": {},
   "outputs": [
    {
     "name": "stdout",
     "output_type": "stream",
     "text": [
      "48\n"
     ]
    }
   ],
   "source": [
    "from random import randint\n",
    "\n",
    "print(randint(1, 100))"
   ]
  },
  {
   "cell_type": "code",
   "execution_count": 7,
   "id": "ad497f55",
   "metadata": {},
   "outputs": [
    {
     "name": "stdout",
     "output_type": "stream",
     "text": [
      "5.0\n",
      "8.0\n"
     ]
    }
   ],
   "source": [
    "from math import sqrt, pow\n",
    "\n",
    "print(sqrt(25))\n",
    "print(pow(2,3))"
   ]
  },
  {
   "cell_type": "code",
   "execution_count": 9,
   "id": "fb03ff90",
   "metadata": {},
   "outputs": [
    {
     "name": "stdout",
     "output_type": "stream",
     "text": [
      "module doesn\"t exist\n"
     ]
    }
   ],
   "source": [
    "try:\n",
    "    import prashant as pm\n",
    "    print('module imported successfully')\n",
    "except ImportError:\n",
    "    print('module doesn\"t exist')"
   ]
  },
  {
   "cell_type": "code",
   "execution_count": 10,
   "id": "c4a4b7c2",
   "metadata": {},
   "outputs": [
    {
     "name": "stdout",
     "output_type": "stream",
     "text": [
      "c:\\Users\\ASUS\\Desktop\\DATA SCIENCE AND MACHINE LEARNING\\Python\\Modules In python\n"
     ]
    }
   ],
   "source": [
    "# Standard Library Overview\n",
    "\n",
    "import os\n",
    "\n",
    "os.mkdir('test_dir2')\n",
    "\n",
    "print(os.getcwd())\n",
    "\n",
    "os.rmdir('test_dir')"
   ]
  },
  {
   "cell_type": "code",
   "execution_count": 15,
   "id": "d390db86",
   "metadata": {},
   "outputs": [
    {
     "name": "stdout",
     "output_type": "stream",
     "text": [
      "Argument 1:  c:\\Users\\ASUS\\anaconda3\\envs\\venv\\Lib\\site-packages\\ipykernel_launcher.py\n",
      "Argument 1:  ['--f=c:\\\\Users\\\\ASUS\\\\AppData\\\\Roaming\\\\jupyter\\\\runtime\\\\kernel-v3edc877ee87efc59890dbc162d094fb09a7cd2a03.json']\n"
     ]
    }
   ],
   "source": [
    "import sys\n",
    "\n",
    "sys.version\n",
    "\n",
    "print('Argument 1: ', sys.argv[0])\n",
    "print('Argument 1: ', sys.argv[1:])"
   ]
  },
  {
   "cell_type": "code",
   "execution_count": 19,
   "id": "88edd680",
   "metadata": {},
   "outputs": [
    {
     "name": "stdout",
     "output_type": "stream",
     "text": [
      "12\n",
      "120\n"
     ]
    }
   ],
   "source": [
    "# GCD\n",
    "import math\n",
    "\n",
    "print(math.gcd(12))\n",
    "\n",
    "print(math.factorial(5))"
   ]
  },
  {
   "cell_type": "code",
   "execution_count": 5,
   "id": "4c5a47ed",
   "metadata": {},
   "outputs": [
    {
     "name": "stdout",
     "output_type": "stream",
     "text": [
      "2025-08-22 11:25:53.715020\n",
      "2025-11-30 11:25:53.715020\n"
     ]
    },
    {
     "data": {
      "text/plain": [
       "4"
      ]
     },
     "execution_count": 5,
     "metadata": {},
     "output_type": "execute_result"
    }
   ],
   "source": [
    "from datetime import datetime, timedelta\n",
    "\n",
    "date = datetime.now()\n",
    "print(date)\n",
    "\n",
    "hundredth_day = date + timedelta(days=100)\n",
    "print(hundredth_day)\n",
    "\n",
    "date.weekday()"
   ]
  },
  {
   "cell_type": "code",
   "execution_count": 14,
   "id": "cecbe3ee",
   "metadata": {},
   "outputs": [
    {
     "name": "stdout",
     "output_type": "stream",
     "text": [
      "[24, 25, 12, 9, 34, 28, 41, 21, 3, 10]\n",
      "[28, 10, 41, 34, 21, 12, 3, 25, 9, 24]\n"
     ]
    }
   ],
   "source": [
    "import random \n",
    "\n",
    "sample = random.sample(range(1, 50), 10)\n",
    "print(sample)\n",
    "\n",
    "random.shuffle(sample)\n",
    "print(sample)"
   ]
  },
  {
   "cell_type": "code",
   "execution_count": 18,
   "id": "07b941e6",
   "metadata": {},
   "outputs": [
    {
     "name": "stdout",
     "output_type": "stream",
     "text": [
      "7\n",
      "12\n"
     ]
    }
   ],
   "source": [
    "# Creating and using packages\n",
    "\n",
    "from mypackage import module1, module2\n",
    "\n",
    "print(module1.add(3,4))\n",
    "print(module2.multiply(3,4))"
   ]
  },
  {
   "cell_type": "code",
   "execution_count": null,
   "id": "e90bc614",
   "metadata": {},
   "outputs": [
    {
     "name": "stdout",
     "output_type": "stream",
     "text": [
      "6\n",
      "9\n"
     ]
    }
   ],
   "source": [
    "from mypackage.module1 import add\n",
    "from mypackage.subpackage.module2 import multiply\n",
    "\n",
    "print(add(3,3))\n",
    "print(multiply(3,3))"
   ]
  },
  {
   "cell_type": "code",
   "execution_count": 22,
   "id": "ea0936af",
   "metadata": {},
   "outputs": [
    {
     "name": "stdout",
     "output_type": "stream",
     "text": [
      "Error importing the module\n"
     ]
    }
   ],
   "source": [
    "try:\n",
    "    import prashant \n",
    "    print('Module imported successfully!')\n",
    "except ImportError:\n",
    "    print('Error importing the module')"
   ]
  },
  {
   "cell_type": "code",
   "execution_count": null,
   "id": "e53118bc",
   "metadata": {},
   "outputs": [],
   "source": []
  }
 ],
 "metadata": {
  "kernelspec": {
   "display_name": "venv",
   "language": "python",
   "name": "python3"
  },
  "language_info": {
   "codemirror_mode": {
    "name": "ipython",
    "version": 3
   },
   "file_extension": ".py",
   "mimetype": "text/x-python",
   "name": "python",
   "nbconvert_exporter": "python",
   "pygments_lexer": "ipython3",
   "version": "3.13.5"
  }
 },
 "nbformat": 4,
 "nbformat_minor": 5
}
