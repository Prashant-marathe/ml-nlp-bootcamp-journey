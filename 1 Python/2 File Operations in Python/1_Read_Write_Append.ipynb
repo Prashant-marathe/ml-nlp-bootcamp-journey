{
 "cells": [
  {
   "cell_type": "markdown",
   "id": "e774ccf0",
   "metadata": {},
   "source": [
    "**File Operations - Read and Write**\n",
    "- File handling is a crucial part of any programming language. Python provides built-in functions and methodsto read and write from both text and binary files."
   ]
  },
  {
   "cell_type": "code",
   "execution_count": 1,
   "id": "72edfb01",
   "metadata": {},
   "outputs": [
    {
     "name": "stdout",
     "output_type": "stream",
     "text": [
      "Hello, I am Prashant Marathe.\n",
      "I am 20 years old.\n"
     ]
    }
   ],
   "source": [
    "# Read Whole file\n",
    "with open('demo1.txt', mode='r') as f:\n",
    "    content = f.read()\n",
    "    print(content)"
   ]
  },
  {
   "cell_type": "code",
   "execution_count": 3,
   "id": "309b4cb3",
   "metadata": {},
   "outputs": [
    {
     "name": "stdout",
     "output_type": "stream",
     "text": [
      "Hello, I am Prashant Marathe.\n",
      "I am 20 years old."
     ]
    }
   ],
   "source": [
    "# Read a file line by line\n",
    "with open('demo1.txt', mode='r') as f:\n",
    "    for line in f:\n",
    "        print(line, end=\"\")"
   ]
  },
  {
   "cell_type": "code",
   "execution_count": 15,
   "id": "725d771d",
   "metadata": {},
   "outputs": [],
   "source": [
    "# Write into a file (overwriting)\n",
    "with open('demo1.txt', mode='w') as f:\n",
    "    data = 'I am a Data Scientist in training.\\nIts great to meet you.\\n'\n",
    "    f.write(data)\n"
   ]
  },
  {
   "cell_type": "code",
   "execution_count": 16,
   "id": "f620fa08",
   "metadata": {},
   "outputs": [],
   "source": [
    "# append into the file\n",
    "with open('demo1.txt', 'a') as f:\n",
    "    data = 'Hello, I am Prashant Marathe.\\nI am 20 years old'\n",
    "    f.write(data)"
   ]
  },
  {
   "cell_type": "code",
   "execution_count": 19,
   "id": "a0ffcf5c",
   "metadata": {},
   "outputs": [],
   "source": [
    "# Write list of lines \n",
    "sea_shanty = [\n",
    "    \"\\nHeave away, me lads, heave away,\\n\",\n",
    "    \"The tide is high at the break of day.\\n\",\n",
    "    \"Raise the anchor, set the sail,\\n\",\n",
    "    \"We’ll chase the wind through storm and gale.\\n\",\n",
    "\n",
    "    \"Sing yo-ho, the ocean’s call,\\n\",\n",
    "    \"Waves will rise and sailors fall.\\n\",\n",
    "    \"But hearts are strong and hands are true,\\n\",\n",
    "    \"The sea will bend to me and you.\\n\",\n",
    "\n",
    "    \"Roll the barrels, lash the mast, \\n\",\n",
    "    \"Pray the calm winds hold us fast.\\n\",\n",
    "    \"From dusk till dawn we work and sing,\\n\",\n",
    "    \"The ocean’s ours, our voices ring!\\n\"\n",
    "]\n",
    "with open('demo1.txt', 'a') as f:\n",
    "    f.writelines(sea_shanty)"
   ]
  },
  {
   "cell_type": "code",
   "execution_count": 25,
   "id": "136333c7",
   "metadata": {},
   "outputs": [],
   "source": [
    "# Write in binary files\n",
    "data = b'\\x00\\x01\\x02\\x03\\x04'\n",
    "with open('demo1.bin', 'wb') as f:\n",
    "    f.write(data)"
   ]
  },
  {
   "cell_type": "code",
   "execution_count": 26,
   "id": "dad8b401",
   "metadata": {},
   "outputs": [
    {
     "name": "stdout",
     "output_type": "stream",
     "text": [
      "b'\\x00\\x01\\x02\\x03\\x04'\n"
     ]
    }
   ],
   "source": [
    "# Binary files\n",
    "with open('demo1.bin', 'rb') as f:\n",
    "    content = f.read()\n",
    "    print(content)"
   ]
  },
  {
   "cell_type": "code",
   "execution_count": 2,
   "id": "727953ba",
   "metadata": {},
   "outputs": [],
   "source": [
    "# Read the contents from the source file and write it into the destination file\n",
    "\n",
    "with open('source.txt', 'r') as f:\n",
    "    content = f.read()\n",
    "\n",
    "with open('destintion.txt', 'w') as f:\n",
    "    f.write(content)"
   ]
  },
  {
   "cell_type": "code",
   "execution_count": 3,
   "id": "7d95007b",
   "metadata": {},
   "outputs": [
    {
     "name": "stdout",
     "output_type": "stream",
     "text": [
      "No.of Lines: 12, No.of Words: 83, No.of Characters: 428\n"
     ]
    }
   ],
   "source": [
    "# Read a text file and count the number of lines, words, and characters\n",
    "def count_text_file(file_path):\n",
    "    with open(file_path, 'r') as file:\n",
    "        lines = file.readlines()\n",
    "        line_count = len(lines)\n",
    "        word_count = sum(len(line.split()) for line in lines)\n",
    "        char_count = sum(len(line) for line in lines)\n",
    "    return line_count, word_count, char_count\n",
    "\n",
    "file_path = 'demo1.txt'\n",
    "Lines, Words, Characters = count_text_file(file_path)\n",
    "print(f'No.of Lines: {Lines}, No.of Words: {Words}, No.of Characters: {Characters}')"
   ]
  },
  {
   "cell_type": "code",
   "execution_count": 4,
   "id": "e5f52635",
   "metadata": {},
   "outputs": [
    {
     "name": "stdout",
     "output_type": "stream",
     "text": [
      "Hello, I am Prashant Marathe.\n",
      "I am a 20 year old student trying to break into the world of AI\n"
     ]
    }
   ],
   "source": [
    "'''\n",
    "The w+ mode in python is used to open a file for both reading and writing. If the file does not exist, it will be created. If the file exists, its content is truncated (i.e the file will be overwritten)'''\n",
    "with open('demo1.txt', 'w+') as file:\n",
    "    file.write('Hello, I am Prashant Marathe.\\n')\n",
    "    file.write('I am a 20 year old student trying to break into the world of AI')\n",
    "\n",
    "    # Place the cursor back to the start of the first line\n",
    "    file.seek(0)\n",
    "\n",
    "    # Read the file\n",
    "    content = file.read()\n",
    "    print(content)"
   ]
  }
 ],
 "metadata": {
  "kernelspec": {
   "display_name": "venv",
   "language": "python",
   "name": "python3"
  },
  "language_info": {
   "codemirror_mode": {
    "name": "ipython",
    "version": 3
   },
   "file_extension": ".py",
   "mimetype": "text/x-python",
   "name": "python",
   "nbconvert_exporter": "python",
   "pygments_lexer": "ipython3",
   "version": "3.13.5"
  }
 },
 "nbformat": 4,
 "nbformat_minor": 5
}
