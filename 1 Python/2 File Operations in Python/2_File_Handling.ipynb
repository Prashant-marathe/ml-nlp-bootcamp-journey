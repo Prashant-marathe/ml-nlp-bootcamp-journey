{
 "cells": [
  {
   "cell_type": "markdown",
   "id": "9d6bea17",
   "metadata": {},
   "source": [
    "# For file handling we can use Python Built-in module os\n"
   ]
  },
  {
   "cell_type": "code",
   "execution_count": 1,
   "id": "82a230bb",
   "metadata": {},
   "outputs": [],
   "source": [
    "import os"
   ]
  },
  {
   "cell_type": "code",
   "execution_count": 2,
   "id": "d62603fc",
   "metadata": {},
   "outputs": [
    {
     "data": {
      "text/plain": [
       "'c:\\\\Users\\\\ASUS\\\\Desktop\\\\DATA SCIENCE AND MACHINE LEARNING\\\\Python\\\\File Operations in Python'"
      ]
     },
     "execution_count": 2,
     "metadata": {},
     "output_type": "execute_result"
    }
   ],
   "source": [
    "# Find the current working directory\n",
    "os.getcwd()"
   ]
  },
  {
   "cell_type": "code",
   "execution_count": 3,
   "id": "bea9a4e3",
   "metadata": {},
   "outputs": [],
   "source": [
    "# making a directory\n",
    "os.mkdir('new_directory')"
   ]
  },
  {
   "cell_type": "code",
   "execution_count": 4,
   "id": "744cf8f0",
   "metadata": {},
   "outputs": [
    {
     "data": {
      "text/plain": [
       "['1_Read_Write_Append.ipynb',\n",
       " '2_File_Handling.ipynb',\n",
       " 'demo1.bin',\n",
       " 'demo1.txt',\n",
       " 'destintion.txt',\n",
       " 'new_directory',\n",
       " 'source.txt']"
      ]
     },
     "execution_count": 4,
     "metadata": {},
     "output_type": "execute_result"
    }
   ],
   "source": [
    "# Listing files and directories\n",
    "os.listdir()"
   ]
  },
  {
   "cell_type": "code",
   "execution_count": null,
   "id": "17eec8dc",
   "metadata": {},
   "outputs": [
    {
     "name": "stdout",
     "output_type": "stream",
     "text": [
      "Folder\\file.txt\n",
      "c:\\Users\\ASUS\\Desktop\\DATA SCIENCE AND MACHINE LEARNING\\Python\\File Operations in Python\\Folder\\file.txt\n"
     ]
    }
   ],
   "source": [
    "# Joining Paths\n",
    "#* Absolute path\n",
    "dirname = 'Folder'\n",
    "filename = 'file.txt'\n",
    "filepath = os.path.join(dirname, filename)\n",
    "print(filepath)\n",
    "\n",
    "#* Relative path\n",
    "relativepath = os.path.join(os.getcwd(), dirname, filename)\n",
    "print(relativepath)\n"
   ]
  },
  {
   "cell_type": "code",
   "execution_count": 6,
   "id": "39840f5e",
   "metadata": {},
   "outputs": [
    {
     "name": "stdout",
     "output_type": "stream",
     "text": [
      "The example.txt does not exist\n"
     ]
    }
   ],
   "source": [
    "# check if the path exists or not\n",
    "path = 'example.txt'\n",
    "if os.path.exists(path):\n",
    "    print(f'The {path} exists')\n",
    "else:\n",
    "    print(f'The {path} does not exist')"
   ]
  },
  {
   "cell_type": "code",
   "execution_count": 8,
   "id": "82dc4026",
   "metadata": {},
   "outputs": [
    {
     "name": "stdout",
     "output_type": "stream",
     "text": [
      "The demo1.txt is a file\n"
     ]
    }
   ],
   "source": [
    "# check if the destination is file or a directory\n",
    "path = 'demo1.txt'\n",
    "if os.path.isfile(path):\n",
    "    print(f'The {path} is a file')\n",
    "elif os.path.isdir(path):\n",
    "    print(f'The {path} is a directory')\n",
    "else:\n",
    "    print('The destination is neither a file nor a directory')"
   ]
  },
  {
   "cell_type": "code",
   "execution_count": 9,
   "id": "08bd16b8",
   "metadata": {},
   "outputs": [
    {
     "name": "stdout",
     "output_type": "stream",
     "text": [
      "c:\\Users\\ASUS\\Desktop\\DATA SCIENCE AND MACHINE LEARNING\\Python\\File Operations in Python\\demo1.txt\n"
     ]
    }
   ],
   "source": [
    "# Getting the absolute path\n",
    "relative_path = 'demo1.txt'\n",
    "absolute_path = os.path.abspath(relative_path)\n",
    "print(absolute_path)"
   ]
  },
  {
   "cell_type": "code",
   "execution_count": null,
   "id": "03f3fc5a",
   "metadata": {},
   "outputs": [],
   "source": []
  }
 ],
 "metadata": {
  "kernelspec": {
   "display_name": "venv",
   "language": "python",
   "name": "python3"
  },
  "language_info": {
   "codemirror_mode": {
    "name": "ipython",
    "version": 3
   },
   "file_extension": ".py",
   "mimetype": "text/x-python",
   "name": "python",
   "nbconvert_exporter": "python",
   "pygments_lexer": "ipython3",
   "version": "3.13.5"
  }
 },
 "nbformat": 4,
 "nbformat_minor": 5
}
