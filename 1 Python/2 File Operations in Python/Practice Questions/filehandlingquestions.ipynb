{
 "cells": [
  {
   "cell_type": "markdown",
   "metadata": {},
   "source": [
    "# Module: File Handling Assignments\n",
    "## Lesson: File Handling and Operations\n",
    "### Assignment 1: Reading a File\n",
    "\n",
    "Write a function that reads the contents of a file named `sample.txt` and prints each line.\n",
    "\n",
    "### Assignment 2: Writing to a File\n",
    "\n",
    "Write a function that writes a list of strings to a file named `output.txt`, with each string on a new line.\n",
    "\n",
    "### Assignment 3: Copying a File\n",
    "\n",
    "Write a function that copies the contents of a file named `source.txt` to a new file named `destination.txt`.\n",
    "\n",
    "### Assignment 4: Appending to a File\n",
    "\n",
    "Write a function that appends a given string to the end of a file named `log.txt`.\n",
    "\n",
    "### Assignment 5: Counting Words in a File\n",
    "\n",
    "Write a function that reads the contents of a file named `document.txt` and returns the number of words in the file.\n",
    "\n",
    "### Assignment 6: Finding and Replacing Text\n",
    "\n",
    "Write a function that finds and replaces all occurrences of a given word in a file named `data.txt` with another word.\n",
    "\n",
    "### Assignment 7: Reading a File in Reverse\n",
    "\n",
    "Write a function that reads the contents of a file named `reverse.txt` and prints each line in reverse order.\n",
    "\n",
    "### Assignment 8: Counting Lines, Words, and Characters\n",
    "\n",
    "Write a function that reads the contents of a file named `stats.txt` and returns the number of lines, words, and characters in the file.\n",
    "\n",
    "### Assignment 9: Merging Multiple Files\n",
    "\n",
    "Write a function that merges the contents of multiple files into a single file named `merged.txt`.\n",
    "\n",
    "### Assignment 10: Splitting a Large File\n",
    "\n",
    "Write a function that splits a large file named `large.txt` into smaller files of 100 lines each.\n",
    "\n",
    "### Assignment 11: Creating a Log File\n",
    "\n",
    "Write a function that creates a log file named `activity.log` and writes log messages with timestamps.\n",
    "\n",
    "### Assignment 12: Binary File Operations\n",
    "\n",
    "Write a function that reads a binary file named `image.bin` and writes its contents to another binary file named `copy_image.bin`.\n",
    "\n",
    "### Assignment 13: CSV File Operations\n",
    "\n",
    "Write a function that reads a CSV file named `data.csv` and prints its contents as a list of dictionaries.\n",
    "\n",
    "### Assignment 14: JSON File Operations\n",
    "\n",
    "Write a function that reads a JSON file named `data.json` and prints its contents as a Python dictionary.\n",
    "\n",
    "### Assignment 15: File Permission Handling\n",
    "\n",
    "Write a function that attempts to read a file named `protected.txt` and handles any permission errors gracefully by printing an error message."
   ]
  },
  {
   "cell_type": "code",
   "execution_count": 1,
   "id": "419c70a9",
   "metadata": {},
   "outputs": [
    {
     "name": "stdout",
     "output_type": "stream",
     "text": [
      "Hello World\n",
      "Hello Prashant\n",
      "\n"
     ]
    }
   ],
   "source": [
    "def read_file(path):\n",
    "    with open(path, 'r') as file:\n",
    "        content = file.read()\n",
    "        return content\n",
    "    \n",
    "content = read_file('sample.txt')\n",
    "print(content)"
   ]
  },
  {
   "cell_type": "code",
   "execution_count": 2,
   "id": "1eb23dc6",
   "metadata": {},
   "outputs": [],
   "source": [
    "def write_file(path):\n",
    "    with open(path, 'w') as file:\n",
    "        file.write('Hello World\\n')\n",
    "        file.write('Hello Prashant\\n')\n",
    "\n",
    "write_file('sample.txt')\n"
   ]
  },
  {
   "cell_type": "code",
   "execution_count": 3,
   "id": "594727dd",
   "metadata": {},
   "outputs": [],
   "source": [
    "def copy_file(path1, path2):\n",
    "    with open(path1, 'r') as file:\n",
    "        content = file.read()\n",
    "\n",
    "    with open(path2, 'w') as file:\n",
    "        file.write(content)\n",
    "\n",
    "copy_file('source.txt', 'destination.txt')"
   ]
  },
  {
   "cell_type": "code",
   "execution_count": 4,
   "id": "df488dd6",
   "metadata": {},
   "outputs": [],
   "source": [
    "def append_file(path):\n",
    "    with open(path, 'a') as file:\n",
    "        file.write('Hello World!!!\\n')\n",
    "        file.write('Hello Prashant!!!\\n')\n",
    "\n",
    "append_file('log.txt')"
   ]
  },
  {
   "cell_type": "code",
   "execution_count": 5,
   "id": "53baba7f",
   "metadata": {},
   "outputs": [
    {
     "data": {
      "text/plain": [
       "28"
      ]
     },
     "execution_count": 5,
     "metadata": {},
     "output_type": "execute_result"
    }
   ],
   "source": [
    "def count_words(path):\n",
    "    with open(path, 'r') as file:\n",
    "        lines = file.readlines()\n",
    "        word_count = sum(len(line.split()) for line in lines)\n",
    "    return word_count\n",
    "\n",
    "count_words('document.txt')"
   ]
  },
  {
   "cell_type": "code",
   "execution_count": 6,
   "id": "3ddb4edf",
   "metadata": {},
   "outputs": [
    {
     "name": "stdout",
     "output_type": "stream",
     "text": [
      "Operation Successful\n"
     ]
    }
   ],
   "source": [
    "def find_and_replace(filepath, old_word, new_word):\n",
    "    with open(filepath, 'r') as file:\n",
    "        content = file.read()\n",
    "\n",
    "    updated_content = content.replace(old_word, new_word)\n",
    "\n",
    "    with open(filepath, 'w') as file:\n",
    "        file.write(updated_content)\n",
    "\n",
    "    print('Operation Successful')\n",
    "\n",
    "find_and_replace('document.txt', 'Prashant', 'Prince')"
   ]
  },
  {
   "cell_type": "code",
   "execution_count": 7,
   "id": "2d9c75eb",
   "metadata": {},
   "outputs": [
    {
     "name": "stdout",
     "output_type": "stream",
     "text": [
      "This is the first line\n",
      "This is the second line.\n",
      "\n",
      "This is the third line.\n",
      "\n",
      "This is the lastline.\n",
      "\n"
     ]
    }
   ],
   "source": [
    "def read_in_reverse(filepath):\n",
    "    with open(filepath, 'r') as file:\n",
    "        lines = file.readlines()\n",
    "        for line in lines[::-1]:\n",
    "            print(line)\n",
    "\n",
    "\n",
    "read_in_reverse('reverse.txt')    "
   ]
  },
  {
   "cell_type": "code",
   "execution_count": 8,
   "id": "635009cd",
   "metadata": {},
   "outputs": [
    {
     "name": "stdout",
     "output_type": "stream",
     "text": [
      "Line Count: 6\n",
      " Word Count: 57\n",
      " Char Count: 265\n"
     ]
    }
   ],
   "source": [
    "def counter(filepath):\n",
    "    with open(filepath, 'r') as file:\n",
    "        lines = file.readlines()\n",
    "        line_count = len(lines)\n",
    "        word_count = sum(len(line.split(' ')) for line in lines)\n",
    "        char_count = sum(len(line) for line in lines) \n",
    "    return line_count, word_count, char_count\n",
    "    \n",
    "filepath = 'stats.txt'\n",
    "line_count, word_count, char_count = counter(filepath)\n",
    "print(f'Line Count: {line_count}\\n Word Count: {word_count}\\n Char Count: {char_count}')"
   ]
  },
  {
   "cell_type": "code",
   "execution_count": 9,
   "metadata": {},
   "outputs": [
    {
     "name": "stdout",
     "output_type": "stream",
     "text": [
      "All files have been merged into <_io.TextIOWrapper name='merged.txt' mode='w' encoding='utf-8'>.\n"
     ]
    }
   ],
   "source": [
    "#! My Version \n",
    "'''\n",
    "def merge_files(filepaths):\n",
    "    with open(filepath, 'r') as file:\n",
    "        content1 = file.read()\n",
    "\n",
    "    with open(filepaths[1], 'r') as file:\n",
    "        content2 = file.read()\n",
    "    with open(filepaths[2], 'r') as file:\n",
    "        content3 = file.read()\n",
    "\n",
    "    with open(filepaths[3], 'r') as file:\n",
    "        content4 = file.read()\n",
    "\n",
    "    with open(filepaths[4], 'a') as file:\n",
    "        file.write(content1)\n",
    "        file.write(content2)\n",
    "        file.write(content3)\n",
    "        file.write(content4)\n",
    "\n",
    "filepaths = ['data.txt', 'destination.txt', 'document.txt', 'source.txt', 'merged2.txt']\n",
    "merge_files(filepaths)\n",
    " '''\n",
    "\n",
    "# Optimized Version\n",
    "def merge_files(filepaths, outputfile='merged.txt'):\n",
    "    with open(outputfile, 'w') as outputfile:\n",
    "        for filepath in filepaths:\n",
    "            with open(filepath, 'r') as inputfile:\n",
    "                outputfile.write(filepath)\n",
    "                outputfile.write('\\n')\n",
    "                outputfile.write(inputfile.read())\n",
    "                outputfile.write('\\n') # add a new line between files\n",
    "    print(f'All files have been merged into {outputfile}.')\n",
    "\n",
    "# Example usage\n",
    "filepaths = ['data.txt', 'destination.txt', 'document.txt', 'source.txt']\n",
    "merge_files(filepaths)"
   ]
  },
  {
   "cell_type": "code",
   "execution_count": null,
   "id": "cad5ab05",
   "metadata": {},
   "outputs": [],
   "source": [
    "# Write a function that splits a large file named large.txt into smaller files of 100 lines each\n",
    "\n",
    "def split_file(input_file, lines_per_file=100):\n",
    "    '''splits a large file into smaller files with fixed number of lines.'''\n",
    "    with open(input_file, 'r') as infile:\n",
    "        file_count = 1\n",
    "        current_lines = []\n",
    "\n",
    "        for i, line in enumerate(infile, 1):\n",
    "            current_lines.append(line)\n",
    "            # if 100 lines are collected, write to a new file\n",
    "            if i % lines_per_file == 0:\n",
    "                output_file = f'part_{file_count}.txt'\n",
    "                with open(output_file, 'w') as outfile:\n",
    "                    outfile.writelines(current_lines)\n",
    "                print(f'Created {output_file}')\n",
    "                current_lines = []\n",
    "                file_count += 1\n",
    "        \n",
    "        # writing remaining lines if they exist\n",
    "        if current_lines:\n",
    "            output_file = f'part_{file_count}.txt'\n",
    "            with open(output_file, 'w') as outfile:\n",
    "                outfile.writelines(current_lines)\n",
    "                print(f'Created {output_file}')\n",
    "\n",
    "# Example usage\n",
    "split_file('large.txt', 100)"
   ]
  },
  {
   "cell_type": "code",
   "execution_count": 1,
   "id": "f2a60921",
   "metadata": {},
   "outputs": [],
   "source": [
    "import logging\n",
    "\n",
    "logging.basicConfig(\n",
    "    filename='logger.log', \n",
    "    filemode='w',\n",
    "    level=logging.DEBUG,\n",
    "    format='%(asctime)s-%(name)s-%(levelname)s-%(message)s',\n",
    "    datefmt='%Y-%m-%d %H:%M:%S'\n",
    ")\n",
    "\n",
    "logging.debug('This is logging message')\n",
    "logging.warning('This is warning message')\n",
    "logging.error('This is error message')\n",
    "logging.info('This is info message')\n",
    "logging.critical('This is critical message')\n",
    "\n",
    "\n"
   ]
  },
  {
   "cell_type": "code",
   "execution_count": 2,
   "id": "2ec73553",
   "metadata": {},
   "outputs": [
    {
     "name": "stdout",
     "output_type": "stream",
     "text": [
      "b\"b'<eX\\\\x07\\\\x05\\\\xc9G\\\\x90r\\\\x10\\\\xe2\\\\r\\\\x88\\\\x8ah\\\\x11\\\\x9e\\\\x02ww\\\\x07f\\\\x15\\\\x06\\\\xd3\\\\x1a\\\\\\\\^\\\\xb6=RD\\\\xeeb\\\\xad7;E\\\\x8d\\\\xb5>7\\\\xaf\\\\xc2\\\\x11P\\\\xfe\\\\xfb\\\\xb3\\\\xf8\\\\r\\\\x0c\\\\xd1\\\\x12Vh\\\\xba\\\\xdb.:.\\\\xbd\\\\x93R'\\r\\n\"\n"
     ]
    }
   ],
   "source": [
    "def binary(infile='image.bin', outfile='copy_image.bin'):\n",
    "    with open(infile, 'rb') as file:\n",
    "        content = file.read()\n",
    "    \n",
    "    with open(outfile, 'wb') as file:\n",
    "        file.write(content)\n",
    "\n",
    "    return content\n",
    "\n",
    "print(binary('image.bin', 'copy_image.bin'))"
   ]
  },
  {
   "cell_type": "code",
   "execution_count": 13,
   "id": "0eabb11d",
   "metadata": {},
   "outputs": [
    {
     "name": "stdout",
     "output_type": "stream",
     "text": [
      "[{'id': '1', 'name': 'Arjun', 'age': '23', 'city': 'Mumbai'}, {'id': '2', 'name': 'Sneha', 'age': '27', 'city': 'Pune'}, {'id': '3', 'name': 'Rahul', 'age': '21', 'city': 'Delhi'}, {'id': '4', 'name': 'Meera', 'age': '25', 'city': 'Bangalore'}, {'id': '5', 'name': 'Kiran', 'age': '29', 'city': 'Hyderabad'}]\n"
     ]
    },
    {
     "data": {
      "text/plain": [
       "[{'id': '1', 'name': 'Arjun', 'age': '23', 'city': 'Mumbai'},\n",
       " {'id': '2', 'name': 'Sneha', 'age': '27', 'city': 'Pune'},\n",
       " {'id': '3', 'name': 'Rahul', 'age': '21', 'city': 'Delhi'},\n",
       " {'id': '4', 'name': 'Meera', 'age': '25', 'city': 'Bangalore'},\n",
       " {'id': '5', 'name': 'Kiran', 'age': '29', 'city': 'Hyderabad'}]"
      ]
     },
     "execution_count": 13,
     "metadata": {},
     "output_type": "execute_result"
    }
   ],
   "source": [
    "import csv\n",
    "\n",
    "def read_csv_as_dicts(filename='data.csv'):\n",
    "    data = []\n",
    "    with open(filename, 'r', newline='') as f:\n",
    "        reader = csv.DictReader(f)\n",
    "        for row in reader:\n",
    "            data.append(dict(row))\n",
    "    print(data)\n",
    "    return data\n",
    "\n",
    "read_csv_as_dicts('data.csv')\n",
    "        "
   ]
  },
  {
   "cell_type": "code",
   "execution_count": 15,
   "id": "bf663013",
   "metadata": {},
   "outputs": [
    {
     "name": "stdout",
     "output_type": "stream",
     "text": [
      "[{'[': '  {'}, {'[': '    \"id\": 1', None: ['']}, {'[': '    \"name\": \"Arjun\"', None: ['']}, {'[': '    \"age\": 23', None: ['']}, {'[': '    \"city\": \"Mumbai\"'}, {'[': '  }', None: ['']}, {'[': '  {'}, {'[': '    \"id\": 2', None: ['']}, {'[': '    \"name\": \"Sneha\"', None: ['']}, {'[': '    \"age\": 27', None: ['']}, {'[': '    \"city\": \"Pune\"'}, {'[': '  }', None: ['']}, {'[': '  {'}, {'[': '    \"id\": 3', None: ['']}, {'[': '    \"name\": \"Rahul\"', None: ['']}, {'[': '    \"age\": 21', None: ['']}, {'[': '    \"city\": \"Delhi\"'}, {'[': '  }', None: ['']}, {'[': '  {'}, {'[': '    \"id\": 4', None: ['']}, {'[': '    \"name\": \"Meera\"', None: ['']}, {'[': '    \"age\": 25', None: ['']}, {'[': '    \"city\": \"Bangalore\"'}, {'[': '  }', None: ['']}, {'[': '  {'}, {'[': '    \"id\": 5', None: ['']}, {'[': '    \"name\": \"Kiran\"', None: ['']}, {'[': '    \"age\": 29', None: ['']}, {'[': '    \"city\": \"Hyderabad\"'}, {'[': '  }'}, {'[': ']'}]\n"
     ]
    },
    {
     "data": {
      "text/plain": [
       "[{'[': '  {'},\n",
       " {'[': '    \"id\": 1', None: ['']},\n",
       " {'[': '    \"name\": \"Arjun\"', None: ['']},\n",
       " {'[': '    \"age\": 23', None: ['']},\n",
       " {'[': '    \"city\": \"Mumbai\"'},\n",
       " {'[': '  }', None: ['']},\n",
       " {'[': '  {'},\n",
       " {'[': '    \"id\": 2', None: ['']},\n",
       " {'[': '    \"name\": \"Sneha\"', None: ['']},\n",
       " {'[': '    \"age\": 27', None: ['']},\n",
       " {'[': '    \"city\": \"Pune\"'},\n",
       " {'[': '  }', None: ['']},\n",
       " {'[': '  {'},\n",
       " {'[': '    \"id\": 3', None: ['']},\n",
       " {'[': '    \"name\": \"Rahul\"', None: ['']},\n",
       " {'[': '    \"age\": 21', None: ['']},\n",
       " {'[': '    \"city\": \"Delhi\"'},\n",
       " {'[': '  }', None: ['']},\n",
       " {'[': '  {'},\n",
       " {'[': '    \"id\": 4', None: ['']},\n",
       " {'[': '    \"name\": \"Meera\"', None: ['']},\n",
       " {'[': '    \"age\": 25', None: ['']},\n",
       " {'[': '    \"city\": \"Bangalore\"'},\n",
       " {'[': '  }', None: ['']},\n",
       " {'[': '  {'},\n",
       " {'[': '    \"id\": 5', None: ['']},\n",
       " {'[': '    \"name\": \"Kiran\"', None: ['']},\n",
       " {'[': '    \"age\": 29', None: ['']},\n",
       " {'[': '    \"city\": \"Hyderabad\"'},\n",
       " {'[': '  }'},\n",
       " {'[': ']'}]"
      ]
     },
     "execution_count": 15,
     "metadata": {},
     "output_type": "execute_result"
    }
   ],
   "source": [
    "import json\n",
    "\n",
    "def read_json_as_dicts(filename='data.json'):\n",
    "    with open(filename, 'r', newline='') as f:\n",
    "        data = f.read()\n",
    "        for d in data:\n",
    "            print(d)\n",
    "\n",
    "read_csv_as_dicts('data.json')"
   ]
  },
  {
   "cell_type": "code",
   "execution_count": 17,
   "id": "95b4cd8a",
   "metadata": {},
   "outputs": [
    {
     "name": "stdout",
     "output_type": "stream",
     "text": [
      "hfalfja\n",
      "jdaljals\n",
      "dkasldasld\n",
      "dsdlajdlasjdlasjdasldjsa\n",
      "dasjdafhsdkflugrti;sfnsvcds\n",
      "sdfhasdfsaoxdasc  ddaw ufsdfusdfh sdfhasdfsaoxdasca fsfsodfu sdfhasdfsaoxdasc sadfusafusd fsfsodfudd fsodfusddf usdfsd \n",
      " sdfusdfus \n",
      " sd f\n",
      " saufsddufs\n",
      " afusf\n",
      " saufsddufsas\n",
      " ass\n",
      " pgsaugasg\n",
      " suspusp\n",
      " ap\n",
      " sagap\n",
      " asgpas\n",
      " s\n",
      " asgpass\n",
      " pgsaugasgp\n"
     ]
    }
   ],
   "source": [
    "def handle_permission_errors(filename='protected.txt'):\n",
    "    try:\n",
    "        with open(filename, 'r') as f:\n",
    "            content = f.read()\n",
    "            print(content)\n",
    "    except PermissionError:\n",
    "        print(\"PermissionError:  You don't have access to the file.\")\n",
    "    except IsADirectoryError:\n",
    "        print(f'IsADirectoryError: Is not a directory : {filename}')\n",
    "    except Exception as e:\n",
    "        print(f'Error : {e}')\n",
    "\n",
    "handle_permission_errors('protected.txt')"
   ]
  }
 ],
 "metadata": {
  "kernelspec": {
   "display_name": "venv",
   "language": "python",
   "name": "python3"
  },
  "language_info": {
   "codemirror_mode": {
    "name": "ipython",
    "version": 3
   },
   "file_extension": ".py",
   "mimetype": "text/x-python",
   "name": "python",
   "nbconvert_exporter": "python",
   "pygments_lexer": "ipython3",
   "version": "3.13.5"
  }
 },
 "nbformat": 4,
 "nbformat_minor": 5
}
