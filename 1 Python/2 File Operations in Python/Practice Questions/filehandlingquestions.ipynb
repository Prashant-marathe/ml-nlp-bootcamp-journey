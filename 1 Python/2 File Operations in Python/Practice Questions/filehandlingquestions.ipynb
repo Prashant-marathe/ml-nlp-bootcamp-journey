{
 "cells": [
  {
   "cell_type": "markdown",
   "metadata": {},
   "source": [
    "# Module: File Handling Assignments\n",
    "## Lesson: File Handling and Operations\n",
    "### Assignment 1: Reading a File\n",
    "\n",
    "Write a function that reads the contents of a file named `sample.txt` and prints each line.\n",
    "\n",
    "### Assignment 2: Writing to a File\n",
    "\n",
    "Write a function that writes a list of strings to a file named `output.txt`, with each string on a new line.\n",
    "\n",
    "### Assignment 3: Copying a File\n",
    "\n",
    "Write a function that copies the contents of a file named `source.txt` to a new file named `destination.txt`.\n",
    "\n",
    "### Assignment 4: Appending to a File\n",
    "\n",
    "Write a function that appends a given string to the end of a file named `log.txt`.\n",
    "\n",
    "### Assignment 5: Counting Words in a File\n",
    "\n",
    "Write a function that reads the contents of a file named `document.txt` and returns the number of words in the file.\n",
    "\n",
    "### Assignment 6: Finding and Replacing Text\n",
    "\n",
    "Write a function that finds and replaces all occurrences of a given word in a file named `data.txt` with another word.\n",
    "\n",
    "### Assignment 7: Reading a File in Reverse\n",
    "\n",
    "Write a function that reads the contents of a file named `reverse.txt` and prints each line in reverse order.\n",
    "\n",
    "### Assignment 8: Counting Lines, Words, and Characters\n",
    "\n",
    "Write a function that reads the contents of a file named `stats.txt` and returns the number of lines, words, and characters in the file.\n",
    "\n",
    "### Assignment 9: Merging Multiple Files\n",
    "\n",
    "Write a function that merges the contents of multiple files into a single file named `merged.txt`.\n",
    "\n",
    "### Assignment 10: Splitting a Large File\n",
    "\n",
    "Write a function that splits a large file named `large.txt` into smaller files of 100 lines each.\n",
    "\n",
    "### Assignment 11: Creating a Log File\n",
    "\n",
    "Write a function that creates a log file named `activity.log` and writes log messages with timestamps.\n",
    "\n",
    "### Assignment 12: Binary File Operations\n",
    "\n",
    "Write a function that reads a binary file named `image.bin` and writes its contents to another binary file named `copy_image.bin`.\n",
    "\n",
    "### Assignment 13: CSV File Operations\n",
    "\n",
    "Write a function that reads a CSV file named `data.csv` and prints its contents as a list of dictionaries.\n",
    "\n",
    "### Assignment 14: JSON File Operations\n",
    "\n",
    "Write a function that reads a JSON file named `data.json` and prints its contents as a Python dictionary.\n",
    "\n",
    "### Assignment 15: File Permission Handling\n",
    "\n",
    "Write a function that attempts to read a file named `protected.txt` and handles any permission errors gracefully by printing an error message."
   ]
  },
  {
   "cell_type": "code",
   "execution_count": 1,
   "id": "419c70a9",
   "metadata": {},
   "outputs": [
    {
     "name": "stdout",
     "output_type": "stream",
     "text": [
      "Hello World\n",
      "Hello Prashant\n",
      "\n"
     ]
    }
   ],
   "source": [
    "def read_file(path):\n",
    "    with open(path, 'r') as file:\n",
    "        content = file.read()\n",
    "        return content\n",
    "    \n",
    "content = read_file('sample.txt')\n",
    "print(content)"
   ]
  },
  {
   "cell_type": "code",
   "execution_count": 2,
   "id": "1eb23dc6",
   "metadata": {},
   "outputs": [],
   "source": [
    "def write_file(path):\n",
    "    with open(path, 'w') as file:\n",
    "        file.write('Hello World\\n')\n",
    "        file.write('Hello Prashant\\n')\n",
    "\n",
    "write_file('sample.txt')\n"
   ]
  },
  {
   "cell_type": "code",
   "execution_count": 3,
   "id": "594727dd",
   "metadata": {},
   "outputs": [],
   "source": [
    "def copy_file(path1, path2):\n",
    "    with open(path1, 'r') as file:\n",
    "        content = file.read()\n",
    "\n",
    "    with open(path2, 'w') as file:\n",
    "        file.write(content)\n",
    "\n",
    "copy_file('source.txt', 'destination.txt')"
   ]
  },
  {
   "cell_type": "code",
   "execution_count": 4,
   "id": "df488dd6",
   "metadata": {},
   "outputs": [],
   "source": [
    "def append_file(path):\n",
    "    with open(path, 'a') as file:\n",
    "        file.write('Hello World!!!\\n')\n",
    "        file.write('Hello Prashant!!!\\n')\n",
    "\n",
    "append_file('log.txt')"
   ]
  },
  {
   "cell_type": "code",
   "execution_count": 5,
   "id": "53baba7f",
   "metadata": {},
   "outputs": [
    {
     "data": {
      "text/plain": [
       "28"
      ]
     },
     "execution_count": 5,
     "metadata": {},
     "output_type": "execute_result"
    }
   ],
   "source": [
    "def count_words(path):\n",
    "    with open(path, 'r') as file:\n",
    "        lines = file.readlines()\n",
    "        word_count = sum(len(line.split()) for line in lines)\n",
    "    return word_count\n",
    "\n",
    "count_words('document.txt')"
   ]
  },
  {
   "cell_type": "code",
   "execution_count": 6,
   "id": "3ddb4edf",
   "metadata": {},
   "outputs": [
    {
     "name": "stdout",
     "output_type": "stream",
     "text": [
      "Operation Successful\n"
     ]
    }
   ],
   "source": [
    "def find_and_replace(filepath, old_word, new_word):\n",
    "    with open(filepath, 'r') as file:\n",
    "        content = file.read()\n",
    "\n",
    "    updated_content = content.replace(old_word, new_word)\n",
    "\n",
    "    with open(filepath, 'w') as file:\n",
    "        file.write(updated_content)\n",
    "\n",
    "    print('Operation Successful')\n",
    "\n",
    "find_and_replace('document.txt', 'Prashant', 'Prince')"
   ]
  },
  {
   "cell_type": "code",
   "execution_count": 7,
   "id": "2d9c75eb",
   "metadata": {},
   "outputs": [
    {
     "name": "stdout",
     "output_type": "stream",
     "text": [
      "This is the first line\n",
      "This is the second line.\n",
      "\n",
      "This is the third line.\n",
      "\n",
      "This is the lastline.\n",
      "\n"
     ]
    }
   ],
   "source": [
    "def read_in_reverse(filepath):\n",
    "    with open(filepath, 'r') as file:\n",
    "        lines = file.readlines()\n",
    "        for line in lines[::-1]:\n",
    "            print(line)\n",
    "\n",
    "\n",
    "read_in_reverse('reverse.txt')    "
   ]
  },
  {
   "cell_type": "code",
   "execution_count": 8,
   "id": "635009cd",
   "metadata": {},
   "outputs": [
    {
     "name": "stdout",
     "output_type": "stream",
     "text": [
      "Line Count: 6\n",
      " Word Count: 57\n",
      " Char Count: 265\n"
     ]
    }
   ],
   "source": [
    "def counter(filepath):\n",
    "    with open(filepath, 'r') as file:\n",
    "        lines = file.readlines()\n",
    "        line_count = len(lines)\n",
    "        word_count = sum(len(line.split(' ')) for line in lines)\n",
    "        char_count = sum(len(line) for line in lines) \n",
    "    return line_count, word_count, char_count\n",
    "    \n",
    "filepath = 'stats.txt'\n",
    "line_count, word_count, char_count = counter(filepath)\n",
    "print(f'Line Count: {line_count}\\n Word Count: {word_count}\\n Char Count: {char_count}')"
   ]
  },
  {
   "cell_type": "code",
   "execution_count": 9,
   "metadata": {},
   "outputs": [
    {
     "name": "stdout",
     "output_type": "stream",
     "text": [
      "All files have been merged into <_io.TextIOWrapper name='merged.txt' mode='w' encoding='utf-8'>.\n"
     ]
    }
   ],
   "source": [
    "#! My Version \n",
    "'''\n",
    "def merge_files(filepaths):\n",
    "    with open(filepath, 'r') as file:\n",
    "        content1 = file.read()\n",
    "\n",
    "    with open(filepaths[1], 'r') as file:\n",
    "        content2 = file.read()\n",
    "    with open(filepaths[2], 'r') as file:\n",
    "        content3 = file.read()\n",
    "\n",
    "    with open(filepaths[3], 'r') as file:\n",
    "        content4 = file.read()\n",
    "\n",
    "    with open(filepaths[4], 'a') as file:\n",
    "        file.write(content1)\n",
    "        file.write(content2)\n",
    "        file.write(content3)\n",
    "        file.write(content4)\n",
    "\n",
    "filepaths = ['data.txt', 'destination.txt', 'document.txt', 'source.txt', 'merged2.txt']\n",
    "merge_files(filepaths)\n",
    " '''\n",
    "\n",
    "# Optimized Version\n",
    "def merge_files(filepaths, outputfile='merged.txt'):\n",
    "    with open(outputfile, 'w') as outputfile:\n",
    "        for filepath in filepaths:\n",
    "            with open(filepath, 'r') as inputfile:\n",
    "                outputfile.write(filepath)\n",
    "                outputfile.write('\\n')\n",
    "                outputfile.write(inputfile.read())\n",
    "                outputfile.write('\\n') # add a new line between files\n",
    "    print(f'All files have been merged into {outputfile}.')\n",
    "\n",
    "# Example usage\n",
    "filepaths = ['data.txt', 'destination.txt', 'document.txt', 'source.txt']\n",
    "merge_files(filepaths)"
   ]
  }
 ],
 "metadata": {
  "kernelspec": {
   "display_name": "venv",
   "language": "python",
   "name": "python3"
  },
  "language_info": {
   "codemirror_mode": {
    "name": "ipython",
    "version": 3
   },
   "file_extension": ".py",
   "mimetype": "text/x-python",
   "name": "python",
   "nbconvert_exporter": "python",
   "pygments_lexer": "ipython3",
   "version": "3.13.5"
  }
 },
 "nbformat": 4,
 "nbformat_minor": 5
}
