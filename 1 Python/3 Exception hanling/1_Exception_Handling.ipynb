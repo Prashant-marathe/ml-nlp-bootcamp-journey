{
 "cells": [
  {
   "cell_type": "markdown",
   "id": "bb9d0aa8",
   "metadata": {},
   "source": [
    "## Understanding Exceptions\n",
    "- Exception Handling in Python allows you to handle errors garcefully and take corrective actions without stopping the execution of the program.\n",
    "\n",
    "**What are exceptions**\n",
    "Exceptions are events that disrupt the normal flow of program. They occur when an error is encpuntered during program execution. Common exceptions include:\n",
    "- ZeroDivisionError : Dividing by 0\n",
    "- FileNotFoundError : file not found\n",
    "- ValueError : invalid value"
   ]
  },
  {
   "cell_type": "code",
   "execution_count": 1,
   "id": "155a2f35",
   "metadata": {},
   "outputs": [
    {
     "name": "stdout",
     "output_type": "stream",
     "text": [
      "The variable b has not been defined\n"
     ]
    }
   ],
   "source": [
    "# handling and exception using try, except block\n",
    "try:\n",
    "    a=b\n",
    "except:\n",
    "    print('The variable b has not been defined')"
   ]
  },
  {
   "cell_type": "code",
   "execution_count": 2,
   "id": "82c81f26",
   "metadata": {},
   "outputs": [
    {
     "name": "stdout",
     "output_type": "stream",
     "text": [
      "name 'b' is not defined\n"
     ]
    }
   ],
   "source": [
    "# Using Built_In error classes\n",
    "try: \n",
    "    a=b\n",
    "except NameError as ex:\n",
    "    print(ex)"
   ]
  },
  {
   "cell_type": "code",
   "execution_count": 5,
   "id": "cd131ba8",
   "metadata": {},
   "outputs": [
    {
     "name": "stdout",
     "output_type": "stream",
     "text": [
      "division by zero\n",
      "Please enter the denominator greater than 0\n"
     ]
    }
   ],
   "source": [
    "# result = 1 / 0\n",
    "try :\n",
    "    result = 1/0\n",
    "except ZeroDivisionError as ex:\n",
    "    print(ex)\n",
    "    print('Please enter the denominator greater than 0')"
   ]
  },
  {
   "cell_type": "code",
   "execution_count": null,
   "id": "8f41e230",
   "metadata": {},
   "outputs": [
    {
     "name": "stdout",
     "output_type": "stream",
     "text": [
      "name 'b' is not defined\n"
     ]
    }
   ],
   "source": [
    "# Using the main parent Exception class to handle multiple types of exception\n",
    "try:\n",
    "    result = 1/1\n",
    "    a = b \n",
    "except ZeroDivisionError as e:\n",
    "    print(e)\n",
    "except Exception as e:\n",
    "    print(e)\n",
    "\n",
    "#* Always use the parent 'Exception' class at the end of the try except block."
   ]
  },
  {
   "cell_type": "code",
   "execution_count": 10,
   "id": "3d4eda24",
   "metadata": {},
   "outputs": [
    {
     "name": "stdout",
     "output_type": "stream",
     "text": [
      "0.29411764705882354\n"
     ]
    }
   ],
   "source": [
    "# Handling multiple exceptions\n",
    "try:\n",
    "    num = int(input('Enter a number to divide by 10: '))\n",
    "    result = 10/ num\n",
    "    print(result)\n",
    "except ValueError:\n",
    "    print('Please enter a valid number!')\n",
    "except ZeroDivisionError:\n",
    "    print('Cannot divide by 0!!')\n",
    "except Exception as ex:\n",
    "    print(ex)"
   ]
  },
  {
   "cell_type": "code",
   "execution_count": null,
   "id": "a81248b3",
   "metadata": {},
   "outputs": [
    {
     "name": "stdout",
     "output_type": "stream",
     "text": [
      "The result of Division: 0.23255813953488372\n"
     ]
    }
   ],
   "source": [
    "# try, catch, and else block : \n",
    "try:\n",
    "    num = int(input('Enter a number to divide by 10: '))\n",
    "    result = 10/ num\n",
    "except ValueError:\n",
    "    print('Please enter a valid number!')\n",
    "except ZeroDivisionError:\n",
    "    print('Cannot divide by 0!!')\n",
    "except Exception as ex:\n",
    "    print(ex)\n",
    "else:  # Gets executed only after the try block gets executed \n",
    "    print(f\"The result of Division: {result}\")"
   ]
  },
  {
   "cell_type": "code",
   "execution_count": 15,
   "id": "ddd9dde9",
   "metadata": {},
   "outputs": [
    {
     "name": "stdout",
     "output_type": "stream",
     "text": [
      "Please enter a valid number!\n",
      "Execution Successful\n"
     ]
    }
   ],
   "source": [
    "# try, except, else, finally\n",
    "try:\n",
    "    num = int(input('Enter a number to divide by 10: '))\n",
    "    result = 10/ num\n",
    "except ValueError:\n",
    "    print('Please enter a valid number!')\n",
    "except ZeroDivisionError:\n",
    "    print('Cannot divide by 0!!')\n",
    "except Exception as ex:\n",
    "    print(ex)\n",
    "else:  # Gets executed only after the try block gets executed \n",
    "    print(f\"The result of Division: {result}\")\n",
    "finally:  # Gets executed no matter the result of the operation\n",
    "    print('Execution Successful')"
   ]
  },
  {
   "cell_type": "code",
   "execution_count": null,
   "id": "4080f66e",
   "metadata": {},
   "outputs": [
    {
     "name": "stdout",
     "output_type": "stream",
     "text": [
      "The file not found\n"
     ]
    }
   ],
   "source": [
    "# file and exception handling\n",
    "try:\n",
    "    file = open('example.txt', 'r')\n",
    "    content = file.read()\n",
    "    print(content)\n",
    "except FileNotFoundError:\n",
    "    print('The file not found')\n",
    "except Exception as e:\n",
    "    print(e)\n",
    "else:\n",
    "    if 'file' in locals() or not file.closed():\n",
    "        file.close()\n",
    "        print('File closed successfully')\n"
   ]
  }
 ],
 "metadata": {
  "kernelspec": {
   "display_name": "venv",
   "language": "python",
   "name": "python3"
  },
  "language_info": {
   "codemirror_mode": {
    "name": "ipython",
    "version": 3
   },
   "file_extension": ".py",
   "mimetype": "text/x-python",
   "name": "python",
   "nbconvert_exporter": "python",
   "pygments_lexer": "ipython3",
   "version": "3.13.5"
  }
 },
 "nbformat": 4,
 "nbformat_minor": 5
}
