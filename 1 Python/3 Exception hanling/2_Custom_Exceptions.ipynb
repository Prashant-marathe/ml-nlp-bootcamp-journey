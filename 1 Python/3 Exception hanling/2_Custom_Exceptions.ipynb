{
 "cells": [
  {
   "cell_type": "markdown",
   "id": "6bf321b8",
   "metadata": {},
   "source": [
    "## Custom exception (Raise and Throw an exception)\n",
    "What are Custom Exceptions?\n",
    "- Python already has many built-in exceptions (ValueError, TypeError, ZeroDivisionError, etc.).\n",
    "- But sometimes in your application, you want to define your own error type that makes more sense.\n",
    "- You do this by creating a custom exception class (usually inheriting from Exception)."
   ]
  },
  {
   "cell_type": "code",
   "execution_count": 1,
   "id": "48e1fc28",
   "metadata": {},
   "outputs": [],
   "source": [
    "class Error(Exception):\n",
    "    pass\n",
    "\n",
    "class DOBexception(Error):\n",
    "    pass"
   ]
  },
  {
   "cell_type": "code",
   "execution_count": 5,
   "id": "30905223",
   "metadata": {},
   "outputs": [
    {
     "name": "stdout",
     "output_type": "stream",
     "text": [
      "Your age matches the position requirements.\n"
     ]
    }
   ],
   "source": [
    "# Now, let's use our custom exception DOBexception\n",
    "\n",
    "year = int(input('Enter your Date of Birth:'))\n",
    "age = 2024-year\n",
    "\n",
    "try:\n",
    "    if age >= 20 and age <= 30:\n",
    "        print('Your age matches the position requirements.')\n",
    "    else:\n",
    "        raise DOBexception\n",
    "except DOBexception:\n",
    "    print('You don\"t fit into the job criteria for the position.')"
   ]
  }
 ],
 "metadata": {
  "kernelspec": {
   "display_name": "venv",
   "language": "python",
   "name": "python3"
  },
  "language_info": {
   "codemirror_mode": {
    "name": "ipython",
    "version": 3
   },
   "file_extension": ".py",
   "mimetype": "text/x-python",
   "name": "python",
   "nbconvert_exporter": "python",
   "pygments_lexer": "ipython3",
   "version": "3.13.5"
  }
 },
 "nbformat": 4,
 "nbformat_minor": 5
}
