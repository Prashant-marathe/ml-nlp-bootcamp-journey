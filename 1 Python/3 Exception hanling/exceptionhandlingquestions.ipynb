{
 "cells": [
  {
   "cell_type": "markdown",
   "metadata": {},
   "source": [
    "# Module: Exception Handling Assignments\n",
    "## Lesson: Exception Handling with try, except, and finally\n",
    "### Assignment 1: Handling Division by Zero\n",
    "\n",
    "Write a function that takes two integers as input and returns their division. Use try, except, and finally blocks to handle division by zero and print an appropriate message.\n",
    "\n",
    "### Assignment 2: File Reading with Exception Handling\n",
    "\n",
    "Write a function that reads the contents of a file named `data.txt`. Use try, except, and finally blocks to handle file not found errors and ensure the file is properly closed.\n",
    "\n",
    "### Assignment 3: Handling Multiple Exceptions\n",
    "\n",
    "Write a function that takes a list of integers and returns their sum. Use try, except, and finally blocks to handle TypeError if a non-integer value is encountered and print an appropriate message.\n",
    "\n",
    "### Assignment 4: Exception Handling in User Input\n",
    "\n",
    "Write a function that prompts the user to enter an integer. Use try, except, and finally blocks to handle ValueError if the user enters a non-integer value and print an appropriate message.\n",
    "\n",
    "### Assignment 5: Exception Handling in Dictionary Access\n",
    "\n",
    "Write a function that takes a dictionary and a key as input and returns the value associated with the key. Use try, except, and finally blocks to handle KeyError if the key is not found in the dictionary and print an appropriate message.\n",
    "\n",
    "### Assignment 6: Nested Exception Handling\n",
    "\n",
    "Write a function that performs nested exception handling. It should first attempt to convert a string to an integer, and then attempt to divide by that integer. Use nested try, except, and finally blocks to handle ValueError and ZeroDivisionError and print appropriate messages.\n",
    "\n",
    "### Assignment 7: Exception Handling in List Operations\n",
    "\n",
    "Write a function that takes a list and an index as input and returns the element at the given index. Use try, except, and finally blocks to handle IndexError if the index is out of range and print an appropriate message.\n",
    "\n",
    "### Assignment 8: Exception Handling in Network Operations\n",
    "\n",
    "Write a function that attempts to open a URL and read its contents. Use try, except, and finally blocks to handle network-related errors and print an appropriate message.\n",
    "\n",
    "### Assignment 9: Exception Handling in JSON Parsing\n",
    "\n",
    "Write a function that attempts to parse a JSON string. Use try, except, and finally blocks to handle JSONDecodeError if the string is not a valid JSON and print an appropriate message.\n",
    "\n",
    "### Assignment 10: Custom Exception Handling\n",
    "\n",
    "Define a custom exception named `NegativeNumberError`. Write a function that raises this exception if a negative number is encountered in a list. Use try, except, and finally blocks to handle the custom exception and print an appropriate message.\n",
    "\n",
    "### Assignment 11: Exception Handling in Function Calls\n",
    "\n",
    "Write a function that calls another function which may raise an exception. Use try, except, and finally blocks to handle the exception and print an appropriate message.\n",
    "\n",
    "### Assignment 12: Exception Handling in Class Methods\n",
    "\n",
    "Define a class with a method that performs a division operation. Use try, except, and finally blocks within the method to handle division by zero and print an appropriate message.\n",
    "\n",
    "### Assignment 13: Exception Handling in Data Conversion\n",
    "\n",
    "Write a function that takes a list of strings and converts them to integers. Use try, except, and finally blocks to handle ValueError if a string cannot be converted and print an appropriate message.\n",
    "\n",
    "### Assignment 14: Exception Handling in List Comprehensions\n",
    "\n",
    "Write a function that uses a list comprehension to convert a list of strings to integers. Use try, except, and finally blocks within the list comprehension to handle ValueError and print an appropriate message.\n",
    "\n",
    "### Assignment 15: Exception Handling in File Writing\n",
    "\n",
    "Write a function that attempts to write a list of strings to a file. Use try, except, and finally blocks to handle IOError and ensure the file is properly closed."
   ]
  },
  {
   "cell_type": "code",
   "execution_count": 2,
   "id": "3d1ea07f",
   "metadata": {},
   "outputs": [
    {
     "name": "stdout",
     "output_type": "stream",
     "text": [
      "Result of the division: 1.0\n"
     ]
    }
   ],
   "source": [
    "def division(a, b):\n",
    "    return a/b\n",
    "\n",
    "try:\n",
    "    result = division(10, 10)\n",
    "    print(f'Result of the division: {result}')\n",
    "except ZeroDivisionError:\n",
    "    print('Cannot divide by zero') \n",
    "except Exception as e:\n",
    "    print(e)\n"
   ]
  },
  {
   "cell_type": "code",
   "execution_count": 15,
   "id": "1286df3d",
   "metadata": {},
   "outputs": [
    {
     "name": "stdout",
     "output_type": "stream",
     "text": [
      "File does not exist\n"
     ]
    }
   ],
   "source": [
    "try:\n",
    "    file = open('data.txt', 'r')\n",
    "    content = file.read()\n",
    "    print(content)\n",
    "except FileNotFoundError:\n",
    "    print('File does not exist')\n",
    "finally:\n",
    "    if 'file' in locals() and not file.closed:\n",
    "        file.close()\n",
    "        print('File closed successfully')"
   ]
  },
  {
   "cell_type": "code",
   "execution_count": 22,
   "id": "acb8104e",
   "metadata": {},
   "outputs": [
    {
     "name": "stdout",
     "output_type": "stream",
     "text": [
      "Please enter a valid integer\n",
      "Exception handled successfully\n"
     ]
    }
   ],
   "source": [
    "def add(a, b):\n",
    "    return a+b\n",
    "try:\n",
    "    result = add('10', 5) \n",
    "    print(f'Result of addition: {result}')\n",
    "except TypeError:\n",
    "    print('Please enter a valid integer')\n",
    "except Exception as e:\n",
    "    print(e)\n",
    "finally:\n",
    "    print('Exception handled successfully')"
   ]
  },
  {
   "cell_type": "code",
   "execution_count": 25,
   "id": "5e502c79",
   "metadata": {},
   "outputs": [
    {
     "name": "stdout",
     "output_type": "stream",
     "text": [
      "Please enter a valid integer\n",
      "Exception handled successfully.\n"
     ]
    }
   ],
   "source": [
    "try:\n",
    "    num = int(input('Enter a number: '))\n",
    "    print(num)\n",
    "except ValueError:\n",
    "    print('Please enter a valid integer')\n",
    "except Exception as e:\n",
    "    print(e)\n",
    "finally:\n",
    "    print('Exception handled successfully.')"
   ]
  },
  {
   "cell_type": "code",
   "execution_count": 28,
   "id": "ceaaa6dd",
   "metadata": {},
   "outputs": [
    {
     "name": "stdout",
     "output_type": "stream",
     "text": [
      "20\n",
      "Exception handled successfully.\n"
     ]
    }
   ],
   "source": [
    "student = {\n",
    "    'name':'prashant marathe',\n",
    "    'age':20,\n",
    "    'gender':'male'\n",
    "}\n",
    "def get_value(student, key):\n",
    "    return student[key]\n",
    "\n",
    "try:\n",
    "    key = input('Enter the key: ')\n",
    "    value = get_value(student, key)\n",
    "    print(value)\n",
    "except KeyError:\n",
    "    print(f'{key} does not exist.')\n",
    "except Exception as e:\n",
    "    print(e)\n",
    "finally:\n",
    "    print('Exception handled successfully.')"
   ]
  },
  {
   "cell_type": "code",
   "execution_count": 29,
   "id": "83ad9b7c",
   "metadata": {},
   "outputs": [
    {
     "name": "stdout",
     "output_type": "stream",
     "text": [
      "cannot convert an string to an integer.\n",
      "Cannot divide by zero.\n",
      "Exceptions handles successfully\n"
     ]
    }
   ],
   "source": [
    "def nested_exception():\n",
    "    try:\n",
    "        name = input('Enter you name: ')\n",
    "        try:\n",
    "            int_name = int(name)\n",
    "        except ValueError:\n",
    "            print('cannot convert an string to an integer.')\n",
    "        num = int(input('Enter a number: '))\n",
    "        result = num / 0\n",
    "    except ZeroDivisionError:\n",
    "        print('Cannot divide by zero.')\n",
    "    except Exception as e:\n",
    "        print(e)\n",
    "    finally:\n",
    "        print('Exceptions handles successfully')\n",
    "\n",
    "nested_exception()"
   ]
  },
  {
   "cell_type": "code",
   "execution_count": 34,
   "id": "93cd0536",
   "metadata": {},
   "outputs": [
    {
     "name": "stdout",
     "output_type": "stream",
     "text": [
      "The number at index 0 is 1.\n",
      "Exception handled successfully.\n"
     ]
    }
   ],
   "source": [
    "numbers = [1,2,3,4,5,6,7,8,9,10]\n",
    "\n",
    "def get_number(numbers, index):\n",
    "    return numbers[index]\n",
    "\n",
    "try:\n",
    "    index = int(input('Enter the index of the number you want to print: '))\n",
    "    number = get_number(numbers, index)\n",
    "    print(f'The number at index {index} is {number}.')\n",
    "except IndexError:\n",
    "    print('Index out of range!! Please enter the index value between 0-10')\n",
    "except Exception as e:\n",
    "    print(e)\n",
    "finally:\n",
    "    print('Exception handled successfully.')"
   ]
  },
  {
   "cell_type": "code",
   "execution_count": 37,
   "id": "4f8d995c",
   "metadata": {},
   "outputs": [
    {
     "name": "stdout",
     "output_type": "stream",
     "text": [
      "Failed to reach server: [Errno 11001] getaddrinfo failed\n",
      "Execution finished (cleaning up if needed).\n",
      "HTTP Error: 403 - Forbidden\n",
      "Execution finished (cleaning up if needed).\n"
     ]
    }
   ],
   "source": [
    "import urllib.request\n",
    "import urllib.error\n",
    "\n",
    "def fetch_url(url):\n",
    "    try:\n",
    "        # Attempt to open the URL\n",
    "        response = urllib.request.urlopen(url)\n",
    "        content = response.read().decode('utf-8')\n",
    "        print('URL contents successfully fetched!!')\n",
    "        return content\n",
    "    except urllib.error.HTTPError as e:\n",
    "        print(f'HTTP Error: {e.code} - {e.reason}')\n",
    "    except urllib.error.URLError as e:\n",
    "        print(f'Failed to reach server: {e.reason}')\n",
    "    except Exception as e:\n",
    "        print(f'An unexpected error occured: {e}')\n",
    "    finally:\n",
    "        print('Execution finished (cleaning up if needed).')\n",
    "\n",
    "\n",
    "fetch_url('https://gkejfjfdlfdjfdfj.com/c/68aa9da5-1d08-8327-89dd-a3efba956f1b')\n",
    "\n",
    "fetch_url('https://chatgpt.com/c/68aa9da5-1d08-8327-89dd-a3efba956f1b')"
   ]
  },
  {
   "cell_type": "code",
   "execution_count": 8,
   "id": "a0874fbe",
   "metadata": {},
   "outputs": [
    {
     "name": "stdout",
     "output_type": "stream",
     "text": [
      "{\"name\": \"prashant\", \"age\": 20, \"gender\": \"male\"}\n",
      "Operation finished\n",
      "\"{name: Prashant, age: 20}\"\n",
      "Operation finished\n"
     ]
    }
   ],
   "source": [
    "import json\n",
    "\n",
    "valid_json_string = {\n",
    "    'name':'prashant',\n",
    "    'age':20,\n",
    "    'gender':'male'\n",
    "}\n",
    "data = \"{name: Prashant, age: 20}\" \n",
    "def json_parser(json_string):\n",
    "    try:\n",
    "        pure_json = json.dumps(json_string)\n",
    "        print(pure_json)\n",
    "    except json.JSONDECODEERROR:\n",
    "        print('Please enter a valid json format.')\n",
    "    except Exception as e:\n",
    "        print(e)\n",
    "    finally:\n",
    "        print('Operation finished')\n",
    "\n",
    "json_parser(valid_json_string)\n",
    "json_parser(data)\n"
   ]
  },
  {
   "cell_type": "code",
   "execution_count": 12,
   "id": "430a56c0",
   "metadata": {},
   "outputs": [
    {
     "name": "stdout",
     "output_type": "stream",
     "text": [
      "The list cannot have negetive numbers!! Please enter positive numbers\n",
      "Operation Complete\n"
     ]
    }
   ],
   "source": [
    "class Error(Exception):\n",
    "    pass\n",
    "\n",
    "class NegetiveNumberError(Error):\n",
    "    pass\n",
    "\n",
    "def custom_exception():\n",
    "    numbers = [1,2,3,4,5]\n",
    "    try:\n",
    "        num = int(input('Enter a number:'))\n",
    "        if num >= 0:\n",
    "            numbers.append(num)\n",
    "        else:\n",
    "            raise NegetiveNumberError\n",
    "        print(numbers)\n",
    "    except NegetiveNumberError:\n",
    "        print('The list cannot have negetive numbers!! Please enter positive numbers')\n",
    "    except Error as e:\n",
    "        print(e)\n",
    "    finally:\n",
    "        print('Operation Complete')\n",
    "\n",
    "custom_exception()"
   ]
  },
  {
   "cell_type": "code",
   "execution_count": 19,
   "id": "d5b8a884",
   "metadata": {},
   "outputs": [
    {
     "name": "stdout",
     "output_type": "stream",
     "text": [
      "1.0\n",
      "Exception handled successfully\n"
     ]
    }
   ],
   "source": [
    "def division(a , b):\n",
    "    return a/b\n",
    "\n",
    "def handle_exception(division):\n",
    "    try:\n",
    "        num1 = int(input('Enter a number 1: '))\n",
    "        num2 = int(input('Enter a number 2: '))\n",
    "        result = division(num1, num2)\n",
    "        print(result)\n",
    "    except ZeroDivisionError:\n",
    "        print('Cannot divide by zero')\n",
    "    except Exception as e:\n",
    "        print(e)\n",
    "    finally:\n",
    "        print('Exception handled successfully')\n",
    "\n",
    "handle_exception(division)"
   ]
  },
  {
   "cell_type": "code",
   "execution_count": 21,
   "id": "1db039d3",
   "metadata": {},
   "outputs": [
    {
     "name": "stdout",
     "output_type": "stream",
     "text": [
      "1.0\n"
     ]
    }
   ],
   "source": [
    "class Errorhandling:\n",
    "    def __init__(self, num1, num2):\n",
    "        self.num1 = num1\n",
    "        self.num2 = num2\n",
    "\n",
    "    def divide(self):\n",
    "        try:\n",
    "            result = self.num1 / self.num2\n",
    "            print(result)\n",
    "        except ZeroDivisionError:\n",
    "            print('Cannot divide by Zero')\n",
    "        \n",
    "errorhandler = Errorhandling(10, 10)\n",
    "errorhandler.divide()"
   ]
  },
  {
   "cell_type": "code",
   "execution_count": 28,
   "id": "f524195b",
   "metadata": {},
   "outputs": [
    {
     "name": "stdout",
     "output_type": "stream",
     "text": [
      "Processing Complete: 10\n",
      "Processing Complete: 20\n",
      "ValueError: Cannot convert abc to integer\n",
      "Processing Complete: 20\n",
      "Processing Complete: 40\n",
      "ValueError: Cannot convert xyz to integer\n",
      "Processing Complete: 40\n",
      "None\n"
     ]
    }
   ],
   "source": [
    "def str_to_int(str_list):\n",
    "    numbers = []\n",
    "    for s in str_list:\n",
    "        try:\n",
    "            num = int(s)\n",
    "            numbers.append(s)\n",
    "        except ValueError:\n",
    "            print(f'ValueError: Cannot convert {s} to integer')\n",
    "        finally:\n",
    "            print(f'Processing Complete: {num}')\n",
    "\n",
    "str_list = ['10', '20', 'abc', '40', 'xyz']\n",
    "result = str_to_int(str_list)\n",
    "print(result)"
   ]
  },
  {
   "cell_type": "code",
   "execution_count": 4,
   "id": "d79454ac",
   "metadata": {},
   "outputs": [
    {
     "name": "stdout",
     "output_type": "stream",
     "text": [
      "File closed successfully\n"
     ]
    }
   ],
   "source": [
    "def writeintofile(lst):\n",
    "    file = open('data.txt', 'a')\n",
    "    try:\n",
    "        for item in lst:\n",
    "            file.write(item)\n",
    "    except IOError:\n",
    "        print('Error writing into the file')\n",
    "    except Exception as e:\n",
    "        print(e)\n",
    "    finally:\n",
    "        if 'file' in locals() and not file.closed:\n",
    "            file.close()\n",
    "            print('File closed successfully')\n",
    "\n",
    "lst = ['prashant\\n', 'prince\\n', 'pranav\\n', 'pankaj\\n', 'pavan\\n']\n",
    "writeintofile(lst)"
   ]
  },
  {
   "cell_type": "code",
   "execution_count": 1,
   "id": "2f7d7e3d",
   "metadata": {},
   "outputs": [
    {
     "name": "stdout",
     "output_type": "stream",
     "text": [
      "Finished Processing: \"10\"\n",
      "Finished Processing: \"20\"\n",
      "ValueError: cannot convert \"abc\" ro integer\n",
      "Finished Processing: \"abc\"\n",
      "Finished Processing: \"30\"\n",
      "ValueError: cannot convert \"4.5\" ro integer\n",
      "Finished Processing: \"4.5\"\n",
      "Finished Processing: \"50\"\n",
      "Converted integers: [10, 20, None, 30, None, 50]\n"
     ]
    }
   ],
   "source": [
    "def safe_int_convert(s):\n",
    "    try:\n",
    "        return int(s)\n",
    "    except ValueError:\n",
    "        print(f'ValueError: cannot convert \"{s}\" ro integer')\n",
    "    finally:\n",
    "        print(f'Finished Processing: \"{s}\"')\n",
    "\n",
    "def convert_list(str_list):\n",
    "    return [safe_int_convert(s) for s in str_list]\n",
    "\n",
    "data = [\"10\", \"20\", \"abc\", \"30\", \"4.5\", \"50\"]\n",
    "result = convert_list(data)\n",
    "print(\"Converted integers:\", result)"
   ]
  },
  {
   "cell_type": "code",
   "execution_count": null,
   "id": "4e873684",
   "metadata": {},
   "outputs": [],
   "source": []
  },
  {
   "cell_type": "code",
   "execution_count": null,
   "metadata": {},
   "outputs": [],
   "source": []
  }
 ],
 "metadata": {
  "kernelspec": {
   "display_name": "venv",
   "language": "python",
   "name": "python3"
  },
  "language_info": {
   "codemirror_mode": {
    "name": "ipython",
    "version": 3
   },
   "file_extension": ".py",
   "mimetype": "text/x-python",
   "name": "python",
   "nbconvert_exporter": "python",
   "pygments_lexer": "ipython3",
   "version": "3.13.5"
  }
 },
 "nbformat": 4,
 "nbformat_minor": 5
}
