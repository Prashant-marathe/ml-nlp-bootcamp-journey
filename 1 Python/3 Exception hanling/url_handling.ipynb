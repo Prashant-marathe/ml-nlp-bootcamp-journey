{
 "cells": [
  {
   "cell_type": "markdown",
   "id": "5cb2ed8d",
   "metadata": {},
   "source": [
    "## What is urllib?\n",
    "\n",
    "- urllib is a standard Python library used for fetching data across the web (HTTP/HTTPS).\n",
    "\n",
    "- It has submodules that handle different tasks:\n",
    "\n",
    "- **urllib.request** → open and read URLs\n",
    "\n",
    "- **urllib.error** → exceptions related to requests\n",
    "\n",
    "- **urllib.parse** → URL parsing and building\n",
    "\n",
    "- **urllib.robotparser** → parse robots.txt files"
   ]
  },
  {
   "cell_type": "markdown",
   "id": "944da849",
   "metadata": {},
   "source": [
    "**urllib.request -> making requests**\n",
    "This is the most used part of the urllib"
   ]
  },
  {
   "cell_type": "code",
   "execution_count": null,
   "id": "2582d640",
   "metadata": {},
   "outputs": [],
   "source": [
    "# a) urlopen() : Opens a url (like opening a file).\n",
    "import urllib.request\n",
    "\n",
    "response = urllib.request.urlopen('https://chatgpt.com/c/68aa9da5-1d08-8327-89dd-a3efba956f1b')\n",
    "print(response.status)   # HTTP status code (200 = OK)\n",
    "content = response.read().decode('utf-8')\n"
   ]
  },
  {
   "cell_type": "code",
   "execution_count": 3,
   "id": "003525b8",
   "metadata": {},
   "outputs": [
    {
     "name": "stdout",
     "output_type": "stream",
     "text": [
      "<!doctype html><html itemscope=\"\" itemtype=\"http://schema.org/WebPage\" lang=\"en-IN\"><head><meta content=\"text/html; charset=UTF-8\" http-equiv=\"Content-Type\"><meta content=\"/images/branding/googleg/1x/googleg_standard_color_128dp.png\" itemprop=\"image\"><title>Google</title><script nonce=\"48YFmsSeYid_WdFr-NS_FA\">(function(){var _g={kEI:'ELCqaI2MKtmb5OUPn7TamQM',kEXPI:'0,202854,2,32,3497404,1092,538661,48791,30022,16105,344796,270476,19568,11106,5230576,622,36812020,25366949,14110,22917,42250,6758,23879,9139,4599,328,6225,28719,35446,15048,8206,3292,4134,30379,28334,42888,10065,1259,352,18880,5870,7714,5773,18859,8753,3050,2,1357,1147,10968,6251,35,3420,2864,2882,7738,2820,9287,5683,3605,17771,2731,15268,918,1,360,678,3544,4,4,5746,3,5344,929,809,1856,3,1760,1219,1,3463,2,1323,359,2418,88,7,1970,1033,1579,2254,5,2599,6723,1,3018,2646,103,4,1,320,5100,670,2260,1842,4,6124,484,2303,3445,176,1410,746,2242,7042,1649,5,155,18,1944,216,1158,123,405,185,2,1,260,1120,31,104,3355,2,534,520,2171,673,403,151,227,1,1328,2,1281,66,5,1,681,128,43,1645,1675,6,32,24,513,750,571,259,178,3,4,2,2820,4,5,1,36,1,64,251,1620,9,1,2038,980,225,528,518,1322,140,6,1301,601,844,24,1092,538,3,574,259,1629,2023,426,604,12,136,3026,30,766,27,2315,1004,1121,202,1152,1416,1578,102,868,237,1914,586,3,434,1412,454,517,18,959,474,287,785,444,709,512,765,7,4,7,250,238,5,73,356,324,33,2,1078,209,373,477,621,196,2692,493,674,7,823,315,4,230,574,17,584,646,371,2633,509,50,90,332,210,25,133,340,322,134,70,682,313,42,59,249,2,230,289,1,823,46,168,522,65,1601,49,86,169,44,5,278,818,211,5,68,362,608,1,196,1,2,12,16,170,277,1,57,1567,242,42,11,416,487,111,389,652,44,66,277,343,149,1018,4,446,2,12,385,230,123,410,4,195,80,438,2,99,506,154,832,845,19,232,2082,1348,2,86,1,414,21166125,2644,5,2253,739,4,2700,101,159,3,1308,1929,5254,2,1562,3,2442,3,1927,101,2433,663,178,569,1271,588,701,209,159,1032,177,96,337,159,84,79,1049,8485238,28615,160442,2109412',kBL:'73NC',kOPI:89978449};(function(){var a;((a=window.google)==null?0:a.stvsc)?google.kEI=_g.kEI:window.google=_g;}).call(this);})();(function(){google.sn='webhp';google.kHL='en-IN';})();(function(){\n",
      "var g=this||self;function k(){return window.google&&window.google.kOPI||null};var l,m=[];function n(a){for(var b;a&&(!a.getAttribute||!(b=a.getAttribute(\"eid\")));)a=a.parentNode;return b||l}function p(a){for(var b=null;a&&(!a.getAttribute||!(b=a.getAttribute(\"leid\")));)a=a.parentNode;return b}function q(a){/^http:/i.test(a)&&window.location.protocol===\"https:\"&&(google.ml&&google.ml(Error(\"a\"),!1,{src:a,glmm:1}),a=\"\");return a}\n",
      "function r(a,b,d,c,h){var e=\"\";b.search(\"&ei=\")===-1&&(e=\"&ei=\"+n(c),b.search(\"&lei=\")===-1&&(c=p(c))&&(e+=\"&lei=\"+c));var f=b.search(\"&cshid=\")===-1&&a!==\"slh\";c=\"&zx=\"+Date.now().toString();g._cshid&&f&&(c+=\"&cshid=\"+g._cshid);(d=d())&&(c+=\"&opi=\"+d);return\"/\"+(h||\"gen_204\")+\"?atyp=i&ct=\"+String(a)+\"&cad=\"+(b+e+c)};l=google.kEI;google.getEI=n;google.getLEI=p;google.ml=function(){return null};google.log=function(a,b,d,c,h,e){e=e===void 0?k:e;d||(d=r(a,b,e,c,h));if(d=q(d)){a=new Image;var f=m.length;m[f]=a;a.onerror=a.onload=a.onabort=function(){delete m[f]};a.src=d}};google.logUrl=function(a,b){b=b===void 0?k:b;return r(\"\",a,b)};}).call(this);(function(){google.y={};google.sy={};function e(a,b,c){if(a)var d=a.id;else{do d=Math.random();while(c[d])}c[d]=[a,b]}var f;(f=google).x||(f.x=function(a,b){e(a,b,google.y)});var g;(g=google).sx||(g.sx=function(a,b){e(a,b,google.sy)});google.lm=[];var h;(h=google).plm||(h.plm=function(a){google.lm.push.apply(google.lm,a)});google.lq=[];var k;(k=google).load||(k.load=function(a,b,c){google.lq.push([[a],b,c])});var l;(l=google).loadAll||(l.loadAll=function(a,b){google.lq.push([a,b])});google.bx=!1;var m;(m=google).lx||(m.lx=function(){});var n=[],p;(p=google).fce||(p.fce=function(a,b,c,d){n.push([a,b,c,d])});google.qce=n;google.adl=[];}).call(this);google.f={};(function(){\n",
      "document.documentElement.addEventListener(\"submit\",function(b){var a;if(a=b.target){var c=a.getAttribute(\"data-submitfalse\");a=c===\"1\"||c===\"q\"&&!a.elements.q.value?!0:!1}else a=!1;a&&(b.preventDefault(),b.stopPropagation())},!0);document.documentElement.addEventListener(\"click\",function(b){var a;a:{for(a=b.target;a&&a!==document.documentElement;a=a.parentElement)if(a.tagName===\"A\"){a=a.getAttribute(\"data-nohref\")===\"1\";break a}a=!1}a&&b.preventDefault()},!0);}).call(this);</script><style>#gbar,#guser{font-size:13px;padding-top:1px !important;}#gbar{height:22px}#guser{padding-bottom:7px !important;text-align:right}.gbh,.gbd{border-top:1px solid #c9d7f1;font-size:1px}.gbh{height:0;position:absolute;top:24px;width:100%}@media all{.gb1{height:22px;margin-right:.5em;vertical-align:top}#gbar{float:left}}a.gb1,a.gb4{text-decoration:underline !important}a.gb1,a.gb4{color:#00c !important}.gbi .gb4{color:#dd8e27 !important}.gbf .gb4{color:#900 !important}\n",
      "</style><style>body,td,a,p,.h{font-family:sans-serif}body{margin:0;overflow-y:scroll}#gog{padding:3px 8px 0}td{line-height:.8em}.gac_m td{line-height:17px}form{margin-bottom:20px}.h{color:#1967d2}em{font-weight:bold;font-style:normal}.lst{height:25px;width:496px}.gsfi,.lst{font:18px sans-serif}.gsfs{font:17px sans-serif}.ds{display:inline-box;display:inline-block;margin:3px 0 4px;margin-left:4px}input{font-family:inherit}body{background:#fff;color:#1f1f1f}a{color:#681da8;text-decoration:none}a:hover,a:active{text-decoration:underline}.fl a{color:#1967d2}a:visited{color:#681da8}.sblc{padding-top:5px}.sblc a{display:block;margin:2px 0;margin-left:13px;font-size:11px}.lsbb{background:#f8f9fa;border:solid 1px;border-color:#dadce0 #70757a #70757a #dadce0;height:30px}.lsbb{display:block}#WqQANb a{display:inline-block;margin:0 12px}.lsb{background:url(/images/nav_logo229.png) 0 -261px repeat-x;color:#1f1f1f;border:none;cursor:pointer;height:30px;margin:0;outline:0;font:15px sans-serif;vertical-align:top}.lsb:active{background:#dadce0}.lst:focus{outline:none}</style><script nonce=\"48YFmsSeYid_WdFr-NS_FA\">(function(){window.google.erd={jsr:1,bv:2277,de:true,dpf:'96Bj6q3iYepoEKsdx8P87YeYAC8EpWg-mOENYBwSpN8'};\n",
      "var g=this||self;var k,l=(k=g.mei)!=null?k:1,m,p=(m=g.diel)!=null?m:0,q,r=(q=g.sdo)!=null?q:!0,t=0,u,w=google.erd,x=w.jsr;google.ml=function(a,b,d,n,e){e=e===void 0?2:e;b&&(u=a&&a.message);d===void 0&&(d={});d.cad=\"ple_\"+google.ple+\".aple_\"+google.aple;if(google.dl)return google.dl(a,e,d,!0),null;b=d;if(x<0){window.console&&console.error(a,b);if(x===-2)throw a;b=!1}else b=!a||!a.message||a.message===\"Error loading script\"||t>=l&&!n?!1:!0;if(!b)return null;t++;d=d||{};b=encodeURIComponent;var c=\"/gen_204?atyp=i&ei=\"+b(google.kEI);google.kEXPI&&(c+=\"&jexpid=\"+b(google.kEXPI));c+=\"&srcpg=\"+b(google.sn)+\"&jsr=\"+b(w.jsr)+\n",
      "\"&bver=\"+b(w.bv);w.dpf&&(c+=\"&dpf=\"+b(w.dpf));var f=a.lineNumber;f!==void 0&&(c+=\"&line=\"+f);var h=a.fileName;h&&(h.indexOf(\"-extension:/\")>0&&(e=3),c+=\"&script=\"+b(h),f&&h===window.location.href&&(f=document.documentElement.outerHTML.split(\"\\n\")[f],c+=\"&cad=\"+b(f?f.substring(0,300):\"No script found.\")));google.ple&&google.ple===1&&(e=2);c+=\"&jsel=\"+e;for(var v in d)c+=\"&\",c+=b(v),c+=\"=\",c+=b(d[v]);c=c+\"&emsg=\"+b(a.name+\": \"+a.message);c=c+\"&jsst=\"+b(a.stack||\"N/A\");c.length>=12288&&(c=c.substring(0,12288));a=c;n||google.log(0,\"\",a);return a};window.onerror=function(a,b,d,n,e){u!==a&&(a=e instanceof Error?e:Error(a),d===void 0||\"lineNumber\"in a||(a.lineNumber=d),b===void 0||\"fileName\"in a||(a.fileName=b),google.ml(a,!1,void 0,!1,a.name===\"SyntaxError\"||a.message.substring(0,11)===\"SyntaxError\"||a.message.indexOf(\"Script error\")!==-1?3:p));u=null;r&&t>=l&&(window.onerror=null)};})();</script></head><body bgcolor=\"#fff\"><script nonce=\"48YFmsSeYid_WdFr-NS_FA\">(function(){var src='/images/nav_logo229.png';var iesg=false;document.body.onload = function(){window.n && window.n();if (document.images){new Image().src=src;}\n",
      "if (!iesg){document.f&&document.f.q.focus();document.gbqf&&document.gbqf.q.focus();}\n",
      "}\n",
      "})();</script><div id=\"mngb\"><div id=gbar><nobr><b class=gb1>Search</b> <a class=gb1 href=\"https://www.google.com/imghp?hl=en&tab=wi\">Images</a> <a class=gb1 href=\"https://maps.google.co.in/maps?hl=en&tab=wl\">Maps</a> <a class=gb1 href=\"https://play.google.com/?hl=en&tab=w8\">Play</a> <a class=gb1 href=\"https://www.youtube.com/?tab=w1\">YouTube</a> <a class=gb1 href=\"https://news.google.com/?tab=wn\">News</a> <a class=gb1 href=\"https://mail.google.com/mail/?tab=wm\">Gmail</a> <a class=gb1 href=\"https://drive.google.com/?tab=wo\">Drive</a> <a class=gb1 style=\"text-decoration:none\" href=\"https://www.google.co.in/intl/en/about/products?tab=wh\"><u>More</u> &raquo;</a></nobr></div><div id=guser width=100%><nobr><span id=gbn class=gbi></span><span id=gbf class=gbf></span><span id=gbe></span><a href=\"http://www.google.co.in/history/optout?hl=en\" class=gb4>Web History</a> | <a  href=\"/preferences?hl=en\" class=gb4>Settings</a> | <a target=_top id=gb_70 href=\"https://accounts.google.com/ServiceLogin?hl=en&passive=true&continue=https://www.google.com/&ec=GAZAAQ\" class=gb4>Sign in</a></nobr></div><div class=gbh style=left:0></div><div class=gbh style=right:0></div></div><center><br clear=\"all\" id=\"lgpd\"><div id=\"XjhHGf\"><img alt=\"Google\" height=\"92\" src=\"/images/branding/googlelogo/1x/googlelogo_white_background_color_272x92dp.png\" style=\"padding:28px 0 14px\" width=\"272\" id=\"hplogo\"><br><br></div><form action=\"/search\" name=\"f\"><table cellpadding=\"0\" cellspacing=\"0\"><tr valign=\"top\"><td width=\"25%\">&nbsp;</td><td align=\"center\" nowrap=\"\"><input name=\"ie\" value=\"ISO-8859-1\" type=\"hidden\"><input value=\"en-IN\" name=\"hl\" type=\"hidden\"><input name=\"source\" type=\"hidden\" value=\"hp\"><input name=\"biw\" type=\"hidden\"><input name=\"bih\" type=\"hidden\"><div class=\"ds\" style=\"height:32px;margin:4px 0\"><input class=\"lst\" style=\"margin:0;padding:5px 8px 0 6px;vertical-align:top;color:#1f1f1f\" autocomplete=\"off\" value=\"\" title=\"Google Search\" maxlength=\"2048\" name=\"q\" size=\"57\"></div><br style=\"line-height:0\"><span class=\"ds\"><span class=\"lsbb\"><input class=\"lsb\" value=\"Google Search\" name=\"btnG\" type=\"submit\"></span></span><span class=\"ds\"><span class=\"lsbb\"><input class=\"lsb\" id=\"tsuid_ELCqaI2MKtmb5OUPn7TamQM_1\" value=\"I'm Feeling Lucky\" name=\"btnI\" type=\"submit\"><script nonce=\"48YFmsSeYid_WdFr-NS_FA\">(function(){var id='tsuid_ELCqaI2MKtmb5OUPn7TamQM_1';document.getElementById(id).onclick = function(){if (this.form.q.value){this.checked = 1;if (this.form.iflsig)this.form.iflsig.disabled = false;}\n",
      "else top.location='/doodles/';};})();</script><input value=\"AOw8s4IAAAAAaKq-IAJmptbVDXqjl8vdQSyMp4aM9G4v\" name=\"iflsig\" type=\"hidden\"></span></span></td><td class=\"fl sblc\" align=\"left\" nowrap=\"\" width=\"25%\"><a href=\"/advanced_search?hl=en-IN&amp;authuser=0\">Advanced search</a></td></tr></table><input id=\"gbv\" name=\"gbv\" type=\"hidden\" value=\"1\"><script nonce=\"48YFmsSeYid_WdFr-NS_FA\">(function(){var a,b=\"1\";if(document&&document.getElementById)if(typeof XMLHttpRequest!=\"undefined\")b=\"2\";else if(typeof ActiveXObject!=\"undefined\"){var c,d,e=[\"MSXML2.XMLHTTP.6.0\",\"MSXML2.XMLHTTP.3.0\",\"MSXML2.XMLHTTP\",\"Microsoft.XMLHTTP\"];for(c=0;d=e[c++];)try{new ActiveXObject(d),b=\"2\"}catch(h){}}a=b;if(a==\"2\"&&location.search.indexOf(\"&gbv=2\")==-1){var f=google.gbvu,g=document.getElementById(\"gbv\");g&&(g.value=a);f&&window.setTimeout(function(){location.href=f},0)};}).call(this);</script></form><div style=\"font-size:83%;min-height:3.5em\"><br><div id=\"gws-output-pages-elements-homepage_additional_languages__als\"><style>#gws-output-pages-elements-homepage_additional_languages__als{font-size:small;margin-bottom:24px}#SIvCob{color:#545454;display:inline-block;line-height:28px;}#SIvCob a{}.H6sW5{display:inline-block;margin:0 2px;white-space:nowrap}.z4hgWe{display:inline-block;margin:0 2px}</style><div id=\"SIvCob\">Google offered in:  <a href=\"https://www.google.com/setprefs?sig=0_J4COJQdxEWd73amINKAEwy_VooA%3D&amp;hl=hi&amp;source=homepage&amp;sa=X&amp;ved=0ahUKEwiN1Kro56KPAxXZDbkGHR-aNjMQ2ZgBCAY\">&#2361;&#2367;&#2344;&#2381;&#2342;&#2368;</a>    <a href=\"https://www.google.com/setprefs?sig=0_J4COJQdxEWd73amINKAEwy_VooA%3D&amp;hl=bn&amp;source=homepage&amp;sa=X&amp;ved=0ahUKEwiN1Kro56KPAxXZDbkGHR-aNjMQ2ZgBCAc\">&#2476;&#2494;&#2434;&#2482;&#2494;</a>    <a href=\"https://www.google.com/setprefs?sig=0_J4COJQdxEWd73amINKAEwy_VooA%3D&amp;hl=te&amp;source=homepage&amp;sa=X&amp;ved=0ahUKEwiN1Kro56KPAxXZDbkGHR-aNjMQ2ZgBCAg\">&#3108;&#3142;&#3122;&#3137;&#3095;&#3137;</a>    <a href=\"https://www.google.com/setprefs?sig=0_J4COJQdxEWd73amINKAEwy_VooA%3D&amp;hl=mr&amp;source=homepage&amp;sa=X&amp;ved=0ahUKEwiN1Kro56KPAxXZDbkGHR-aNjMQ2ZgBCAk\">&#2350;&#2352;&#2366;&#2336;&#2368;</a>    <a href=\"https://www.google.com/setprefs?sig=0_J4COJQdxEWd73amINKAEwy_VooA%3D&amp;hl=ta&amp;source=homepage&amp;sa=X&amp;ved=0ahUKEwiN1Kro56KPAxXZDbkGHR-aNjMQ2ZgBCAo\">&#2980;&#2990;&#3007;&#2996;&#3021;</a>    <a href=\"https://www.google.com/setprefs?sig=0_J4COJQdxEWd73amINKAEwy_VooA%3D&amp;hl=gu&amp;source=homepage&amp;sa=X&amp;ved=0ahUKEwiN1Kro56KPAxXZDbkGHR-aNjMQ2ZgBCAs\">&#2711;&#2753;&#2716;&#2736;&#2750;&#2724;&#2752;</a>    <a href=\"https://www.google.com/setprefs?sig=0_J4COJQdxEWd73amINKAEwy_VooA%3D&amp;hl=kn&amp;source=homepage&amp;sa=X&amp;ved=0ahUKEwiN1Kro56KPAxXZDbkGHR-aNjMQ2ZgBCAw\">&#3221;&#3240;&#3277;&#3240;&#3233;</a>    <a href=\"https://www.google.com/setprefs?sig=0_J4COJQdxEWd73amINKAEwy_VooA%3D&amp;hl=ml&amp;source=homepage&amp;sa=X&amp;ved=0ahUKEwiN1Kro56KPAxXZDbkGHR-aNjMQ2ZgBCA0\">&#3374;&#3378;&#3375;&#3390;&#3379;&#3330;</a>    <a href=\"https://www.google.com/setprefs?sig=0_J4COJQdxEWd73amINKAEwy_VooA%3D&amp;hl=pa&amp;source=homepage&amp;sa=X&amp;ved=0ahUKEwiN1Kro56KPAxXZDbkGHR-aNjMQ2ZgBCA4\">&#2602;&#2672;&#2588;&#2622;&#2604;&#2624;</a>  </div></div></div><span id=\"footer\"><div style=\"font-size:10pt\"><div style=\"margin:19px auto;text-align:center\" id=\"WqQANb\"><a href=\"/intl/en/ads/\">Advertising</a><a href=\"http://www.google.co.in/services/\">Business Solutions</a><a href=\"/intl/en/about.html\">About Google</a><a href=\"https://www.google.com/setprefdomain?prefdom=IN&amp;prev=https://www.google.co.in/&amp;sig=K_CXsqjhtfCXdD_NakHHXaSLf4NDc%3D\">Google.co.in</a></div></div><p style=\"font-size:8pt;color:#636363\">&copy; 2025 - <a href=\"/intl/en/policies/privacy/\">Privacy</a> - <a href=\"/intl/en/policies/terms/\">Terms</a></p></span></center><script nonce=\"48YFmsSeYid_WdFr-NS_FA\">(function(){window.google.cdo={height:757,width:1440};(function(){var a=window.innerWidth,b=window.innerHeight;if(!a||!b){var c=window.document,d=c.compatMode==\"CSS1Compat\"?c.documentElement:c.body;a=d.clientWidth;b=d.clientHeight}if(a&&b&&(a!=google.cdo.width||b!=google.cdo.height)){var e=google,f=e.log,g=\"/client_204?&atyp=i&biw=\"+a+\"&bih=\"+b+\"&ei=\"+google.kEI,h=\"\",k=window.google&&window.google.kOPI||null;k&&(h+=\"&opi=\"+k);f.call(e,\"\",\"\",g+h)};}).call(this);})();(function(){google.xjs={basecomb:'/xjs/_/js/k\\x3dxjs.hp.en.-bn9j2uceEM.es5.O/ck\\x3dxjs.hp.zYp65ORwgE4.L.X.O/am\\x3dAAIAAAAAAAAgAAAAAAAAAAAAAAAAAAAAAAAAAgAAAAEAAABBIBAAAAAAAAAAAAAAQAAAcMCUADgAAAABgAABAAAAQAAADAAAAACABABAABAAAADxHQEABGIRAAC8/d\\x3d1/ed\\x3d1/dg\\x3d0/ujg\\x3d1/rs\\x3dACT90oFGw0tH8OY3-YxAe3NMiUgkDchcfQ',basecss:'/xjs/_/ss/k\\x3dxjs.hp.zYp65ORwgE4.L.X.O/am\\x3dAAIAAAAAAAAgAAAAAAAAAAAAAAAAAAAAAAAAAgAAAAEAAABBABAAAAAAAAAAAAAAQAAAcMAUAAAAAAABgAABAAAAQAAADAAAAACABABAABAAAAAAAAAAAAI/rs\\x3dACT90oHXuFLLqvOK77Xy1IJKLEd4TLVGEQ',basejs:'/xjs/_/js/k\\x3dxjs.hp.en.-bn9j2uceEM.es5.O/am\\x3dAAAAAAAAAAAAAAAAAAAAAAAAAAAAAAAAAAAAAAAAAAAAAAABIAAAAAAAAAAAAAAAQAAAAACAADgAAAAAAAAAAAAAAAAAAAAAAAAAAAAAAAAAAADxHQEABGARAAC8/dg\\x3d0/rs\\x3dACT90oHOxiWC-bZXhLRYe35TYhX_oLRnLQ',excm:[]};})();(function(){var u='/xjs/_/js/k\\x3dxjs.hp.en.-bn9j2uceEM.es5.O/am\\x3dAAAAAAAAAAAAAAAAAAAAAAAAAAAAAAAAAAAAAAAAAAAAAAABIAAAAAAAAAAAAAAAQAAAAACAADgAAAAAAAAAAAAAAAAAAAAAAAAAAAAAAAAAAADxHQEABGARAAC8/d\\x3d1/ed\\x3d1/dg\\x3d3/rs\\x3dACT90oHOxiWC-bZXhLRYe35TYhX_oLRnLQ/m\\x3dsb_he,d';var st=1;var amd=1000;var mmd=0;var pod=true;var pop=true;var povp=false;var fp='';\n",
      "var e=this||self;function f(){var b,a,d;if(a=b=(a=window.google)==null?void 0:(d=a.ia)==null?void 0:d.r.B2Jtyd)a=b.m,a=a===1||a===5||a===6;return a&&b.cbfd!=null&&b.cbvi!=null?b:void 0};function g(){var b=[u];if(!google.dp){for(var a=0;a<b.length;a++){var d=b[a],c=document.createElement(\"link\");c.as=\"script\";c.href=d;c.rel=\"preload\";document.body.appendChild(c)}google.dp=!0}};google.ps===void 0&&(google.ps=[]);function h(){var b=u,a=function(){};google.lx=google.stvsc?a:function(){k(b);google.lx=a};google.bx||google.lx()}function l(b,a){a&&(b.src=a);fp&&google.caft&&google.caft(function(){b.fetchPriority=fp});var d=b.onload;b.onload=function(c){d&&d(c);google.ps=google.ps.filter(function(G){return b!==G})};google.ps.push(b);document.body.appendChild(b)}google.as=l;function k(b){google.timers&&google.timers.load&&google.tick&&google.tick(\"load\",\"xjsls\");var a=document.createElement(\"script\");a.onerror=function(){google.ple=1};a.onload=function(){google.ple=0};google.xjsus=void 0;l(a,b);google.aple=-1;google.dp=!0};function m(b){var a=b.getAttribute(\"jscontroller\");return(a===\"UBXHI\"||a===\"R3fhkb\"||a===\"TSZEqd\")&&b.hasAttribute(\"data-src\")}function n(){for(var b=document.getElementsByTagName(\"img\"),a=0,d=b.length;a<d;a++){var c=b[a];if(c.hasAttribute(\"data-lzy_\")&&Number(c.getAttribute(\"data-atf\"))&1&&!m(c))return!0}return!1}for(var p=document.getElementsByTagName(\"img\"),q=0,r=p.length;q<r;++q){var t=p[q];Number(t.getAttribute(\"data-atf\"))&1&&m(t)&&(t.src=t.getAttribute(\"data-src\"))};var w,x,y,z,A,B,C,D,E,F;function H(){google.xjsu=u;e._F_jsUrl=u;A=function(){h()};w=!1;x=(st===1||st===3)&&!!google.caft&&!n();y=f();z=(st===2||st===3)&&!!y&&!n();B=pod;C=pop;D=povp;E=pop&&document.prerendering||povp&&document.hidden;F=D?\"visibilitychange\":\"prerenderingchange\"}function I(){w||x||z||E||(A(),w=!0)}\n",
      "setTimeout(function(){google&&google.tick&&google.timers&&google.timers.load&&google.tick(\"load\",\"xjspls\");H();if(x||z||E){if(x){var b=function(){x=!1;I()};google.caft(b);window.setTimeout(b,amd)}z&&(b=function(){z=!1;I()},y.cbvi.push(b),window.setTimeout(b,mmd));if(E){var a=function(){(D?document.hidden:document.prerendering)||(E=!1,I(),document.removeEventListener(F,a))};document.addEventListener(F,a,{passive:!0})}if(B||C||D)w||g()}else A()},0);})();window._ = window._ || {};window._DumpException = _._DumpException = function(e){throw e;};window._s = window._s || {};_s._DumpException = _._DumpException;window._qs = window._qs || {};_qs._DumpException = _._DumpException;(function(){var t=[512,0,512,0,0,0,0,128,256,12682240,1,131072,0,31457281,394266956,4194306,65664,16844800,49152,536870912,4194308,66,1171216,72909056,12320768];window._F_toggles = window._xjs_toggles = t;})();window._F_installCss = window._F_installCss || function(css){};(function(){google.jl={bfl:0,dw:false,eli:false,ine:false,ubm:false,uwp:true,vs:false};})();(function(){var pmc='{\\x22d\\x22:{},\\x22sb_he\\x22:{\\x22client\\x22:\\x22heirloom-hp\\x22,\\x22dh\\x22:true,\\x22ds\\x22:\\x22\\x22,\\x22host\\x22:\\x22google.com\\x22,\\x22jsonp\\x22:true,\\x22msgs\\x22:{\\x22cibl\\x22:\\x22Clear Search\\x22,\\x22dym\\x22:\\x22Did you mean:\\x22,\\x22lcky\\x22:\\x22I\\\\u0026#39;m Feeling Lucky\\x22,\\x22lml\\x22:\\x22Learn more\\x22,\\x22psrc\\x22:\\x22This search was removed from your \\\\u003Ca href\\x3d\\\\\\x22/history\\\\\\x22\\\\u003EWeb History\\\\u003C/a\\\\u003E\\x22,\\x22psrl\\x22:\\x22Remove\\x22,\\x22sbit\\x22:\\x22Search by image\\x22,\\x22srch\\x22:\\x22Google Search\\x22},\\x22ovr\\x22:{},\\x22pq\\x22:\\x22\\x22,\\x22rfs\\x22:[],\\x22stok\\x22:\\x22cXFI0MEfwZ-tptK7gGLK5taE8ec\\x22}}';google.pmc=JSON.parse(pmc);})();</script></body></html>\n"
     ]
    }
   ],
   "source": [
    "# b) Request() + custom headers\n",
    "from urllib.request import Request, urlopen\n",
    "\n",
    "url = 'https://google.com'\n",
    "req = Request(url, headers={'User-Agent':'Mozilla/5.0'})\n",
    "response = urlopen(url)\n",
    "print(response.read().decode('utf-8'))"
   ]
  },
  {
   "cell_type": "code",
   "execution_count": 5,
   "id": "4312f3a7",
   "metadata": {},
   "outputs": [
    {
     "data": {
      "text/plain": [
       "('C:\\\\Users\\\\ASUS\\\\AppData\\\\Local\\\\Temp\\\\tmpwzx14cl6',\n",
       " <http.client.HTTPMessage at 0x24fe3869fd0>)"
      ]
     },
     "execution_count": 5,
     "metadata": {},
     "output_type": "execute_result"
    }
   ],
   "source": [
    "# 3) urlretrieve() -> download Files\n",
    "urllib.request.urlretrieve('https://google.com')"
   ]
  },
  {
   "cell_type": "markdown",
   "id": "7ffed1e4",
   "metadata": {},
   "source": [
    "## 2) urllib.error -> Handling exceptions\n",
    "- HTTPError : server returned an Errorcode (402, 500, etc)\n",
    "- URLError : failed to reach the server"
   ]
  },
  {
   "cell_type": "code",
   "execution_count": null,
   "id": "9b332450",
   "metadata": {},
   "outputs": [
    {
     "name": "stdout",
     "output_type": "stream",
     "text": [
      "URL Error: [Errno 11001] getaddrinfo failed\n"
     ]
    }
   ],
   "source": [
    "import urllib.request\n",
    "import urllib.error\n",
    "\n",
    "try:\n",
    "    urllib.request.urlopen('https://fjsslfjs.com')\n",
    "except urllib.error.HTTPError as e:\n",
    "    print('HTTPError:', e.code, e.reason)\n",
    "except urllib.error.URLError as e:\n",
    "    print(f'URL Error:', e.reason)\n"
   ]
  },
  {
   "cell_type": "markdown",
   "id": "eea03584",
   "metadata": {},
   "source": [
    "## 3) urllib.parse() -> URL parsing and building\n",
    "Helps in breaking URLs into components or building query strings."
   ]
  },
  {
   "cell_type": "code",
   "execution_count": 9,
   "id": "910c55fb",
   "metadata": {},
   "outputs": [
    {
     "name": "stdout",
     "output_type": "stream",
     "text": [
      "https\n",
      "www.example.com\n",
      "/path/page\n",
      "name=prashant&age=20\n"
     ]
    }
   ],
   "source": [
    "# a) urlparse() \n",
    "from urllib.parse import urlparse\n",
    "\n",
    "url = \"https://www.example.com/path/page?name=prashant&age=20\"\n",
    "parsed = urlparse(url)\n",
    "print(parsed.scheme)    # 'https'\n",
    "print(parsed.netloc)    # 'www.example.com'\n",
    "print(parsed.path)      # '/path/page' \n",
    "print(parsed.query)     # 'name=prashant&age=20'  "
   ]
  },
  {
   "cell_type": "code",
   "execution_count": 10,
   "id": "e93f0a61",
   "metadata": {},
   "outputs": [
    {
     "name": "stdout",
     "output_type": "stream",
     "text": [
      "{'name': ['prashant'], 'age': ['20']}\n"
     ]
    }
   ],
   "source": [
    "# b) parse_qs() : Turn query string into dictionary\n",
    "from urllib.parse import parse_qs\n",
    "\n",
    "query = 'name=prashant&age=20'\n",
    "print(parse_qs(query))"
   ]
  },
  {
   "cell_type": "code",
   "execution_count": 11,
   "id": "f49724ed",
   "metadata": {},
   "outputs": [
    {
     "name": "stdout",
     "output_type": "stream",
     "text": [
      "name=prashant&age=20\n"
     ]
    }
   ],
   "source": [
    "# 3) urlencode() : Build query string\n",
    "from urllib.parse import urlencode\n",
    "\n",
    "params = {'name':'prashant', 'age':20}\n",
    "query_string = urlencode(params)\n",
    "print(query_string)"
   ]
  },
  {
   "cell_type": "markdown",
   "id": "7bcbfee9",
   "metadata": {},
   "source": [
    "## 4) urllib.robotparser -> Respecting robots.txt\n",
    "- Websites have a robots.txt file that says what bots can/can't access."
   ]
  },
  {
   "cell_type": "code",
   "execution_count": 14,
   "id": "9c774549",
   "metadata": {},
   "outputs": [
    {
     "name": "stdout",
     "output_type": "stream",
     "text": [
      "True\n"
     ]
    }
   ],
   "source": [
    "import urllib.robotparser\n",
    "\n",
    "rp = urllib.robotparser.RobotFileParser()\n",
    "rp.set_url(\"https://www.example.com/robots.txt\")\n",
    "rp.read()\n",
    "\n",
    "print(rp.can_fetch(\"*\", \"https://www.example.com/\"))   # 👉 True/False"
   ]
  },
  {
   "cell_type": "code",
   "execution_count": null,
   "id": "9a84e92c",
   "metadata": {},
   "outputs": [],
   "source": []
  }
 ],
 "metadata": {
  "kernelspec": {
   "display_name": "venv",
   "language": "python",
   "name": "python3"
  },
  "language_info": {
   "codemirror_mode": {
    "name": "ipython",
    "version": 3
   },
   "file_extension": ".py",
   "mimetype": "text/x-python",
   "name": "python",
   "nbconvert_exporter": "python",
   "pygments_lexer": "ipython3",
   "version": "3.13.5"
  }
 },
 "nbformat": 4,
 "nbformat_minor": 5
}
