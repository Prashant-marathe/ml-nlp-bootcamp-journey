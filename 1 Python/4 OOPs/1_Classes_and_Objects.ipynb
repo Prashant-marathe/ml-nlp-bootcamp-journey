{
 "cells": [
  {
   "cell_type": "markdown",
   "id": "f682db2a",
   "metadata": {},
   "source": [
    "## Classes and Objects\n",
    "- Object-Oriented Programming (OOP) is a programming paradigm that uses 'objects' to design applications and computer programs. OOP allows for modeling real-world scenerios using classes and objects."
   ]
  },
  {
   "cell_type": "code",
   "execution_count": 1,
   "id": "de7fc74a",
   "metadata": {},
   "outputs": [
    {
     "name": "stdout",
     "output_type": "stream",
     "text": [
      "<class '__main__.Car'>\n"
     ]
    }
   ],
   "source": [
    "# A class is a blueprint for creating objects. Every class has some attributes and methods.\n",
    "class Car:\n",
    "    pass\n",
    "\n",
    "\n",
    "audi = Car()\n",
    "bmw = Car()\n",
    "\n",
    "print(type(audi))"
   ]
  },
  {
   "cell_type": "code",
   "execution_count": 3,
   "id": "258677d3",
   "metadata": {},
   "outputs": [
    {
     "name": "stdout",
     "output_type": "stream",
     "text": [
      "<__main__.Car object at 0x000001A74C02EF90>\n",
      "<__main__.Car object at 0x000001A74BE9D810>\n"
     ]
    }
   ],
   "source": [
    "print(audi)\n",
    "print(bmw)"
   ]
  },
  {
   "cell_type": "code",
   "execution_count": 5,
   "id": "9c04ac02",
   "metadata": {},
   "outputs": [
    {
     "name": "stdout",
     "output_type": "stream",
     "text": [
      "4\n"
     ]
    }
   ],
   "source": [
    "audi.windows=4\n",
    "print(audi.windows)"
   ]
  },
  {
   "cell_type": "code",
   "execution_count": null,
   "id": "f8deedca",
   "metadata": {},
   "outputs": [
    {
     "name": "stdout",
     "output_type": "stream",
     "text": [
      "<__main__.Dog object at 0x000001A74CBDD2B0>\n",
      "Browney\n",
      "3\n",
      "<__main__.Dog object at 0x000001A74CE89590>\n",
      "Cracker\n",
      "4\n"
     ]
    }
   ],
   "source": [
    "# Instance variables\n",
    "class Dog:\n",
    "    # constructor \n",
    "    def __init__(self, name, age):\n",
    "        self.name = name\n",
    "        self.age = age\n",
    "\n",
    "dog1 = Dog('Browney', 3)\n",
    "print(dog1)\n",
    "print(dog1.name)\n",
    "print(dog1.age)\n",
    "\n",
    "dog2 = Dog('Cracker', 4)\n",
    "print(dog2)\n",
    "print(dog2.name)\n",
    "print(dog2.age)"
   ]
  },
  {
   "cell_type": "code",
   "execution_count": 9,
   "id": "42f0d9a0",
   "metadata": {},
   "outputs": [
    {
     "name": "stdout",
     "output_type": "stream",
     "text": [
      "Browney says woof!!\n",
      "Shiro says woof!!\n"
     ]
    }
   ],
   "source": [
    "# Instance Variables and Methods\n",
    "class Dog:\n",
    "    def __init__(self, name, age):\n",
    "        self.name = name\n",
    "        self.age = age\n",
    "     \n",
    "    def bark(self):\n",
    "        print(f'{self.name} says woof!!')\n",
    "    \n",
    "\n",
    "dog1 = Dog('Browney', 3)\n",
    "dog1.bark()\n",
    "\n",
    "dog2 = Dog('Shiro', 5)\n",
    "dog2.bark()"
   ]
  },
  {
   "cell_type": "code",
   "execution_count": 16,
   "id": "3a400121",
   "metadata": {},
   "outputs": [
    {
     "name": "stdout",
     "output_type": "stream",
     "text": [
      "5000\n",
      "₹ 5000 is deposited. New balance is ₹ 10000\n",
      "₹ 488 withdrawen. New balance is ₹ 9512\n"
     ]
    },
    {
     "data": {
      "text/plain": [
       "'₹ 9512'"
      ]
     },
     "execution_count": 16,
     "metadata": {},
     "output_type": "execute_result"
    }
   ],
   "source": [
    "### Example : Modeling a Bank Account\n",
    "class BankAccount:\n",
    "    def __init__(self, owner, balance=0):\n",
    "        self.owner = owner\n",
    "        self.balance = balance\n",
    "    \n",
    "    def deposit(self, amount):\n",
    "        self.balance += amount\n",
    "        print(f'₹ {amount} is deposited. New balance is ₹ {self.balance}')\n",
    "\n",
    "    def withdraw(self, amount):\n",
    "        if amount > self.balance:\n",
    "            print('Insufficient balance')\n",
    "        else:\n",
    "            self.balance -= amount\n",
    "            print(f'₹ {amount} withdrawen. New balance is ₹ {self.balance}')\n",
    "        \n",
    "    def get_balance(self):\n",
    "        return f'₹ {self.balance}'\n",
    "    \n",
    "# create an account \n",
    "account1 = BankAccount('Prince', 5000)\n",
    "print(account1.balance)\n",
    "\n",
    "# call Instance methods \n",
    "account1.deposit(5000)\n",
    "\n",
    "account1.withdraw(488)\n",
    "\n",
    "account1.get_balance()"
   ]
  },
  {
   "cell_type": "markdown",
   "id": "113e1c00",
   "metadata": {},
   "source": [
    "## Conclusion\n",
    "Object-Oriented programming (OOP) allows you to model real-world scenerios using classes and objects. "
   ]
  }
 ],
 "metadata": {
  "kernelspec": {
   "display_name": "venv",
   "language": "python",
   "name": "python3"
  },
  "language_info": {
   "codemirror_mode": {
    "name": "ipython",
    "version": 3
   },
   "file_extension": ".py",
   "mimetype": "text/x-python",
   "name": "python",
   "nbconvert_exporter": "python",
   "pygments_lexer": "ipython3",
   "version": "3.13.5"
  }
 },
 "nbformat": 4,
 "nbformat_minor": 5
}
