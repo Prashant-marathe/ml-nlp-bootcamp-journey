{
 "cells": [
  {
   "cell_type": "markdown",
   "id": "257de15b",
   "metadata": {},
   "source": [
    "## Inheritance In Python\n",
    "Inheritance is a fundamental concept in Object-Oriented Programming (OOP) that allows a class to inherit attributes and methods from another class."
   ]
  },
  {
   "cell_type": "markdown",
   "id": "1d7c16bc",
   "metadata": {},
   "source": [
    "**Single Inheritance**\n",
    "When a Child class inherits properties and behaviours of Parent Class."
   ]
  },
  {
   "cell_type": "code",
   "execution_count": null,
   "id": "69c5a313",
   "metadata": {},
   "outputs": [
    {
     "name": "stdout",
     "output_type": "stream",
     "text": [
      "The person will drive 1.8L 4-Cylinder Petrol engine. car.\n",
      "None\n"
     ]
    }
   ],
   "source": [
    "# Parent Class\n",
    "class Car():\n",
    "    def __init__(self, model, year, enginetype):\n",
    "        self.model = model\n",
    "        self.year = year\n",
    "        self.enginetype = enginetype\n",
    "\n",
    "    def drive(self):\n",
    "        print(f'The person will drive {self.enginetype} car.')\n",
    "    \n",
    "Audi = Car('Toyota Corolla', 2020, '1.8L 4-Cylinder Petrol engine.')\n",
    "print(Audi.drive())"
   ]
  },
  {
   "cell_type": "code",
   "execution_count": null,
   "id": "f5f9bbeb",
   "metadata": {},
   "outputs": [
    {
     "name": "stdout",
     "output_type": "stream",
     "text": [
      "The person will drive Electric Engine car.\n",
      "The Tesla Model S supports self driving? :True\n"
     ]
    }
   ],
   "source": [
    "# Child class\n",
    "class Tesla(Car):\n",
    "    def __init__(self, model, year, enginetype, is_selfdriving):\n",
    "        super().__init__(model, year, enginetype)\n",
    "        self.is_selfdriving = is_selfdriving\n",
    "    \n",
    "    def selfdriving(self):\n",
    "        print(f'The {self.model} supports self driving? :{self.is_selfdriving}')\n",
    "\n",
    "tesla1 = Tesla('Tesla Model S', 2022, 'Electric Engine',True)\n",
    "tesla1.drive()\n",
    "tesla1.selfdriving()\n"
   ]
  },
  {
   "cell_type": "markdown",
   "id": "eebe55bf",
   "metadata": {},
   "source": [
    "**Multiple Inheritence**\n",
    ":When a child class inherits from more than one parent class\n"
   ]
  },
  {
   "cell_type": "code",
   "execution_count": 5,
   "id": "b07ee4a5",
   "metadata": {},
   "outputs": [
    {
     "name": "stdout",
     "output_type": "stream",
     "text": [
      "Browney barks\n",
      "onwer is Prince\n"
     ]
    }
   ],
   "source": [
    "# Parent Classes\n",
    "# parent class1\n",
    "\n",
    "class Pet:\n",
    "    def __init__(self, petname):\n",
    "        self.petname = petname\n",
    "\n",
    "    def sound(self):\n",
    "        print('This class must be implemented by the child class.')\n",
    "\n",
    "# parent class2\n",
    "class Owner:\n",
    "    def __init__(self, ownername):\n",
    "        self.ownername = ownername\n",
    "\n",
    "class Dog(Pet, Owner):\n",
    "    def __init__(self, petname, ownername):\n",
    "        Pet.__init__(self, petname)\n",
    "        Owner.__init__(self, ownername)\n",
    "\n",
    "    def sound(self):\n",
    "        print(f'{self.petname} barks')\n",
    "\n",
    "dog1 = Dog('Browney', 'Prince')\n",
    "dog1.sound()\n",
    "print(f'onwer is {dog1.ownername}')\n",
    "\n"
   ]
  }
 ],
 "metadata": {
  "kernelspec": {
   "display_name": "venv",
   "language": "python",
   "name": "python3"
  },
  "language_info": {
   "codemirror_mode": {
    "name": "ipython",
    "version": 3
   },
   "file_extension": ".py",
   "mimetype": "text/x-python",
   "name": "python",
   "nbconvert_exporter": "python",
   "pygments_lexer": "ipython3",
   "version": "3.13.5"
  }
 },
 "nbformat": 4,
 "nbformat_minor": 5
}
