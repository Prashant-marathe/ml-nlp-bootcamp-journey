{
 "cells": [
  {
   "cell_type": "markdown",
   "id": "56122975",
   "metadata": {},
   "source": [
    "## Polymorphism In Python\n",
    "Polymophism is a core concept in Object-Oriented Programming (OOP) that allows objects of different classes to be treated as objects of a common superclass. it provides a way to perform a single action in diffent forms. Polymorphism is typically achieved through method overriding and interfaces."
   ]
  },
  {
   "cell_type": "markdown",
   "id": "06171ed1",
   "metadata": {},
   "source": [
    "**Method Overriding**\n",
    "- Method overriding allows a child class to provide a specific implementation of a method that already exists in thhe parent class."
   ]
  },
  {
   "cell_type": "code",
   "execution_count": 8,
   "id": "2d9abcc8",
   "metadata": {},
   "outputs": [
    {
     "name": "stdout",
     "output_type": "stream",
     "text": [
      "Woof\n",
      "Meow!\n"
     ]
    }
   ],
   "source": [
    "# Example : method Overriding\n",
    "class Animal:\n",
    "    def speak(self):\n",
    "        return 'Sound of the animal.'\n",
    "\n",
    "class Dog(Animal):\n",
    "    def speak(self):\n",
    "        return 'Woof'\n",
    "\n",
    "class Cat(Animal):\n",
    "    def speak(self):\n",
    "        return 'Meow!'\n",
    "\n",
    "dog = Dog()\n",
    "print(dog.speak())\n",
    "# print(Dog.speak())\n",
    "\n",
    "cat = Cat()\n",
    "print(cat.speak())\n"
   ]
  },
  {
   "cell_type": "code",
   "execution_count": 11,
   "id": "e41a0507",
   "metadata": {},
   "outputs": [
    {
     "name": "stdout",
     "output_type": "stream",
     "text": [
      "The area is 24\n",
      "The area is 50.26548245743669\n"
     ]
    }
   ],
   "source": [
    "# Polymorphism with functions and methods\n",
    "\n",
    "# Base class\n",
    "class Shape:\n",
    "    def area(self):\n",
    "        return 'The area of shape.'\n",
    "    \n",
    "# Derived class 1\n",
    "class Rectangle(Shape):\n",
    "    def __init__(self, width, height):\n",
    "        self.width = width\n",
    "        self.height = height\n",
    "    \n",
    "    def area(self):\n",
    "        return self.width * self.height\n",
    "    \n",
    "from math import pi\n",
    "# Derived class 2\n",
    "class Circle(Shape):\n",
    "    def __init__(self, radius):\n",
    "        self.radius = radius\n",
    "    \n",
    "    def area(self):\n",
    "        return pi * self.radius * self.radius\n",
    "\n",
    "def print_area(shape):\n",
    "    print(f'The area is {shape.area()}')\n",
    "\n",
    "rectangle = Rectangle(4, 6)\n",
    "circle = Circle(4)\n",
    "\n",
    "print_area(rectangle)\n",
    "print_area(circle)"
   ]
  },
  {
   "cell_type": "markdown",
   "id": "57432f94",
   "metadata": {},
   "source": [
    "**Polymorphism with Abstract Base Class**\n",
    "- Abstract base classes (ABCs) are used to define common methods for a group of related objects. They can enforce that derived classes implement perticular methods, promoting consistency across different implementations. "
   ]
  },
  {
   "cell_type": "code",
   "execution_count": 12,
   "id": "982009bf",
   "metadata": {},
   "outputs": [
    {
     "name": "stdout",
     "output_type": "stream",
     "text": [
      "Car engine started.\n",
      "Motorcycle engine started.\n"
     ]
    }
   ],
   "source": [
    "from abc import ABC, abstractmethod\n",
    "\n",
    "# Base Class\n",
    "class Vehicle(ABC):\n",
    "    @abstractmethod\n",
    "    def start_engine(self):\n",
    "        pass\n",
    "\n",
    "# Derived class 1\n",
    "class Car(Vehicle):\n",
    "    def start_engine(self):\n",
    "        print('Car engine started.')\n",
    "\n",
    "# Derived class 2\n",
    "class Motorcycle(Vehicle):\n",
    "    def start_engine(self):\n",
    "        print('Motorcycle engine started.')\n",
    "\n",
    "car = Car()\n",
    "motorcycle = Motorcycle()\n",
    "\n",
    "car.start_engine()\n",
    "motorcycle.start_engine()"
   ]
  },
  {
   "cell_type": "code",
   "execution_count": null,
   "id": "704934a2",
   "metadata": {},
   "outputs": [],
   "source": []
  }
 ],
 "metadata": {
  "kernelspec": {
   "display_name": "venv",
   "language": "python",
   "name": "python3"
  },
  "language_info": {
   "codemirror_mode": {
    "name": "ipython",
    "version": 3
   },
   "file_extension": ".py",
   "mimetype": "text/x-python",
   "name": "python",
   "nbconvert_exporter": "python",
   "pygments_lexer": "ipython3",
   "version": "3.13.5"
  }
 },
 "nbformat": 4,
 "nbformat_minor": 5
}
