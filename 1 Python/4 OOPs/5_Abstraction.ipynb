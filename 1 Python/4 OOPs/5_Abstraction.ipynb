{
 "cells": [
  {
   "cell_type": "markdown",
   "id": "c24a20a2",
   "metadata": {},
   "source": [
    "## Abstraction\n",
    "Abstraction is the concept of hiding the complex implementation details and showing only the necessary features of an object. This helps in reducing programming complexity and effort."
   ]
  },
  {
   "cell_type": "code",
   "execution_count": null,
   "id": "63d9fce2",
   "metadata": {},
   "outputs": [
    {
     "name": "stdout",
     "output_type": "stream",
     "text": [
      "The car engine started.\n",
      "The car engine stopped.\n",
      "The bike engine started.\n",
      "The bike engine stopped.\n"
     ]
    }
   ],
   "source": [
    "from abc import ABC, abstractmethod\n",
    "\n",
    "# Abstract class\n",
    "class Vehicle(ABC):\n",
    "    @abstractmethod\n",
    "    def start(self):\n",
    "        pass          # abstract method (must be implemented by subclasses)\n",
    "\n",
    "    def stop(self):\n",
    "        pass           # abstract method (must be implemented by the derived class)\n",
    "\n",
    "# derived class 1\n",
    "class Car(Vehicle):\n",
    "    def start(self):\n",
    "        return 'The car engine started.'\n",
    "    \n",
    "    def stop(self):\n",
    "        return 'The car engine stopped.'\n",
    "    \n",
    "# derived class 2\n",
    "class Bike(Vehicle):\n",
    "    def start(self):\n",
    "        return 'The bike engine started.'\n",
    "    \n",
    "    def stop(self):\n",
    "        return 'The bike engine stopped.'\n",
    "    \n",
    "car = Car()\n",
    "print(car.start())\n",
    "print(car.stop())\n",
    "\n",
    "bike = Bike()\n",
    "print(bike.start())\n",
    "print(bike.stop())\n",
    "\n",
    "'''\n",
    "ABC → Base class for creating abstract classes.\n",
    "\n",
    "@abstractmethod → Defines methods that must be implemented in child classes.\n",
    "\n",
    "You cannot instantiate an abstract class directly:\n",
    "v = Vehicle()  # ❌ Error\n",
    "'''"
   ]
  }
 ],
 "metadata": {
  "kernelspec": {
   "display_name": "venv",
   "language": "python",
   "name": "python3"
  },
  "language_info": {
   "codemirror_mode": {
    "name": "ipython",
    "version": 3
   },
   "file_extension": ".py",
   "mimetype": "text/x-python",
   "name": "python",
   "nbconvert_exporter": "python",
   "pygments_lexer": "ipython3",
   "version": "3.13.5"
  }
 },
 "nbformat": 4,
 "nbformat_minor": 5
}
