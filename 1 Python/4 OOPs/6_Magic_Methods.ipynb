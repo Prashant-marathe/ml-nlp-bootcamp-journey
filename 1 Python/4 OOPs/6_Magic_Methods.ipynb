{
 "cells": [
  {
   "cell_type": "markdown",
   "id": "74bbec46",
   "metadata": {},
   "source": [
    "## Magic Methods\n",
    "Magic methods in Python, also known as dunder methods (double underscore methods), are special methods that start end with double underscores. The methods enable you to define the behavior of objects for built-in operations, such as arithmetic operations, comparisons,and more\n",
    "\n",
    "## Magic Methods\n",
    "Magic methods are predefined methods in Python that you can override to change the behavior of your objects. Some common magic methods include:\n",
    "- **init**: initializes a new instance of an class.\n",
    "- **str**: Returns a string representation of an object.\n",
    "- **repr**: Returns an official string representation of an object.\n",
    "- **len**: Returns the length of an object.\n",
    "- **getitem**: Gets an item from a container\n",
    "- **setitem**: Sets an item from a container."
   ]
  },
  {
   "cell_type": "code",
   "execution_count": 1,
   "id": "301a0954",
   "metadata": {},
   "outputs": [
    {
     "data": {
      "text/plain": [
       "['__class__',\n",
       " '__delattr__',\n",
       " '__dict__',\n",
       " '__dir__',\n",
       " '__doc__',\n",
       " '__eq__',\n",
       " '__firstlineno__',\n",
       " '__format__',\n",
       " '__ge__',\n",
       " '__getattribute__',\n",
       " '__getstate__',\n",
       " '__gt__',\n",
       " '__hash__',\n",
       " '__init__',\n",
       " '__init_subclass__',\n",
       " '__le__',\n",
       " '__lt__',\n",
       " '__module__',\n",
       " '__ne__',\n",
       " '__new__',\n",
       " '__reduce__',\n",
       " '__reduce_ex__',\n",
       " '__repr__',\n",
       " '__setattr__',\n",
       " '__sizeof__',\n",
       " '__static_attributes__',\n",
       " '__str__',\n",
       " '__subclasshook__',\n",
       " '__weakref__']"
      ]
     },
     "execution_count": 1,
     "metadata": {},
     "output_type": "execute_result"
    }
   ],
   "source": [
    "class Person:\n",
    "    def __init__(self):\n",
    "        pass\n",
    "\n",
    "person=Person()\n",
    "dir(person)"
   ]
  },
  {
   "cell_type": "markdown",
   "id": "2f1432c9",
   "metadata": {},
   "source": [
    "**Basic magic methods**"
   ]
  },
  {
   "cell_type": "code",
   "execution_count": null,
   "id": "98653854",
   "metadata": {},
   "outputs": [
    {
     "name": "stdout",
     "output_type": "stream",
     "text": [
      "<__main__.Person object at 0x000002097A814830>\n"
     ]
    }
   ],
   "source": [
    "# __str__ default and custom behavior\n",
    "class Person:\n",
    "    def __init__(self, name, age):\n",
    "        self.name=name\n",
    "        self.age=age\n",
    "\n",
    "person = Person('Prince', 20)\n",
    "print(person)   # default __str__ methods gets called and displays:  <__main__.Person object at 0x000002097A814830>"
   ]
  },
  {
   "cell_type": "code",
   "execution_count": 4,
   "id": "e5ff48d1",
   "metadata": {},
   "outputs": [
    {
     "name": "stdout",
     "output_type": "stream",
     "text": [
      "Hello, I am Prashant Marathe and I am 20 years old.\n",
      "Person(name=Prashant Marathe, age=20)\n"
     ]
    }
   ],
   "source": [
    "# We can override the magic methods like __str__ to suit our needs\n",
    "class Person:\n",
    "    def __init__(self, name, age):\n",
    "        self.name=name\n",
    "        self.age=age\n",
    "\n",
    "    def __str__(self):\n",
    "        return f'Hello, I am {self.name} and I am {self.age} years old.'\n",
    "\n",
    "    def __repr__(self):\n",
    "        return f'Person(name={self.name}, age={self.age})'\n",
    "    \n",
    "person = Person('Prashant Marathe', 20)\n",
    "print(person)\n",
    "print(repr(person))"
   ]
  }
 ],
 "metadata": {
  "kernelspec": {
   "display_name": "venv",
   "language": "python",
   "name": "python3"
  },
  "language_info": {
   "codemirror_mode": {
    "name": "ipython",
    "version": 3
   },
   "file_extension": ".py",
   "mimetype": "text/x-python",
   "name": "python",
   "nbconvert_exporter": "python",
   "pygments_lexer": "ipython3",
   "version": "3.13.5"
  }
 },
 "nbformat": 4,
 "nbformat_minor": 5
}
