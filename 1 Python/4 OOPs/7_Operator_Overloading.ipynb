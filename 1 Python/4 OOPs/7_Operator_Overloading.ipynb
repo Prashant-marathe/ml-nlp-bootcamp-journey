{
 "cells": [
  {
   "cell_type": "markdown",
   "id": "19f97aa8",
   "metadata": {},
   "source": [
    "## Operator Overloading\n",
    "Operator Overloading allows you to define the behavior of operators (+, -, *, /, etc.) for custom objects. You achieve this overriding magic methods in your class.\n",
    "In Python, operators are implemented using special methods (a.k.a magic methods or dunder methods).\n",
    "Example: a + b → internally calls a.__add__(b)."
   ]
  },
  {
   "cell_type": "code",
   "execution_count": null,
   "id": "34c3fa73",
   "metadata": {},
   "outputs": [
    {
     "data": {
      "text/plain": [
       "'\\n__add__(self, other): Adds two objects using + operator\\n__sub__(self, other): Substracts two objects using - operator\\n__mul__(self, other): Multiply two objects using * operator\\n__truediv__(self, other): Divides two objects using the / operator\\n__eq__(self, other): Checks if two objects are equal using == operator\\n__lt__(self, other): Checks if one object is less than another using < operator\\n'"
      ]
     },
     "execution_count": 1,
     "metadata": {},
     "output_type": "execute_result"
    }
   ],
   "source": [
    "### Common Operator Overloading Magic Methods.\n",
    "'''\n",
    "__add__(self, other): Adds two objects using + operator\n",
    "__sub__(self, other): Substracts two objects using - operator\n",
    "__mul__(self, other): Multiply two objects using * operator\n",
    "__truediv__(self, other): Divides two objects using the / operator\n",
    "__eq__(self, other): Checks if two objects are equal using == operator\n",
    "__lt__(self, other): Checks if one object is less than another using < operator\n",
    "__gt__(self, other): Checks if one object is greater than another object using > operator\n",
    "'''"
   ]
  },
  {
   "cell_type": "code",
   "execution_count": 9,
   "id": "0a4217fa",
   "metadata": {},
   "outputs": [
    {
     "name": "stdout",
     "output_type": "stream",
     "text": [
      "Vector(25, 25)\n",
      "Vector(-5, -15)\n",
      "Vector(150, 100)\n",
      "Vector(0.6666666666666666, 0.25)\n",
      "False\n",
      "Vector(10, 5)\n",
      "Vector(15, 20)\n"
     ]
    }
   ],
   "source": [
    "class Vector:\n",
    "    def __init__(self, x, y):\n",
    "        self.x=x\n",
    "        self.y=y\n",
    "\n",
    "    def __add__(self, other):\n",
    "        return Vector(self.x+other.x, self.y+other.y)\n",
    "\n",
    "    def __sub__(self, other):\n",
    "        return Vector(self.x-other.x, self.y-other.y)\n",
    "\n",
    "    def __mul__(self, other):\n",
    "        return Vector(self.x*other.x, self.y*other.y)\n",
    "\n",
    "    def __truediv__(self, other):\n",
    "        return Vector(self.x/other.x, self.y/other.y)\n",
    "\n",
    "    def __eq__(self, other):\n",
    "        return self.x == other.x and self.x == other.y\n",
    "\n",
    "    def __repr__(self):\n",
    "        return f'Vector({self.x}, {self.y})'\n",
    "\n",
    "vector1 = Vector(10, 5)\n",
    "vector2 = Vector(15, 20)\n",
    "\n",
    "# __add__\n",
    "print(vector1 + vector2)\n",
    "\n",
    "# __subs__\n",
    "print(vector1 - vector2)\n",
    "\n",
    "# __mul__\n",
    "print(vector1 * vector2)\n",
    "\n",
    "# __truediv__\n",
    "print(vector1 / vector2)\n",
    "\n",
    "# __eq__\n",
    "print(vector1 == vector2)\n",
    "\n",
    "# __repr__\n",
    "print(repr(vector1))\n",
    "print(repr(vector2))\n"
   ]
  },
  {
   "cell_type": "code",
   "execution_count": null,
   "id": "c3115f92",
   "metadata": {},
   "outputs": [],
   "source": []
  }
 ],
 "metadata": {
  "kernelspec": {
   "display_name": "venv",
   "language": "python",
   "name": "python3"
  },
  "language_info": {
   "codemirror_mode": {
    "name": "ipython",
    "version": 3
   },
   "file_extension": ".py",
   "mimetype": "text/x-python",
   "name": "python",
   "nbconvert_exporter": "python",
   "pygments_lexer": "ipython3",
   "version": "3.13.5"
  }
 },
 "nbformat": 4,
 "nbformat_minor": 5
}
