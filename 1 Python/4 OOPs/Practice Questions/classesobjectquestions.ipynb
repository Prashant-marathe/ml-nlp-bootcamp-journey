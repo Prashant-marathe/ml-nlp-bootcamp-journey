{
 "cells": [
  {
   "cell_type": "markdown",
   "metadata": {},
   "source": [
    "# Module: Classes and Objects Assignments\n",
    "## Lesson: Creating and Working with Classes and Objects\n",
    "### Assignment 1: Basic Class and Object Creation\n",
    "\n",
    "Create a class named `Car` with attributes `make`, `model`, and `year`. Create an object of the class and print its attributes.\n",
    "\n",
    "### Assignment 2: Methods in Class\n",
    "\n",
    "Add a method named `start_engine` to the `Car` class that prints a message when the engine starts. Create an object of the class and call the method.\n",
    "\n",
    "### Assignment 3: Class with Constructor\n",
    "\n",
    "Create a class named `Student` with attributes `name` and `age`. Use a constructor to initialize these attributes. Create an object of the class and print its attributes.\n",
    "\n",
    "### Assignment 4: Class with Private Attributes\n",
    "\n",
    "Create a class named `BankAccount` with private attributes `account_number` and `balance`. Add methods to deposit and withdraw money, and to check the balance. Create an object of the class and perform some operations.\n",
    "\n",
    "### Assignment 5: Class Inheritance\n",
    "\n",
    "Create a base class named `Person` with attributes `name` and `age`. Create a derived class named `Employee` that inherits from `Person` and adds an attribute `employee_id`. Create an object of the derived class and print its attributes.\n",
    "\n",
    "### Assignment 6: Method Overriding\n",
    "\n",
    "In the `Employee` class, override the `__str__` method to return a string representation of the object. Create an object of the class and print it.\n",
    "\n",
    "### Assignment 7: Class Composition\n",
    "\n",
    "Create a class named `Address` with attributes `street`, `city`, and `zipcode`. Create a class named `Person` that has an `Address` object as an attribute. Create an object of the `Person` class and print its address.\n",
    "\n",
    "### Assignment 8: Class with Class Variables\n",
    "\n",
    "Create a class named `Counter` with a class variable `count`. Each time an object is created, increment the count. Add a method to get the current count. Create multiple objects and print the count.\n",
    "\n",
    "### Assignment 9: Static Methods\n",
    "\n",
    "Create a class named `MathOperations` with a static method to calculate the square root of a number. Call the static method without creating an object.\n",
    "\n",
    "### Assignment 10: Class with Properties\n",
    "\n",
    "Create a class named `Rectangle` with private attributes `length` and `width`. Use properties to get and set these attributes. Create an object of the class and test the properties.\n",
    "\n",
    "### Assignment 11: Abstract Base Class\n",
    "\n",
    "Create an abstract base class named `Shape` with an abstract method `area`. Create derived classes `Circle` and `Square` that implement the `area` method. Create objects of the derived classes and call the `area` method.\n",
    "\n",
    "### Assignment 12: Operator Overloading\n",
    "\n",
    "Create a class named `Vector` with attributes `x` and `y`. Overload the `+` operator to add two `Vector` objects. Create objects of the class and test the operator overloading.\n",
    "\n",
    "### Assignment 13: Class with Custom Exception\n",
    "\n",
    "Create a custom exception named `InsufficientBalanceError`. In the `BankAccount` class, raise this exception when a withdrawal amount is greater than the balance. Handle the exception and print an appropriate message.\n",
    "\n",
    "### Assignment 14: Class with Context Manager\n",
    "\n",
    "Create a class named `FileManager` that implements the context manager protocol to open and close a file. Use this class to read the contents of a file.\n",
    "\n",
    "### Assignment 15: Chaining Methods\n",
    "\n",
    "Create a class named `Calculator` with methods to add, subtract, multiply, and divide. Each method should return the object itself to allow method chaining. Create an object and chain multiple method calls."
   ]
  },
  {
   "cell_type": "code",
   "execution_count": 1,
   "metadata": {},
   "outputs": [
    {
     "name": "stdout",
     "output_type": "stream",
     "text": [
      "Your car made by Rolls Royal\n",
      "Your car model is Ghost\n",
      "Your car was made in year 2001\n"
     ]
    }
   ],
   "source": [
    "class Car:\n",
    "    def __init__(self, make, model, year):\n",
    "        self.make = make\n",
    "        self.model = model\n",
    "        self.year = year\n",
    "\n",
    "    def car_details(self):\n",
    "        print(f'Your car made by {self.make}')\n",
    "        print(f'Your car model is {self.model}')\n",
    "        print(f'Your car was made in year {self.year}')\n",
    "\n",
    "car = Car(\"Rolls Royal\", \"Ghost\", 2001)\n",
    "car.car_details()"
   ]
  },
  {
   "cell_type": "code",
   "execution_count": 2,
   "id": "c0c5771f",
   "metadata": {},
   "outputs": [
    {
     "name": "stdout",
     "output_type": "stream",
     "text": [
      "Cars engine started.\n"
     ]
    }
   ],
   "source": [
    "class Car:\n",
    "    def __init__(self, make, model, year):\n",
    "        self.make = make\n",
    "        self.model = model\n",
    "        self.year = year\n",
    "\n",
    "    def car_details(self):\n",
    "        print(f'Your car made by {self.make}')\n",
    "        print(f'Your car model is {self.model}')\n",
    "        print(f'Your car was made in year {self.year}')\n",
    "    \n",
    "    def start_engine(self):\n",
    "        print('Cars engine started.')\n",
    "\n",
    "car = Car(\"Rolls Royal\", \"Ghost\", 2001)\n",
    "car.start_engine()"
   ]
  },
  {
   "cell_type": "code",
   "execution_count": 3,
   "id": "231407cb",
   "metadata": {},
   "outputs": [
    {
     "name": "stdout",
     "output_type": "stream",
     "text": [
      "Your name is Prashant Marathe.\n",
      "You are 21 years old.\n"
     ]
    }
   ],
   "source": [
    "class Student:\n",
    "    def __init__(self, name, age):\n",
    "        self.name = name\n",
    "        self.age = age\n",
    "\n",
    "    def student_info(self):\n",
    "        print(f'Your name is {self.name}.')\n",
    "        print(f'You are {self.age} years old.')\n",
    "\n",
    "student = Student('Prashant Marathe', 21)\n",
    "student.student_info()\n",
    "        "
   ]
  },
  {
   "cell_type": "code",
   "execution_count": 3,
   "id": "4f3c5638",
   "metadata": {},
   "outputs": [
    {
     "name": "stdout",
     "output_type": "stream",
     "text": [
      "34000\n",
      "4000 is deposited. New balance is 38000\n",
      "20000 withdrawen. New balance is 18000\n"
     ]
    }
   ],
   "source": [
    "class bankAccount:\n",
    "    def __init__(self, account_number, balance):\n",
    "        self.__account_number = account_number\n",
    "        self.__balance = balance\n",
    "\n",
    "    def deposit(self, amount):\n",
    "        self.__balance += amount\n",
    "        print(f'{amount} is deposited. New balance is {self.__balance}')\n",
    "\n",
    "    def withdraw(self, amount):\n",
    "        if amount > self.__balance:\n",
    "            print('Insufficient balance')\n",
    "        else:\n",
    "            self.__balance -= amount\n",
    "            print(f'{amount} withdrawen. New balance is {self.__balance}')\n",
    "\n",
    "    def get_balance(self):\n",
    "        return f'{self.__balance}'        \n",
    "    \n",
    "account1 = bankAccount(1463, 34000)\n",
    "print(account1.get_balance())\n",
    "\n",
    "account1.deposit(4000)\n",
    "\n",
    "account1.withdraw(20000)\n",
    "\n"
   ]
  },
  {
   "cell_type": "code",
   "execution_count": 5,
   "id": "fb25401a",
   "metadata": {},
   "outputs": [
    {
     "name": "stdout",
     "output_type": "stream",
     "text": [
      "Prashant Marathe\n",
      "21\n",
      "2124\n"
     ]
    }
   ],
   "source": [
    "class Person:\n",
    "    def __init__(self, name, age):\n",
    "        self.name = name\n",
    "        self.age = age\n",
    "\n",
    "class Employee(Person):\n",
    "    def __init__(self, name, age, employee_id):\n",
    "        super().__init__(name, age)\n",
    "        self.employee_id = employee_id\n",
    "\n",
    "employee1 = Employee('Prashant Marathe', 21, 2124)\n",
    "print(employee1.name)\n",
    "print(employee1.age)\n",
    "print(employee1.employee_id)"
   ]
  },
  {
   "cell_type": "code",
   "execution_count": 10,
   "id": "a1c8f467",
   "metadata": {},
   "outputs": [
    {
     "name": "stdout",
     "output_type": "stream",
     "text": [
      "Name: Prashant Marathe, Age: 21, ID: 2104\n"
     ]
    }
   ],
   "source": [
    "class Employee:\n",
    "    def __init__(self, name, age, employee_id):\n",
    "        self.name = name \n",
    "        self.age = age\n",
    "        self.employee_id = employee_id\n",
    "\n",
    "    def __str__(self):\n",
    "        return f'Name: {self.name}, Age: {self.age}, ID: {self.employee_id}'\n",
    "    \n",
    "employee1 = Employee(\"Prashant Marathe\", 21, 2104)\n",
    "print(employee1)"
   ]
  },
  {
   "cell_type": "code",
   "execution_count": 11,
   "id": "e178d130",
   "metadata": {},
   "outputs": [
    {
     "name": "stdout",
     "output_type": "stream",
     "text": [
      "Person\"s address: Dakhani Galli, jalgaon, 400104\n"
     ]
    }
   ],
   "source": [
    "class Address:\n",
    "    def __init__(self, street, city, zipcode):\n",
    "        self.street = street\n",
    "        self.city = city\n",
    "        self.zipcode = zipcode\n",
    "    \n",
    "    def __str__(self):\n",
    "        return f'{self.street}, {self.city}, {self.zipcode}'\n",
    "    \n",
    "class Person:\n",
    "    def __init__(self, name, age, address:Address):\n",
    "        self.name = name\n",
    "        self.age = age\n",
    "        self.address = address\n",
    "\n",
    "    def __str__(self):\n",
    "        return f'Person(name: {self.name}, age:{self.age}, address: {self.address})'\n",
    "    \n",
    "# Create a Address object\n",
    "address = Address('Dakhani Galli', 'jalgaon', '400104')\n",
    "\n",
    "# Create a person Object with address\n",
    "person1 = Person('Prashant Marathe', 21, address)\n",
    "\n",
    "print(f'Person\"s address: {person1.address}')"
   ]
  }
 ],
 "metadata": {
  "kernelspec": {
   "display_name": "venv",
   "language": "python",
   "name": "python3"
  },
  "language_info": {
   "codemirror_mode": {
    "name": "ipython",
    "version": 3
   },
   "file_extension": ".py",
   "mimetype": "text/x-python",
   "name": "python",
   "nbconvert_exporter": "python",
   "pygments_lexer": "ipython3",
   "version": "3.13.5"
  }
 },
 "nbformat": 4,
 "nbformat_minor": 5
}
