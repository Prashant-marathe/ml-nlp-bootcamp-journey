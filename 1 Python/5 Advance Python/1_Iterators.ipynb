{
 "cells": [
  {
   "cell_type": "markdown",
   "id": "40c20223",
   "metadata": {},
   "source": [
    "## Iterators \n",
    "Iterators are advance Python concepts that allow for efficient looping and memory management, Iterators provide a way to access elements of a collection sequentially without exposing the underlying structure."
   ]
  },
  {
   "cell_type": "code",
   "execution_count": 6,
   "id": "d794cd83",
   "metadata": {},
   "outputs": [],
   "source": [
    "# Declaring the iterator usign iter() function\n",
    "my_list = [1,2,3,4,5,6]\n",
    "iterator = iter(my_list)"
   ]
  },
  {
   "cell_type": "code",
   "execution_count": 13,
   "id": "6a011448",
   "metadata": {},
   "outputs": [
    {
     "ename": "StopIteration",
     "evalue": "",
     "output_type": "error",
     "traceback": [
      "\u001b[31m---------------------------------------------------------------------------\u001b[39m",
      "\u001b[31mStopIteration\u001b[39m                             Traceback (most recent call last)",
      "\u001b[36mCell\u001b[39m\u001b[36m \u001b[39m\u001b[32mIn[13]\u001b[39m\u001b[32m, line 2\u001b[39m\n\u001b[32m      1\u001b[39m \u001b[38;5;66;03m# iterate through the list using next() function which returns each element one by one\u001b[39;00m\n\u001b[32m----> \u001b[39m\u001b[32m2\u001b[39m \u001b[38;5;28mnext\u001b[39m(iterator)\n",
      "\u001b[31mStopIteration\u001b[39m: "
     ]
    }
   ],
   "source": [
    "# iterate through the list using next() function which returns each element one by one\n",
    "next(iterator)"
   ]
  },
  {
   "cell_type": "code",
   "execution_count": 20,
   "id": "cf6242a4",
   "metadata": {},
   "outputs": [],
   "source": [
    "my_list = [0, 1, 2, 3, 4, 5, 6, 7, 8, 9, 10]\n",
    "iterator = iter(my_list)"
   ]
  },
  {
   "cell_type": "code",
   "execution_count": 32,
   "id": "5c701768",
   "metadata": {},
   "outputs": [
    {
     "name": "stdout",
     "output_type": "stream",
     "text": [
      "Stop Iteration : There are no elements left to iterate\n"
     ]
    }
   ],
   "source": [
    "# while using next it gives error once there are no elements to iterate. Lets handle that exception\n",
    "try:\n",
    "    print(next(iterator))\n",
    "except StopIteration:\n",
    "    print('Stop Iteration : There are no elements left to iterate')"
   ]
  },
  {
   "cell_type": "code",
   "execution_count": 33,
   "id": "bb0d98eb",
   "metadata": {},
   "outputs": [],
   "source": [
    "# Iteration over a string\n",
    "name = 'Prashant Marathe'\n",
    "str_iterator = iter(name)"
   ]
  },
  {
   "cell_type": "code",
   "execution_count": 50,
   "id": "0f28475f",
   "metadata": {},
   "outputs": [
    {
     "name": "stdout",
     "output_type": "stream",
     "text": [
      "StopIteration: There are no elements to iterate over.\n"
     ]
    }
   ],
   "source": [
    "try:\n",
    "    print(next(str_iterator))\n",
    "except StopIteration:\n",
    "    print(\"StopIteration: There are no elements to iterate over.\")"
   ]
  }
 ],
 "metadata": {
  "kernelspec": {
   "display_name": "venv",
   "language": "python",
   "name": "python3"
  },
  "language_info": {
   "codemirror_mode": {
    "name": "ipython",
    "version": 3
   },
   "file_extension": ".py",
   "mimetype": "text/x-python",
   "name": "python",
   "nbconvert_exporter": "python",
   "pygments_lexer": "ipython3",
   "version": "3.13.5"
  }
 },
 "nbformat": 4,
 "nbformat_minor": 5
}
