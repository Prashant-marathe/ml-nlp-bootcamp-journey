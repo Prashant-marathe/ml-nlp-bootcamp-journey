{
 "cells": [
  {
   "cell_type": "markdown",
   "id": "d3ae4789",
   "metadata": {},
   "source": [
    "## Generators\n",
    "Generators in Python are a special type of iterable (like lists or tuples) but instead of storing all the values in memory at once, they generate values on the fly as you loop through them.\n",
    "\n",
    "They're created using generator functions (with yield) or generator expression."
   ]
  },
  {
   "cell_type": "markdown",
   "id": "1e71a6e8",
   "metadata": {},
   "source": [
    "## Key points about Generators:\n",
    "**1. Lazy Evaluation**\n",
    "- Values are produced one at a time, only when needed.\n",
    "- Saves memory and is efficient for large datasets.\n",
    "\n",
    "**2. Defined with yield**\n",
    "- A function becomes a generator if it has yield insted of return.\n",
    "- Each call to yield pauses the function, saving the state, and resumes from there next time.\n",
    "\n",
    "**3. Memory Efficient**\n",
    "- unlike lists, they dont store all the values in the memory.\n",
    "- Useful for handling streams, files, or large computations.\n",
    "\n",
    "**4. Iterators Under the Hood**\n",
    "- Generators automatically implement the iterator protocol (__iter__and__next__)"
   ]
  },
  {
   "cell_type": "code",
   "execution_count": 1,
   "id": "2f57c131",
   "metadata": {},
   "outputs": [
    {
     "name": "stdout",
     "output_type": "stream",
     "text": [
      "1\n",
      "2\n",
      "3\n",
      "4\n",
      "5\n",
      "6\n",
      "7\n",
      "8\n",
      "9\n",
      "10\n"
     ]
    }
   ],
   "source": [
    "def count_up_to(n):\n",
    "    count = 1\n",
    "    while count <= n:\n",
    "        yield count\n",
    "        count += 1\n",
    "\n",
    "gen = count_up_to(10)\n",
    "for num in gen:\n",
    "    print(num)"
   ]
  },
  {
   "cell_type": "markdown",
   "id": "5a541ded",
   "metadata": {},
   "source": [
    "\n"
   ]
  }
 ],
 "metadata": {
  "kernelspec": {
   "display_name": "venv",
   "language": "python",
   "name": "python3"
  },
  "language_info": {
   "codemirror_mode": {
    "name": "ipython",
    "version": 3
   },
   "file_extension": ".py",
   "mimetype": "text/x-python",
   "name": "python",
   "nbconvert_exporter": "python",
   "pygments_lexer": "ipython3",
   "version": "3.13.5"
  }
 },
 "nbformat": 4,
 "nbformat_minor": 5
}
