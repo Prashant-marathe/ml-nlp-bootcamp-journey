{
 "cells": [
  {
   "cell_type": "markdown",
   "id": "86218fec",
   "metadata": {},
   "source": [
    "## Decorators\n",
    "Decorators are a powerful and flexible feature in python that allows you to modify the behavior of a function or class method. They are commonly used to add functionality to functions and methods without modifying there actual code."
   ]
  },
  {
   "cell_type": "code",
   "execution_count": 1,
   "id": "fb1b38b2",
   "metadata": {},
   "outputs": [],
   "source": [
    "# function copy\n",
    "# closures\n",
    "# decorators"
   ]
  },
  {
   "cell_type": "code",
   "execution_count": 2,
   "id": "05a2d1af",
   "metadata": {},
   "outputs": [
    {
     "data": {
      "text/plain": [
       "'Welcome, I am Prashant Marathe.'"
      ]
     },
     "execution_count": 2,
     "metadata": {},
     "output_type": "execute_result"
    }
   ],
   "source": [
    "# function copy \n",
    "def welcome():\n",
    "    return 'Welcome, I am Prashant Marathe.'\n",
    "\n",
    "welcome()"
   ]
  },
  {
   "cell_type": "code",
   "execution_count": 3,
   "id": "b93e28a4",
   "metadata": {},
   "outputs": [
    {
     "name": "stdout",
     "output_type": "stream",
     "text": [
      "Welcome, I am Prashant Marathe.\n"
     ]
    }
   ],
   "source": [
    "wel = welcome\n",
    "wel()\n",
    "del welcome\n",
    "print(wel())"
   ]
  },
  {
   "cell_type": "code",
   "execution_count": 4,
   "id": "9a0f2530",
   "metadata": {},
   "outputs": [],
   "source": [
    "# closures functions\n",
    "def main_welcome(msg):\n",
    "    def sub_welcome():\n",
    "        print('Welcome, everyone')\n",
    "        print(msg)\n",
    "        print('Its a pleasure to meet you all')\n",
    "    return sub_welcome()\n"
   ]
  },
  {
   "cell_type": "code",
   "execution_count": 5,
   "id": "b4a0f1c6",
   "metadata": {},
   "outputs": [
    {
     "name": "stdout",
     "output_type": "stream",
     "text": [
      "Welcome, everyone\n",
      "welcome, prashant\n",
      "Its a pleasure to meet you all\n"
     ]
    }
   ],
   "source": [
    "main_welcome(\"welcome, prashant\")"
   ]
  },
  {
   "cell_type": "code",
   "execution_count": 6,
   "id": "557e0487",
   "metadata": {},
   "outputs": [],
   "source": [
    "# Decorators \n",
    "def main_welcome(func):\n",
    "\n",
    "    def sub_welcome():\n",
    "        print('Welcome to the sub_fucntion')\n",
    "        func('I am the func argument')\n",
    "        print('End')\n",
    "    return sub_welcome()"
   ]
  },
  {
   "cell_type": "code",
   "execution_count": 7,
   "id": "1935b175",
   "metadata": {},
   "outputs": [
    {
     "name": "stdout",
     "output_type": "stream",
     "text": [
      "Welcome to the sub_fucntion\n",
      "I am the func argument\n",
      "End\n"
     ]
    }
   ],
   "source": [
    "main_welcome(print)"
   ]
  },
  {
   "cell_type": "code",
   "execution_count": 8,
   "id": "8e7115e8",
   "metadata": {},
   "outputs": [],
   "source": [
    "# What is a decorator : A decorator is a callable object (typically a function) that takes another function as an argument, adds some functionality, and returns a new function with the modified behavior"
   ]
  },
  {
   "cell_type": "code",
   "execution_count": 11,
   "id": "1214a146",
   "metadata": {},
   "outputs": [
    {
     "name": "stdout",
     "output_type": "stream",
     "text": [
      "This is the function that is given to the main function as parameter.\n",
      "\n",
      "This is the main fucntion.\n",
      "This is sub welcome function.\n",
      "This is the function that is given to the main function as parameter.\n",
      "End of the sub welcome function.\n"
     ]
    }
   ],
   "source": [
    "def main_welcome(func):\n",
    "    print('This is the main fucntion.')\n",
    "    def sub_welcome():\n",
    "        print('This is sub welcome function.')\n",
    "        func()\n",
    "        print('End of the sub welcome function.')\n",
    "    return sub_welcome()\n",
    "\n",
    "\n",
    "def outer_function():\n",
    "    print('This is the function that is given to the main function as parameter.')\n",
    "\n",
    "\n",
    "outer_function()\n",
    "print()\n",
    "main_welcome(outer_function)"
   ]
  },
  {
   "cell_type": "code",
   "execution_count": 17,
   "id": "5daf5a34",
   "metadata": {},
   "outputs": [
    {
     "name": "stdout",
     "output_type": "stream",
     "text": [
      "This is main\n",
      "This is the start of the sub main.\n",
      "Outer function with decorator @main_welcome\n",
      "This is the end of sub main.\n"
     ]
    }
   ],
   "source": [
    "# Q. is there a way to get the same output without calling the main function? yes\n",
    "def main_welcome(func):\n",
    "    print('This is main')\n",
    "    def sub_main():\n",
    "        print('This is the start of the sub main.')\n",
    "        func()\n",
    "        print('This is the end of sub main.')\n",
    "    return sub_main()\n",
    "\n",
    "@main_welcome\n",
    "def outer_function():\n",
    "    print('Outer function with decorator @main_welcome')\n"
   ]
  },
  {
   "cell_type": "code",
   "execution_count": 24,
   "id": "d9289022",
   "metadata": {},
   "outputs": [],
   "source": [
    "# Examples : Decorator with argument\n",
    "def repeat(n):\n",
    "    def decorator(func):\n",
    "        def wrapper(*args, **kwargs):\n",
    "            for _ in range(n):\n",
    "                func(*args, **kwargs)\n",
    "        return wrapper\n",
    "    return decorator\n",
    "\n",
    "@repeat(5)\n",
    "def say_hello():\n",
    "    print('Hello')"
   ]
  },
  {
   "cell_type": "code",
   "execution_count": 25,
   "id": "9ad46474",
   "metadata": {},
   "outputs": [
    {
     "name": "stdout",
     "output_type": "stream",
     "text": [
      "Hello\n",
      "Hello\n",
      "Hello\n",
      "Hello\n",
      "Hello\n"
     ]
    }
   ],
   "source": [
    "say_hello()"
   ]
  },
  {
   "cell_type": "markdown",
   "id": "fe6ff581",
   "metadata": {},
   "source": [
    "## Conclusion\n",
    "Decorators are a powerful tool in Python for extending and modifying the behavior of functions and methods. They provide a clean and readable way to add functionality such as logging, timing, access control, and more withot changing the original code. Understanding and using dcorators effictively can significantly enhance your Python programming skills."
   ]
  }
 ],
 "metadata": {
  "kernelspec": {
   "display_name": "venv",
   "language": "python",
   "name": "python3"
  },
  "language_info": {
   "codemirror_mode": {
    "name": "ipython",
    "version": 3
   },
   "file_extension": ".py",
   "mimetype": "text/x-python",
   "name": "python",
   "nbconvert_exporter": "python",
   "pygments_lexer": "ipython3",
   "version": "3.13.5"
  }
 },
 "nbformat": 4,
 "nbformat_minor": 5
}
