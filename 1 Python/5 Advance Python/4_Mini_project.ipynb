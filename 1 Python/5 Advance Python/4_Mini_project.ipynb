{
 "cells": [
  {
   "cell_type": "markdown",
   "id": "e725d359",
   "metadata": {},
   "source": [
    "## Mini-Project : Log Processing System\n",
    "📌Scenerio:\n",
    "\n",
    "We have a big log file with thousands of lines. We want to:\n",
    "\n",
    "1. Iterate through the file line by line (using an iterator).\n",
    "\n",
    "2. Generate only the error messages (using a generator).\n",
    "\n",
    "3. Decorate a function to automarically log how long it took to process the errors (using a decorator)."
   ]
  },
  {
   "cell_type": "code",
   "execution_count": 22,
   "id": "a5d97d03",
   "metadata": {},
   "outputs": [],
   "source": [
    "# Step 1: Decorator for timing\n",
    "\n",
    "import time\n",
    "\n",
    "def timer(func):\n",
    "    def wrapper(*args, **kwargs):\n",
    "        start = time.time()\n",
    "        result = func(*args, **kwargs)\n",
    "        end = time.time()\n",
    "        print(f'Execution time: {end - start:.4f} seconds')\n",
    "        return result\n",
    "    return wrapper"
   ]
  },
  {
   "cell_type": "code",
   "execution_count": 13,
   "id": "7e11c02b",
   "metadata": {},
   "outputs": [],
   "source": [
    "# Step 2: Iterator for reading file\n",
    "class LogFileIterator:\n",
    "    def __init__(self, filepath):\n",
    "        self.file = open(filepath, 'r')\n",
    "        \n",
    "    def __iter__(self):\n",
    "        return self\n",
    "    \n",
    "    def __next__(self):\n",
    "        line = self.file.readline()\n",
    "        if line:\n",
    "            return line.strip()\n",
    "        else:\n",
    "            self.file.close()\n",
    "            raise StopIteration"
   ]
  },
  {
   "cell_type": "code",
   "execution_count": 14,
   "id": "04808b35",
   "metadata": {},
   "outputs": [],
   "source": [
    "# Step 3: Generator for filtering rows\n",
    "def error_genearator(log_iterator):\n",
    "    for line in log_iterator:\n",
    "        if 'ERROR' in line:\n",
    "            yield line"
   ]
  },
  {
   "cell_type": "code",
   "execution_count": 24,
   "id": "93c345d7",
   "metadata": {},
   "outputs": [
    {
     "name": "stdout",
     "output_type": "stream",
     "text": [
      "❌ ERROR: Database connection failed\n",
      "❌ ERROR: File not found\n",
      "❌ ERROR: Timeout while connecting to server\n",
      "Execution time: 0.0014 seconds\n"
     ]
    }
   ],
   "source": [
    "# Combining everything\n",
    "@timer\n",
    "def process_errors(filepath):\n",
    "    logs = LogFileIterator(filepath)\n",
    "    errors = error_genearator(logs)\n",
    "    for err in errors:\n",
    "        print(\"❌\", err)\n",
    "\n",
    "process_errors('log.txt')"
   ]
  }
 ],
 "metadata": {
  "kernelspec": {
   "display_name": "venv",
   "language": "python",
   "name": "python3"
  },
  "language_info": {
   "codemirror_mode": {
    "name": "ipython",
    "version": 3
   },
   "file_extension": ".py",
   "mimetype": "text/x-python",
   "name": "python",
   "nbconvert_exporter": "python",
   "pygments_lexer": "ipython3",
   "version": "3.13.5"
  }
 },
 "nbformat": 4,
 "nbformat_minor": 5
}
