{
 "cells": [
  {
   "cell_type": "markdown",
   "id": "733caa09",
   "metadata": {},
   "source": [
    "## Numpy\n",
    "Numpy is a funcdamental library for scientific computing in Python. It provides support for arrays and matrices, along with a collection of mathematical functions to operate on these data structures."
   ]
  },
  {
   "cell_type": "code",
   "execution_count": 11,
   "id": "4acf54cd",
   "metadata": {},
   "outputs": [
    {
     "name": "stdout",
     "output_type": "stream",
     "text": [
      "[1 2 3 4 5] <class 'numpy.ndarray'>\n"
     ]
    },
    {
     "data": {
      "text/plain": [
       "(5,)"
      ]
     },
     "execution_count": 11,
     "metadata": {},
     "output_type": "execute_result"
    }
   ],
   "source": [
    "import numpy as np\n",
    "\n",
    "# create an array using numpy\n",
    "# 1D array\n",
    "arr1 = np.array([1,2,3,4,5])\n",
    "print(arr1, type(arr1))\n",
    "arr1.shape"
   ]
  },
  {
   "cell_type": "code",
   "execution_count": 6,
   "id": "7b577e65",
   "metadata": {},
   "outputs": [
    {
     "data": {
      "text/plain": [
       "array([[1, 2, 3, 4, 5, 6]])"
      ]
     },
     "execution_count": 6,
     "metadata": {},
     "output_type": "execute_result"
    }
   ],
   "source": [
    "arr2 = np.array([1,2,3,4,5,6]).reshape(1,6)    # reshape as 1 row 6 columns\n",
    "arr2"
   ]
  },
  {
   "cell_type": "code",
   "execution_count": 7,
   "id": "4f9e7aeb",
   "metadata": {},
   "outputs": [
    {
     "data": {
      "text/plain": [
       "(1, 6)"
      ]
     },
     "execution_count": 7,
     "metadata": {},
     "output_type": "execute_result"
    }
   ],
   "source": [
    "arr2 = np.array([[1,2,3,4,5,6]])\n",
    "arr2.shape"
   ]
  },
  {
   "cell_type": "code",
   "execution_count": 10,
   "id": "29cb433d",
   "metadata": {},
   "outputs": [
    {
     "name": "stdout",
     "output_type": "stream",
     "text": [
      "[[ 1  2  3  4  5]\n",
      " [ 6  7  8  9 10]]\n"
     ]
    },
    {
     "data": {
      "text/plain": [
       "(2, 5)"
      ]
     },
     "execution_count": 10,
     "metadata": {},
     "output_type": "execute_result"
    }
   ],
   "source": [
    "# 2D array\n",
    "arr3 = np.array([[1,2,3,4,5], [6,7,8,9,10]])\n",
    "print(arr3)\n",
    "arr3.shape"
   ]
  },
  {
   "cell_type": "code",
   "execution_count": null,
   "id": "0bc46e12",
   "metadata": {},
   "outputs": [
    {
     "name": "stdout",
     "output_type": "stream",
     "text": [
      "[ 1 11 21 31 41 51 61 71 81 91]\n",
      "[[0. 0. 0. 0. 0.]\n",
      " [0. 0. 0. 0. 0.]\n",
      " [0. 0. 0. 0. 0.]\n",
      " [0. 0. 0. 0. 0.]\n",
      " [0. 0. 0. 0. 0.]]\n",
      "[[1. 1. 1. 1. 1.]\n",
      " [1. 1. 1. 1. 1.]\n",
      " [1. 1. 1. 1. 1.]\n",
      " [1. 1. 1. 1. 1.]\n",
      " [1. 1. 1. 1. 1.]]\n",
      "[[1. 0. 0. 0.]\n",
      " [0. 1. 0. 0.]\n",
      " [0. 0. 1. 0.]\n",
      " [0. 0. 0. 1.]]\n",
      "[ 0.  2.  4.  6.  8. 10.]\n",
      "[[5 5 5 5 5]\n",
      " [5 5 5 5 5]\n",
      " [5 5 5 5 5]\n",
      " [5 5 5 5 5]\n",
      " [5 5 5 5 5]]\n"
     ]
    }
   ],
   "source": [
    "# Creating arrays using built in functions\n",
    "arange = np.arange(1, 100, 10)\n",
    "print(arange)\n",
    "\n",
    "zeros = np.zeros((5,5))\n",
    "print(zeros)\n",
    "\n",
    "ones = np.ones((5,5))\n",
    "print(ones)\n",
    "\n",
    "identity = np.eye(4)\n",
    "print(identity)\n",
    "\n",
    "space = np.linspace(0, 10, 6)\n",
    "print(space)\n",
    "\n",
    "full = np.full((5,5), 5)   # first shape and then the constant number\n",
    "print(full)"
   ]
  },
  {
   "cell_type": "code",
   "execution_count": null,
   "id": "a7354740",
   "metadata": {},
   "outputs": [
    {
     "name": "stdout",
     "output_type": "stream",
     "text": [
      "Array: \n",
      " [[1. 1. 1. 1. 1.]\n",
      " [1. 1. 1. 1. 1.]\n",
      " [1. 1. 1. 1. 1.]\n",
      " [1. 1. 1. 1. 1.]\n",
      " [1. 1. 1. 1. 1.]]\n",
      "Shape: \n",
      " (5, 5)\n",
      "Size: \n",
      " 25\n",
      "Dimensions: \n",
      " 2\n",
      "Transpose: \n",
      " [[ 1  6]\n",
      " [ 2  7]\n",
      " [ 3  8]\n",
      " [ 4  9]\n",
      " [ 5 10]]\n",
      "Datatype: \n",
      " float64\n",
      "Itemsize: \n",
      " 8\n"
     ]
    }
   ],
   "source": [
    "# Array attributes\n",
    "print('Array: \\n', ones)\n",
    "\n",
    "print('Shape: \\n', ones.shape)   # shape of the array as tuple (row, column)\n",
    "print('Size: \\n', ones.size)   # number of elements\n",
    "print('Dimensions: \\n', ones.ndim)   # dimensions of the array like 2 dimension\n",
    "print('Transpose: \\n', arr3.T)      # returns the transpose of the array\n",
    "print('Datatype: \\n', identity.dtype)   # datatype of the array\n",
    "print('Itemsize: \\n', ones.itemsize)     # size of each item in bytes"
   ]
  },
  {
   "cell_type": "code",
   "execution_count": null,
   "id": "15353413",
   "metadata": {},
   "outputs": [
    {
     "name": "stdout",
     "output_type": "stream",
     "text": [
      "Addition using vectorization:  [11 22 33 44 55]\n",
      "Substraction:  [ -9 -18 -27 -36 -45]\n",
      "Substraction:  [ 10  40  90 160 250]\n",
      "Substraction:  [0.1 0.1 0.1 0.1 0.1]\n"
     ]
    }
   ],
   "source": [
    "# Numpy vectorized operations\n",
    "arr1 = np.array([1,2,3,4,5])\n",
    "arr2 = np.array([10, 20, 30, 40, 50])\n",
    "\n",
    "# Addition\n",
    "print('Addition using vectorization: ', arr1 + arr2)\n",
    "\n",
    "# Substraction\n",
    "print('Substraction: ', arr1 - arr2)\n",
    "\n",
    "# Multiplication\n",
    "print('Substraction: ', arr1 * arr2)\n",
    "\n",
    "# Division\n",
    "print('Substraction: ', arr1 / arr2)"
   ]
  },
  {
   "cell_type": "code",
   "execution_count": 50,
   "id": "8bf11657",
   "metadata": {},
   "outputs": [
    {
     "name": "stdout",
     "output_type": "stream",
     "text": [
      "5.5\n",
      "2.8722813232690143\n",
      "8.25\n",
      "1\n",
      "10\n",
      "55\n",
      "3628800\n",
      "5.5\n",
      "[[2.71828183e+00 7.38905610e+00 2.00855369e+01 5.45981500e+01\n",
      "  1.48413159e+02]\n",
      " [4.03428793e+02 1.09663316e+03 2.98095799e+03 8.10308393e+03\n",
      "  2.20264658e+04]]\n"
     ]
    }
   ],
   "source": [
    "# Numpy Mathematical Functions\n",
    "\n",
    "arr = np.array([[1,2,3,4,5], [6,7,8,9,10]])\n",
    "\n",
    "# mean\n",
    "print(np.mean(arr))\n",
    "\n",
    "# standard deviation\n",
    "print(np.std(arr))\n",
    "\n",
    "# variance\n",
    "print(np.var(arr))\n",
    "\n",
    "# minimum\n",
    "print(np.min(arr))\n",
    "\n",
    "# maximum\n",
    "print(np.max(arr))\n",
    "\n",
    "# sum\n",
    "print(np.sum(arr))\n",
    "\n",
    "# product \n",
    "print(np.prod(arr))\n",
    "\n",
    "# median\n",
    "print(np.median(arr))\n",
    "\n",
    "# exponentiation\n",
    "print(np.exp(arr))"
   ]
  },
  {
   "cell_type": "code",
   "execution_count": 63,
   "id": "48fa2567",
   "metadata": {},
   "outputs": [
    {
     "name": "stdout",
     "output_type": "stream",
     "text": [
      "[[ 1  2  3  4]\n",
      " [ 5  6  7  8]\n",
      " [ 9 10 11 12]]\n",
      "1\n",
      "7\n",
      "12\n",
      "First row:  [[1 2 3 4]]\n",
      "First column: \n",
      " [[1]\n",
      " [5]\n",
      " [9]]\n",
      "Third column: \n",
      " [[ 3]\n",
      " [ 7]\n",
      " [11]]\n",
      "7 8 11 12 : \n",
      " [[ 7  8]\n",
      " [11 12]]\n"
     ]
    }
   ],
   "source": [
    "# array indexing and slicing for 2 dimensional arrays\n",
    "new_arr = np.array([[1,2,3,4], [5,6,7,8], [9,10,11,12]])\n",
    "print(new_arr)\n",
    "\n",
    "# indexing :Array indexing starts from zero : for 2 dimensional arrays (row, col)\n",
    "print(new_arr[0,0])  # 1\n",
    "print(new_arr[1,2])  # 7\n",
    "print(new_arr[2,3])  # 12\n",
    "\n",
    "# slicing : You can slice a small portion of arrays using string slicing : (row_start:row_end, col_start, col_end)\n",
    "print('First row: ', new_arr[0:1, 0:])   # here the order goes from (0:1) : from row_start to row_end - 1\n",
    "print('First column: \\n', new_arr[0:, 0:1])\n",
    "print('Third column: \\n', new_arr[0:, 2:3])\n",
    "print(\"7 8 11 12 : \\n\", new_arr[1:, 2:])"
   ]
  },
  {
   "cell_type": "code",
   "execution_count": 64,
   "id": "f69c95e6",
   "metadata": {},
   "outputs": [],
   "source": [
    "# Real world use case: Normalization\n",
    "# What is normalization -> Normalization is a technique to organize data to reduce redundancy and improve data integrity.  In machine learning, it's a feature scaling technique that adjusts the range of data, for example by scaling it up or down, to ensure all features have a similar scale for better model performance.\n",
    "# Process:\n",
    "# Min-Max Scaling: Rescales data to a specific range, typically between 0 and 1. \n",
    "# Z-Score Normalization (Standardization): Transforms data to have a mean of 0 and a standard deviation of 1. "
   ]
  },
  {
   "cell_type": "code",
   "execution_count": 65,
   "id": "96e4a10a",
   "metadata": {},
   "outputs": [
    {
     "name": "stdout",
     "output_type": "stream",
     "text": [
      "Normalized data: [-1.41421356 -0.70710678  0.          0.70710678  1.41421356]\n"
     ]
    }
   ],
   "source": [
    "# I will be using Z-Score Normalization (Also know as standardization of data) :\n",
    "data = np.array([1,2,3,4,5])\n",
    "\n",
    "# step 1: calculate the mean and standard deviation\n",
    "mean = np.mean(data)\n",
    "std = np.std(data)\n",
    "\n",
    "# step 2: Normalize the data\n",
    "normalized_data = (data - mean) / std\n",
    "print(f'Normalized data: {normalized_data}')"
   ]
  },
  {
   "cell_type": "code",
   "execution_count": 76,
   "id": "240dac8a",
   "metadata": {},
   "outputs": [
    {
     "name": "stdout",
     "output_type": "stream",
     "text": [
      "[False False False False False  True  True  True  True  True]\n",
      "[ True  True  True  True  True  True  True False False False]\n",
      "[ 6  7  8  9 10]\n",
      "[5 6 7 8]\n"
     ]
    }
   ],
   "source": [
    "# Logical operations\n",
    "Data = np.array([1,2,3,4,5,6,7,8,9,10])\n",
    "\n",
    "print(Data > 5)   # Returns an array of true and false values true for those which satisfy the condition and false for those who do not\n",
    "print(Data < 8)\n",
    "\n",
    "# Access the elements that satisfy the condition instead of true or false\n",
    "print(Data[Data > 5])\n",
    "print(Data[(Data >= 5) & (Data <= 8)])"
   ]
  },
  {
   "cell_type": "code",
   "execution_count": null,
   "id": "88f8256a",
   "metadata": {},
   "outputs": [],
   "source": []
  }
 ],
 "metadata": {
  "kernelspec": {
   "display_name": "venv",
   "language": "python",
   "name": "python3"
  },
  "language_info": {
   "codemirror_mode": {
    "name": "ipython",
    "version": 3
   },
   "file_extension": ".py",
   "mimetype": "text/x-python",
   "name": "python",
   "nbconvert_exporter": "python",
   "pygments_lexer": "ipython3",
   "version": "3.13.5"
  }
 },
 "nbformat": 4,
 "nbformat_minor": 5
}
