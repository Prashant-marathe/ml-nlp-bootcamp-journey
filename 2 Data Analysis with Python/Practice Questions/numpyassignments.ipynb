{
 "cells": [
  {
   "cell_type": "markdown",
   "metadata": {},
   "source": [
    "# Module: NumPy Assignments\n",
    "## Lesson: NumPy\n",
    "### Assignment 1: Array Creation and Manipulation\n",
    "\n",
    "1. Create a NumPy array of shape (5, 5) filled with random integers between 1 and 20. Replace all the elements in the third column with 1.\n",
    "2. Create a NumPy array of shape (4, 4) with values from 1 to 16. Replace the diagonal elements with 0.\n",
    "\n",
    "### Assignment 2: Array Indexing and Slicing\n",
    "\n",
    "1. Create a NumPy array of shape (6, 6) with values from 1 to 36. Extract the sub-array consisting of the 3rd to 5th rows and 2nd to 4th columns.\n",
    "2. Create a NumPy array of shape (5, 5) with random integers. Extract the elements on the border.\n",
    "\n",
    "### Assignment 3: Array Operations\n",
    "\n",
    "1. Create two NumPy arrays of shape (3, 4) filled with random integers. Perform element-wise addition, subtraction, multiplication, and division.\n",
    "2. Create a NumPy array of shape (4, 4) with values from 1 to 16. Compute the row-wise and column-wise sum.\n",
    "\n",
    "### Assignment 4: Statistical Operations\n",
    "\n",
    "1. Create a NumPy array of shape (5, 5) filled with random integers. Compute the mean, median, standard deviation, and variance of the array.\n",
    "2. Create a NumPy array of shape (3, 3) with values from 1 to 9. Normalize the array (i.e., scale the values to have a mean of 0 and a standard deviation of 1).\n",
    "\n",
    "### Assignment 5: Broadcasting\n",
    "\n",
    "1. Create a NumPy array of shape (3, 3) filled with random integers. Add a 1D array of shape (3,) to each row of the 2D array using broadcasting.\n",
    "2. Create a NumPy array of shape (4, 4) filled with random integers. Subtract a 1D array of shape (4,) from each column of the 2D array using broadcasting.\n",
    "\n",
    "### Assignment 6: Linear Algebra\n",
    "\n",
    "1. Create a NumPy array of shape (3, 3) representing a matrix. Compute its determinant, inverse, and eigenvalues.\n",
    "2. Create two NumPy arrays of shape (2, 3) and (3, 2). Perform matrix multiplication on these arrays.\n",
    "\n",
    "### Assignment 7: Advanced Array Manipulation\n",
    "\n",
    "1. Create a NumPy array of shape (3, 3) with values from 1 to 9. Reshape the array to shape (1, 9) and then to shape (9, 1).\n",
    "2. Create a NumPy array of shape (5, 5) filled with random integers. Flatten the array and then reshape it back to (5, 5).\n",
    "\n",
    "### Assignment 8: Fancy Indexing and Boolean Indexing\n",
    "\n",
    "1. Create a NumPy array of shape (5, 5) filled with random integers. Use fancy indexing to extract the elements at the corners of the array.\n",
    "2. Create a NumPy array of shape (4, 4) filled with random integers. Use boolean indexing to set all elements greater than 10 to 10.\n",
    "\n",
    "### Assignment 9: Structured Arrays\n",
    "\n",
    "1. Create a structured array with fields 'name' (string), 'age' (integer), and 'weight' (float). Add some data and sort the array by age.\n",
    "2. Create a structured array with fields 'x' and 'y' (both integers). Add some data and compute the Euclidean distance between each pair of points.\n",
    "\n",
    "### Assignment 10: Masked Arrays\n",
    "\n",
    "1. Create a masked array of shape (4, 4) with random integers and mask the elements greater than 10. Compute the sum of the unmasked elements.\n",
    "2. Create a masked array of shape (3, 3) with random integers and mask the diagonal elements. Replace the masked elements with the mean of the unmasked elements."
   ]
  },
  {
   "cell_type": "code",
   "execution_count": 23,
   "metadata": {},
   "outputs": [
    {
     "name": "stdout",
     "output_type": "stream",
     "text": [
      "[[ 9  8  1 18 17]\n",
      " [ 5 16  1  2  7]\n",
      " [12 12  1 10 11]\n",
      " [19  3  1  1 10]\n",
      " [ 8 12  1 14 18]]\n",
      "[[ 0 12  5  3]\n",
      " [12  0 15  9]\n",
      " [ 6  6  0 10]\n",
      " [ 7 10 15  0]]\n"
     ]
    }
   ],
   "source": [
    "import numpy as np\n",
    "\n",
    "arr = np.random.randint( 1, 20, (5,5))\n",
    "arr[:, 2:3] = 1\n",
    "print(arr)\n",
    "\n",
    "arr2 = np.random.randint(1, 16, (4,4))\n",
    "arr2[0:1,0:1] = 0\n",
    "arr2[1:2,1:2] = 0\n",
    "arr2[2:3,2:3] = 0\n",
    "arr2[3:4,3:4] = 0\n",
    "print(arr2)"
   ]
  },
  {
   "cell_type": "code",
   "execution_count": 36,
   "id": "5b52b9d3",
   "metadata": {},
   "outputs": [
    {
     "data": {
      "text/plain": [
       "array([[3, 3, 3, 3, 4],\n",
       "       [2, 0, 3, 1, 3],\n",
       "       [1, 1, 3, 4, 1],\n",
       "       [1, 3, 1, 1, 3],\n",
       "       [3, 0, 4, 4, 1]], dtype=int32)"
      ]
     },
     "execution_count": 36,
     "metadata": {},
     "output_type": "execute_result"
    }
   ],
   "source": [
    "np.random.seed(42)\n",
    "arr = np.random.randint(1, 36, (6,6))\n",
    "arr[3:6, 2:5]\n",
    "\n",
    "\n",
    "arr = np.random.randint(0, 5, (5,5))"
   ]
  },
  {
   "cell_type": "code",
   "execution_count": 41,
   "id": "4a76d75c",
   "metadata": {},
   "outputs": [
    {
     "name": "stdout",
     "output_type": "stream",
     "text": [
      "[[10 10 13  7]\n",
      " [15  9  9 13]\n",
      " [ 6 10 17  9]]\n",
      "[[ 4 -2  3  3]\n",
      " [-1 -3  5  3]\n",
      " [ 4 -2 -1  7]]\n",
      "[[21 24 40 10]\n",
      " [56 18 14 40]\n",
      " [ 5 24 72  8]]\n",
      "[[2.33333333 0.66666667 1.6        2.5       ]\n",
      " [0.875      0.5        3.5        1.6       ]\n",
      " [5.         0.66666667 0.88888889 8.        ]]\n",
      "[[11 11 15 10]\n",
      " [12 12 15 14]\n",
      " [14 15 14  3]\n",
      " [12  7  4  9]]\n",
      "[49 45 48 36]\n",
      "[47 53 46 32]\n"
     ]
    }
   ],
   "source": [
    "np.random.seed(42)\n",
    "arr1 = np.random.randint(1, 10, (3,4))\n",
    "arr2 = np.random.randint(1, 10, (3,4))\n",
    "\n",
    "print(arr1 + arr2)\n",
    "print(arr1 - arr2)\n",
    "print(arr1 * arr2)\n",
    "print(arr1 / arr2)\n",
    "\n",
    "arr3 = np.random.randint(1, 16, (4,4))\n",
    "print(arr3)\n",
    "print(np.sum(arr3, axis=0))\n",
    "print(np.sum(arr3, axis=1))"
   ]
  },
  {
   "cell_type": "code",
   "execution_count": 43,
   "id": "cf142e86",
   "metadata": {},
   "outputs": [
    {
     "name": "stdout",
     "output_type": "stream",
     "text": [
      "5.92\n",
      "7.0\n",
      "2.7410946718418905\n",
      "7.5136\n",
      "[[-1.13137085  1.83847763 -0.28284271]\n",
      " [-0.28284271 -1.13137085 -0.28284271]\n",
      " [ 0.56568542 -0.70710678  1.41421356]]\n"
     ]
    }
   ],
   "source": [
    "arr = np.random.randint(1, 10, (5,5))\n",
    "\n",
    "print(np.mean(arr))\n",
    "print(np.median(arr))\n",
    "print(np.std(arr))\n",
    "print(np.var(arr))\n",
    "\n",
    "new_arr = np.random.randint(1, 9, (3,3))\n",
    "\n",
    "# normalization (arr * mean) / std\n",
    "mean = np.mean(new_arr)\n",
    "std = np.std(new_arr)\n",
    "\n",
    "normalized_arr = (new_arr - mean) / std\n",
    "print(normalized_arr)"
   ]
  },
  {
   "cell_type": "code",
   "execution_count": 46,
   "id": "e1b1dd22",
   "metadata": {},
   "outputs": [
    {
     "name": "stdout",
     "output_type": "stream",
     "text": [
      "[[6 3 3]\n",
      " [1 3 5]\n",
      " [7 6 3]]\n",
      "[1 2 3]\n",
      "[[7 5 6]\n",
      " [2 5 8]\n",
      " [8 8 6]]\n"
     ]
    }
   ],
   "source": [
    "arr1 = np.random.randint(1, 9, (3,3))\n",
    "arr2 = np.array([1,2,3])\n",
    "print(arr1)\n",
    "print(arr2)\n",
    "print(arr1 + arr2)"
   ]
  },
  {
   "cell_type": "code",
   "execution_count": null,
   "id": "5333b03b",
   "metadata": {},
   "outputs": [],
   "source": []
  },
  {
   "cell_type": "code",
   "execution_count": null,
   "id": "fd52e323",
   "metadata": {},
   "outputs": [],
   "source": []
  }
 ],
 "metadata": {
  "kernelspec": {
   "display_name": "venv",
   "language": "python",
   "name": "python3"
  },
  "language_info": {
   "codemirror_mode": {
    "name": "ipython",
    "version": 3
   },
   "file_extension": ".py",
   "mimetype": "text/x-python",
   "name": "python",
   "nbconvert_exporter": "python",
   "pygments_lexer": "ipython3",
   "version": "3.13.5"
  }
 },
 "nbformat": 4,
 "nbformat_minor": 5
}
