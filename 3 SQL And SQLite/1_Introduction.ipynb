{
 "cells": [
  {
   "cell_type": "markdown",
   "id": "eef7501c",
   "metadata": {},
   "source": [
    "## SQL and SQLite\n",
    "SQL (Structured Query Language) is a standard language for managing and manipulating relational databases SQLite is a self-contained, serverless, and zero-configuration database engine that is widely used for embedded database systems."
   ]
  },
  {
   "cell_type": "code",
   "execution_count": 1,
   "id": "d6b3e38c",
   "metadata": {},
   "outputs": [],
   "source": [
    "import sqlite3"
   ]
  },
  {
   "cell_type": "code",
   "execution_count": null,
   "id": "e94a558f",
   "metadata": {},
   "outputs": [
    {
     "data": {
      "text/plain": [
       "<sqlite3.Connection at 0x1b94277f970>"
      ]
     },
     "execution_count": 2,
     "metadata": {},
     "output_type": "execute_result"
    }
   ],
   "source": [
    "# Connect to SQLite database : Establish the connection between the db file and python file\n",
    "connection = sqlite3.connect('example.db')\n",
    "connection"
   ]
  },
  {
   "cell_type": "code",
   "execution_count": null,
   "id": "4a3226bd",
   "metadata": {},
   "outputs": [],
   "source": [
    "# Create a cursor : A cursor is basically a pointer or handle used to interact with the database through your program.\n",
    "cursor = connection.cursor()"
   ]
  },
  {
   "cell_type": "code",
   "execution_count": null,
   "id": "a46546db",
   "metadata": {},
   "outputs": [],
   "source": [
    "# Create a Table \n",
    "cursor.execute('''\n",
    "CREATE TABLE IF NOT EXISTS employee (\n",
    "    id INTEGER PRIMARY KEY,\n",
    "    name VARCHAR(50) NOT NULL,\n",
    "    age INTEGER,\n",
    "    department VERCHAR(30)       \n",
    ")\n",
    "''')\n",
    "\n",
    "connection.commit()"
   ]
  },
  {
   "cell_type": "code",
   "execution_count": 7,
   "id": "be861f22",
   "metadata": {},
   "outputs": [
    {
     "data": {
      "text/plain": [
       "<sqlite3.Cursor at 0x1b943c8e7c0>"
      ]
     },
     "execution_count": 7,
     "metadata": {},
     "output_type": "execute_result"
    }
   ],
   "source": [
    "connection.execute('SELECT * FROM employee')"
   ]
  },
  {
   "cell_type": "code",
   "execution_count": 8,
   "id": "63500df7",
   "metadata": {},
   "outputs": [],
   "source": [
    "# Insert data into the table\n",
    "connection.execute('''\n",
    "INSERT INTO employee \n",
    "(id, name, age, department) \n",
    "VALUES\n",
    "(101, \"Prashant Marathe\", 20, \"Computer Science\"),\n",
    "(102, \"Pranav Devre\", 19, \"Computer Science\"),\n",
    "(103, \"Devendra Bhoi\", 18, \"Rocket Science\")\n",
    "''')\n",
    "\n",
    "# Commit the changes\n",
    "connection.commit()"
   ]
  },
  {
   "cell_type": "code",
   "execution_count": 9,
   "id": "685f4a36",
   "metadata": {},
   "outputs": [
    {
     "name": "stdout",
     "output_type": "stream",
     "text": [
      "(101, 'Prashant Marathe', 20, 'Computer Science')\n",
      "(102, 'Pranav Devre', 19, 'Computer Science')\n",
      "(103, 'Devendra Bhoi', 18, 'Rocket Science')\n"
     ]
    }
   ],
   "source": [
    "# Get the table from the database\n",
    "cursor.execute('SELECT * FROM employee')\n",
    "rows = cursor.fetchall()\n",
    "\n",
    "# Print the rows of data 1 by one using loop\n",
    "for row in rows:\n",
    "    print(row)"
   ]
  },
  {
   "cell_type": "code",
   "execution_count": 10,
   "id": "fdc61983",
   "metadata": {},
   "outputs": [],
   "source": [
    "# Update Data in the table\n",
    "cursor.execute('''\n",
    "UPDATE employee \n",
    "SET age=21\n",
    "WHERE name=\"Prashant Marathe\"\n",
    "''')\n",
    "\n",
    "connection.commit()"
   ]
  },
  {
   "cell_type": "code",
   "execution_count": 11,
   "id": "813252d7",
   "metadata": {},
   "outputs": [
    {
     "name": "stdout",
     "output_type": "stream",
     "text": [
      "(101, 'Prashant Marathe', 21, 'Computer Science')\n",
      "(102, 'Pranav Devre', 19, 'Computer Science')\n",
      "(103, 'Devendra Bhoi', 18, 'Rocket Science')\n"
     ]
    }
   ],
   "source": [
    "# Check if the updation happened\n",
    "cursor.execute('SELECT * FROM employee')\n",
    "rows = cursor.fetchall()\n",
    "\n",
    "# print the data\n",
    "for row in rows:\n",
    "    print(row)"
   ]
  },
  {
   "cell_type": "code",
   "execution_count": 12,
   "id": "ef04b0b7",
   "metadata": {},
   "outputs": [],
   "source": [
    "# Delete the data from the table\n",
    "cursor.execute('''\n",
    "DELETE FROM employee\n",
    "WHERE name=\"Pranav Devre\"\n",
    "''')\n",
    "\n",
    "# commit\n",
    "connection.commit()"
   ]
  },
  {
   "cell_type": "code",
   "execution_count": 14,
   "id": "d95f6d88",
   "metadata": {},
   "outputs": [
    {
     "name": "stdout",
     "output_type": "stream",
     "text": [
      "(101, 'Prashant Marathe', 21, 'Computer Science')\n",
      "(103, 'Devendra Bhoi', 18, 'Rocket Science')\n"
     ]
    }
   ],
   "source": [
    "# Get data from the table\n",
    "cursor.execute('SELECT * FROM employee')\n",
    "rows = cursor.fetchall()\n",
    "for row in rows:\n",
    "    print(row)"
   ]
  },
  {
   "cell_type": "code",
   "execution_count": 16,
   "id": "9ae1d8bf",
   "metadata": {},
   "outputs": [
    {
     "name": "stdout",
     "output_type": "stream",
     "text": [
      "(1, '2023-01-01', 'Product1', 100, 'North')\n",
      "(2, '2023-01-02', 'Product2', 100, 'South')\n",
      "(3, '2023-01-03', 'Product1', 150, 'East')\n",
      "(4, '2023-01-04', 'Product3', 250, 'West')\n",
      "(5, '2023-01-05', 'Product2', 300, 'North')\n"
     ]
    }
   ],
   "source": [
    "# Example : Working with sales data\n",
    "\n",
    "# Create a connecion\n",
    "connection = sqlite3.connect('sales_data.db')\n",
    "\n",
    "# Create a cursor\n",
    "cursor = connection.cursor()\n",
    "\n",
    "# Create a table of sales data\n",
    "cursor.execute('''\n",
    "CREATE TABLE IF NOT EXISTS sales (\n",
    "id INTEGER PRIMARY KEY,\n",
    "date text NOT NULL,\n",
    "product TEXT NOT NULL,\n",
    "sales INTEGER,\n",
    "region TEXT\n",
    ")\n",
    "''')\n",
    "\n",
    "# Insert into the table\n",
    "sales_data = [\n",
    "    ('2023-01-01', 'Product1', 100, 'North'),\n",
    "    ('2023-01-02', 'Product2', 100, 'South'),\n",
    "    ('2023-01-03', 'Product1', 150, 'East'),\n",
    "    ('2023-01-04', 'Product3', 250, 'West'),\n",
    "    ('2023-01-05', 'Product2', 300, 'North')\n",
    "]\n",
    "\n",
    "# use executemany to insert multiple records into table\n",
    "cursor.executemany(''' INSERT INTO sales (date, product, sales, region) VALUES (?, ?, ?, ?) ''', sales_data)\n",
    "\n",
    "# Confirm the process status \n",
    "cursor.execute(' SELECT * FROM sales')\n",
    "rows = cursor.fetchall()\n",
    "\n",
    "# commit the changes\n",
    "connection.commit()\n",
    "\n",
    "# print the data\n",
    "for row in rows:\n",
    "    print(row)"
   ]
  },
  {
   "cell_type": "code",
   "execution_count": 17,
   "id": "5be91886",
   "metadata": {},
   "outputs": [],
   "source": [
    "# close the database connection \n",
    "connection.close()"
   ]
  },
  {
   "cell_type": "code",
   "execution_count": 18,
   "id": "bea45500",
   "metadata": {},
   "outputs": [
    {
     "ename": "ProgrammingError",
     "evalue": "Cannot operate on a closed database.",
     "output_type": "error",
     "traceback": [
      "\u001b[31m---------------------------------------------------------------------------\u001b[39m",
      "\u001b[31mProgrammingError\u001b[39m                          Traceback (most recent call last)",
      "\u001b[36mCell\u001b[39m\u001b[36m \u001b[39m\u001b[32mIn[18]\u001b[39m\u001b[32m, line 2\u001b[39m\n\u001b[32m      1\u001b[39m \u001b[38;5;66;03m# Trying to access the data after closing the connection 😏😏😏\u001b[39;00m\n\u001b[32m----> \u001b[39m\u001b[32m2\u001b[39m cursor.execute(\u001b[33m'\u001b[39m\u001b[33m SELECT * FROM sales \u001b[39m\u001b[33m'\u001b[39m)\n\u001b[32m      3\u001b[39m rows = cursor.fetchall()\n",
      "\u001b[31mProgrammingError\u001b[39m: Cannot operate on a closed database."
     ]
    }
   ],
   "source": [
    "# Trying to access the data after closing the connection 😏😏😏\n",
    "cursor.execute(' SELECT * FROM sales ')\n",
    "rows = cursor.fetchall()"
   ]
  }
 ],
 "metadata": {
  "kernelspec": {
   "display_name": "venv",
   "language": "python",
   "name": "python3"
  },
  "language_info": {
   "codemirror_mode": {
    "name": "ipython",
    "version": 3
   },
   "file_extension": ".py",
   "mimetype": "text/x-python",
   "name": "python",
   "nbconvert_exporter": "python",
   "pygments_lexer": "ipython3",
   "version": "3.13.5"
  }
 },
 "nbformat": 4,
 "nbformat_minor": 5
}
