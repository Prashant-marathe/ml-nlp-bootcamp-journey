{
 "cells": [
  {
   "cell_type": "markdown",
   "id": "964cf61d",
   "metadata": {},
   "source": [
    "# Module: SQLite3 Assignments\n",
    "## Lesson: SQLite3\n",
    "### Assignment 1: Creating and Connecting to a Database\n",
    "\n",
    "1. Write a Python function to create a new SQLite3 database named `test.db`.\n",
    "2. Write a Python function to create a table named `employees` with columns `id` (integer), `name` (text), `age` (integer), and `department` (text) in the `test.db` database.\n",
    "\n",
    "### Assignment 2: Inserting Data\n",
    "\n",
    "1. Write a Python function to insert a new employee into the `employees` table.\n",
    "2. Insert at least 5 different employees into the `employees` table.\n",
    "\n",
    "### Assignment 3: Querying Data\n",
    "\n",
    "1. Write a Python function to fetch and display all records from the `employees` table.\n",
    "2. Write a Python function to fetch and display all employees from a specific department.\n",
    "\n",
    "### Assignment 4: Updating Data\n",
    "\n",
    "1. Write a Python function to update the department of an employee based on their `id`.\n",
    "2. Update the department of at least 2 employees and display the updated records.\n",
    "\n",
    "### Assignment 5: Deleting Data\n",
    "\n",
    "1. Write a Python function to delete an employee from the `employees` table based on their `id`.\n",
    "2. Delete at least 1 employee and display the remaining records.\n",
    "\n",
    "### Assignment 6: Advanced Queries\n",
    "\n",
    "1. Write a Python function to fetch and display employees older than a certain age.\n",
    "2. Write a Python function to fetch and display employees whose names start with a specific letter.\n",
    "\n",
    "### Assignment 7: Handling Transactions\n",
    "\n",
    "1. Write a Python function to insert multiple employees into the `employees` table in a single transaction. Ensure that if any insertion fails, none of the insertions are committed.\n",
    "2. Write a Python function to update the age of multiple employees in a single transaction. Ensure that if any update fails, none of the updates are committed.\n",
    "\n",
    "### Assignment 8: Creating Relationships\n",
    "\n",
    "1. Create a new table named `departments` with columns `id` (integer) and `name` (text).\n",
    "2. Modify the `employees` table to include a foreign key referencing the `id` column in the `departments` table.\n",
    "3. Write a Python function to insert data into both the `departments` and `employees` tables, ensuring referential integrity.\n",
    "\n",
    "### Assignment 9: Indexing and Optimization\n",
    "\n",
    "1. Create an index on the `name` column of the `employees` table.\n",
    "2. Write a Python function to fetch and display all employees whose names start with a specific letter. Compare the performance with and without the index.\n",
    "\n",
    "### Assignment 10: Backing Up and Restoring Data\n",
    "\n",
    "1. Write a Python function to back up the `test.db` database to a file named `backup.db`.\n",
    "2. Write a Python function to restore the `test.db` database from the `backup.db` file."
   ]
  },
  {
   "cell_type": "code",
   "execution_count": 2,
   "metadata": {},
   "outputs": [
    {
     "name": "stdout",
     "output_type": "stream",
     "text": [
      "(101, 'Prashant Marathe', 21, 'Computer Science')\n",
      "(103, 'Devendra Bhoi', 20, 'Rocket Science')\n",
      "(121, 'Prashant Marathe', 21, 'Computer Science')\n",
      "(123, 'Pranav Devre', 20, 'Computer Science')\n",
      "(132, 'Devendra Bhoi', 20, 'Computer Science')\n"
     ]
    }
   ],
   "source": [
    "import sqlite3\n",
    "\n",
    "def create_database(db_name='test.db'):\n",
    "    connection = sqlite3.connect(db_name)\n",
    "    cursor = connection.cursor()\n",
    "\n",
    "    # create a table\n",
    "    cursor.execute('''\n",
    "    CREATE TABLE IF NOT EXISTS employees (\n",
    "        id INTEGER PRIMARY KEY,\n",
    "        name VARCHAR(50) NOT NULL,\n",
    "        age INTEGER,\n",
    "        department VARCHAR(30)\n",
    "                   \n",
    "        ) \n",
    "    ''')\n",
    "    connection.commit()\n",
    "    cursor.execute('SELECT * FROM employees')\n",
    "    rows = cursor.fetchall()\n",
    "\n",
    "    return rows\n",
    "\n",
    "rows = create_database()\n",
    "for row in rows:\n",
    "    print(row)"
   ]
  },
  {
   "cell_type": "code",
   "execution_count": null,
   "id": "bd6d541a",
   "metadata": {},
   "outputs": [
    {
     "name": "stdout",
     "output_type": "stream",
     "text": [
      "(101, 'Prashant Marathe', 21, 'Computer Science')\n",
      "(102, 'Pranav Devre', 20, 'Computer Science')\n",
      "(103, 'Devendra Bhoi', 20, 'Rocket Science')\n"
     ]
    }
   ],
   "source": [
    "def update_table(db_name = 'test.db'):\n",
    "    connection = sqlite3.connect(db_name)\n",
    "    cursor = connection.cursor()\n",
    "\n",
    "    cursor.execute('''\n",
    "    UPDATE employees \n",
    "    SET department=\"Rocket Science\"\n",
    "    WHERE id=103\n",
    "    ''')\n",
    "    connection.commit()\n",
    "\n",
    "    cursor.execute('SELECT * FROM employees')\n",
    "    rows = cursor.fetchall()\n",
    "\n",
    "    return rows\n",
    "\n",
    "rows = update_table()\n",
    "for row in rows:\n",
    "    print(row)"
   ]
  },
  {
   "cell_type": "code",
   "execution_count": null,
   "id": "8d2e674a",
   "metadata": {},
   "outputs": [
    {
     "name": "stdout",
     "output_type": "stream",
     "text": [
      "(101, 'Prashant Marathe', 21, 'Computer Science')\n",
      "(103, 'Devendra Bhoi', 20, 'Rocket Science')\n"
     ]
    }
   ],
   "source": [
    "def delete_table_record(db_name='test.db'):\n",
    "    connection = sqlite3.connect(db_name)\n",
    "    cursor = connection.cursor()\n",
    "\n",
    "    cursor.execute('DELETE FROM employees WHERE id=102')\n",
    "    connection.commit()\n",
    "\n",
    "    cursor.execute('SELECT * FROM employees')\n",
    "    rows = cursor.fetchall()\n",
    "\n",
    "    return rows\n",
    "\n",
    "rows = delete_table_record()\n",
    "for row in rows:\n",
    "    print(row)\n"
   ]
  },
  {
   "cell_type": "code",
   "execution_count": null,
   "id": "f35594d2",
   "metadata": {},
   "outputs": [
    {
     "name": "stdout",
     "output_type": "stream",
     "text": [
      "(105, 'Rohit Bari', 30, 'Biology')\n",
      "(106, 'Mayur Jadhav', 40, 'Mathematics')\n",
      "(107, 'Lalit Chaudhari', 54, 'Computer Science')\n",
      "(108, 'Varad Umrane', 43, 'Computer Science')\n",
      "(109, 'Ujjwal Patil', 54, 'Computer Science')\n",
      "(110, 'Pankaj Koli', 32, 'Computer Science')\n",
      "(111, 'Om Pardeshi', 45, 'Computer Science')\n",
      "(113, 'Chetan Rathod', 34, 'Computer Science')\n"
     ]
    }
   ],
   "source": [
    "def fetch_employees(db_name='test.db'):\n",
    "    connection = sqlite3.connect(db_name)\n",
    "    cursor = connection.cursor()\n",
    "\n",
    "    cursor.execute('''\n",
    "    INSERT INTO employees \n",
    "    (id, name, age, department)\n",
    "    VALUES\n",
    "    (104, \"Umesh Pandhare\", 22, \"Computer Science\"),\n",
    "    (105, \"Rohit Bari\", 30, \"Biology\"),\n",
    "    (106, \"Mayur Jadhav\", 40, \"Mathematics\"),\n",
    "    (107, \"Lalit Chaudhari\", 54, \"Computer Science\"),\n",
    "    (108, \"Varad Umrane\", 43, \"Computer Science\"),\n",
    "    (109, \"Ujjwal Patil\", 54, \"Computer Science\"),\n",
    "    (110, \"Pankaj Koli\", 32, \"Computer Science\"),\n",
    "    (111, \"Om Pardeshi\", 45, \"Computer Science\"),\n",
    "    (112, \"Krushna Rathod\", 29, \"Computer Science\"),\n",
    "    (113, \"Chetan Rathod\", 34, \"Computer Science\"),\n",
    "    (114, \"Devendra Bhoi\", 20, \"Computer Science\")\n",
    "    ''')\n",
    "\n",
    "    cursor.execute('SELECT * FROM employees WHERE age>=30')\n",
    "    rows = cursor.fetchall()\n",
    "\n",
    "    return rows\n",
    "\n",
    "rows = fetch_employees()\n",
    "for row in rows:\n",
    "    print(row)\n"
   ]
  },
  {
   "cell_type": "code",
   "execution_count": 6,
   "id": "0494d261",
   "metadata": {},
   "outputs": [
    {
     "data": {
      "text/plain": [
       "[(101, 'Prashant Marathe', 21, 'Computer Science'),\n",
       " (121, 'Prashant Marathe', 21, 'Computer Science'),\n",
       " (123, 'Pranav Devre', 20, 'Computer Science'),\n",
       " (201, 'Prince Zodiac', 44, 'Electrical Engineering'),\n",
       " (202, 'Purushottam', 56, 'Finance')]"
      ]
     },
     "execution_count": 6,
     "metadata": {},
     "output_type": "execute_result"
    }
   ],
   "source": [
    "'''You can use the SQL LIKE operator with a wildcard (%) to match the first letter of names.\n",
    "\n",
    "For example, if you want all employees whose names start with \"P\"'''\n",
    "def select_with_letter(letter, db_name='test.db'):\n",
    "    connection = sqlite3.connect(db_name)\n",
    "    cursor = connection.cursor()\n",
    "\n",
    "    query = '''SELECT * FROM employees WHERE name LIKE ?;'''\n",
    "    cursor.execute(query, (letter + '%',))\n",
    "    rows = cursor.fetchall()\n",
    "\n",
    "    connection.close()\n",
    "    return rows\n",
    "\n",
    "select_with_letter(\"P\")\n",
    "    "
   ]
  },
  {
   "cell_type": "code",
   "execution_count": 5,
   "id": "63936b0a",
   "metadata": {},
   "outputs": [
    {
     "name": "stdout",
     "output_type": "stream",
     "text": [
      "Insertion Failed: UNIQUE constraint failed: employees.id\n"
     ]
    },
    {
     "data": {
      "text/plain": [
       "[(101, 'Prashant Marathe', 21, 'Computer Science'),\n",
       " (103, 'Devendra Bhoi', 20, 'Rocket Science'),\n",
       " (121, 'Prashant Marathe', 21, 'Computer Science'),\n",
       " (123, 'Pranav Devre', 20, 'Computer Science'),\n",
       " (132, 'Devendra Bhoi', 20, 'Computer Science'),\n",
       " (201, 'Prince Zodiac', 44, 'Electrical Engineering'),\n",
       " (202, 'Purushottam', 56, 'Finance'),\n",
       " (203, 'Jayesh', 67, 'Project Manager'),\n",
       " (204, 'Mahesh Marathe', 18, 'Machenical Engineer')]"
      ]
     },
     "execution_count": 5,
     "metadata": {},
     "output_type": "execute_result"
    }
   ],
   "source": [
    "## handling Transactions\n",
    "import sqlite3\n",
    "\n",
    "def insert_employees(db_name='test.db'):\n",
    "    connection = sqlite3.connect(db_name)\n",
    "    cursor = connection.cursor()\n",
    "    try:\n",
    "        cursor.execute('''\n",
    "        INSERT INTO employees \n",
    "        (id, name, age, department)\n",
    "        VALUES\n",
    "        (201, \"Prince Zodiac\", 44, \"Electrical Engineering\"),\n",
    "        (202, \"Purushottam\", 56, \"Finance\"),\n",
    "        (203, \"Jayesh\", 67, \"Project Manager\"),\n",
    "        (204, \"Mahesh Marathe\", 18, \"Machenical Engineer\");    \n",
    "        ''')\n",
    "        connection.commit() \n",
    "    except Exception as e:\n",
    "        connection.rollback()\n",
    "        print(f'Insertion Failed: {e}')\n",
    "\n",
    "    cursor.execute('SELECT * FROM employees')\n",
    "    rows = cursor.fetchall()\n",
    "    connection.close\n",
    "    return rows\n",
    "\n",
    "insert_employees()"
   ]
  },
  {
   "cell_type": "code",
   "execution_count": 9,
   "id": "9236b683",
   "metadata": {},
   "outputs": [
    {
     "data": {
      "text/plain": [
       "[(101, 'Prashant Marathe', 21, 'Computer Science'),\n",
       " (103, 'Devendra Bhoi', 20, 'Rocket Science'),\n",
       " (121, 'Prashant Marathe', 21, 'Computer Science'),\n",
       " (123, 'Pranav Devre', 20, 'Computer Science'),\n",
       " (132, 'Devendra Bhoi', 20, 'Computer Science'),\n",
       " (201, 'Prince Zodiac', 45, 'Electrical Engineering'),\n",
       " (202, 'Purushottam', 57, 'Finance'),\n",
       " (203, 'Jayesh', 68, 'Project Manager'),\n",
       " (204, 'Mahesh Marathe', 18, 'Machenical Engineer')]"
      ]
     },
     "execution_count": 9,
     "metadata": {},
     "output_type": "execute_result"
    }
   ],
   "source": [
    "def update_age_using_transaction(db_name='test.db'):\n",
    "    connection = sqlite3.connect(db_name)\n",
    "    cursor = connection.cursor()\n",
    "\n",
    "    try:\n",
    "        cursor.execute('''\n",
    "        UPDATE employees SET age=age+1 WHERE age>30\n",
    "        ''')\n",
    "        connection.commit()\n",
    "    except Exception as e:\n",
    "        connection.rollback()\n",
    "        print(f'Update Failed: {e}')\n",
    "    \n",
    "    cursor.execute('SELECT * FROM employees')\n",
    "    rows = cursor.fetchall()\n",
    "    connection.close()\n",
    "\n",
    "    return rows\n",
    "\n",
    "update_age_using_transaction()"
   ]
  },
  {
   "cell_type": "code",
   "execution_count": null,
   "id": "77f4121e",
   "metadata": {},
   "outputs": [],
   "source": []
  }
 ],
 "metadata": {
  "kernelspec": {
   "display_name": "venv",
   "language": "python",
   "name": "python3"
  },
  "language_info": {
   "codemirror_mode": {
    "name": "ipython",
    "version": 3
   },
   "file_extension": ".py",
   "mimetype": "text/x-python",
   "name": "python",
   "nbconvert_exporter": "python",
   "pygments_lexer": "ipython3",
   "version": "3.13.5"
  }
 },
 "nbformat": 4,
 "nbformat_minor": 5
}
