{
 "cells": [
  {
   "cell_type": "markdown",
   "id": "28117fd7",
   "metadata": {},
   "source": [
    "## Python Logging\n",
    "Logging is a crucial aspect of any application, providing a way to track events, errors, and operational information. Python's built-n logging module offers a flexible framework for emitting log messages from Python programs."
   ]
  },
  {
   "cell_type": "code",
   "execution_count": 2,
   "id": "24a41609",
   "metadata": {},
   "outputs": [],
   "source": [
    "import logging"
   ]
  },
  {
   "cell_type": "code",
   "execution_count": 3,
   "id": "8dc4fde4",
   "metadata": {},
   "outputs": [
    {
     "name": "stderr",
     "output_type": "stream",
     "text": [
      "DEBUG:root:This is a debug message.\n",
      "INFO:root:starting the program.\n",
      "WARNING:root:This is a warning.\n",
      "ERROR:root:Something went wrong.\n",
      "CRITICAL:root:Critical error, shutting down\n"
     ]
    }
   ],
   "source": [
    "# Configure the basic logging settings\n",
    "logging.basicConfig(level=logging.DEBUG)\n",
    "\n",
    "# log messages based on Logging Levels (from lowest to highest priority)\n",
    "logging.debug('This is a debug message.')\n",
    "logging.info('starting the program.')\n",
    "logging.warning('This is a warning.')\n",
    "logging.error('Something went wrong.')\n",
    "logging.critical('Critical error, shutting down')"
   ]
  },
  {
   "cell_type": "markdown",
   "id": "7de9c297",
   "metadata": {},
   "source": [
    "## Logging Levels in Python\n",
    "\n",
    "These are built-in levels (from lowest to highest priority):\n",
    "\n",
    "**DEBUG** → Detailed info, mainly useful for developers.\n",
    "\n",
    "**INFO** → General events (program is working as expected).\n",
    "\n",
    "**WARNING** → Something unexpected happened, but program still runs.\n",
    "\n",
    "**ERROR** → A serious issue; part of the program failed.\n",
    "\n",
    "**CRITICAL** → The program may not be able to continue."
   ]
  },
  {
   "cell_type": "code",
   "execution_count": 2,
   "id": "078cdbda",
   "metadata": {},
   "outputs": [],
   "source": [
    "# Configuring logging with various features\n",
    "\n",
    "import logging\n",
    "\n",
    "logging.basicConfig(\n",
    "    filename='app.log',\n",
    "    filemode='w',\n",
    "    level=logging.DEBUG,\n",
    "    format='%(asctime)s-%(name)s-%(levelname)s-%(message)s',\n",
    "    datefmt='%Y-%m-%d %H:%M:%S'\n",
    ")\n",
    "\n",
    "# log messages based on Logging Levels (from lowest to highest priority)\n",
    "logging.debug('This is a debug message.')\n",
    "logging.info('starting the program.')\n",
    "logging.warning('This is a warning.')\n",
    "logging.error('Something went wrong.')\n",
    "logging.critical('Critical error, shutting down')"
   ]
  },
  {
   "cell_type": "code",
   "execution_count": null,
   "id": "94d72a03",
   "metadata": {},
   "outputs": [],
   "source": []
  }
 ],
 "metadata": {
  "kernelspec": {
   "display_name": "venv",
   "language": "python",
   "name": "python3"
  },
  "language_info": {
   "codemirror_mode": {
    "name": "ipython",
    "version": 3
   },
   "file_extension": ".py",
   "mimetype": "text/x-python",
   "name": "python",
   "nbconvert_exporter": "python",
   "pygments_lexer": "ipython3",
   "version": "3.13.5"
  }
 },
 "nbformat": 4,
 "nbformat_minor": 5
}
