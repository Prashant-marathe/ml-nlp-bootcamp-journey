{
 "cells": [
  {
   "cell_type": "markdown",
   "id": "c0bb0ea5",
   "metadata": {},
   "source": [
    "## Logging with multiple loggers in Python\n",
    "You can create multiple loggers for different parts of your application"
   ]
  },
  {
   "cell_type": "code",
   "execution_count": 1,
   "id": "1fa725bb",
   "metadata": {},
   "outputs": [],
   "source": [
    "import logging"
   ]
  },
  {
   "cell_type": "code",
   "execution_count": 2,
   "id": "4da6ae68",
   "metadata": {},
   "outputs": [],
   "source": [
    "# Create a logger for module 1\n",
    "\n",
    "logger1 = logging.getLogger('module1')\n",
    "logger1.setLevel(logging.DEBUG)\n",
    "\n",
    "\n",
    "# Create a logger for module 1\n",
    "logger2 = logging.getLogger('module2')\n",
    "logger2.setLevel(logging.WARNING)\n",
    "\n",
    "\n",
    "# Configure logging settings\n",
    "logging.basicConfig(\n",
    "    level=logging.DEBUG,\n",
    "    format='%(asctime)s-%(name)s-%(levelname)s-%(message)s',\n",
    "    datefmt='%Y-%m-%d %H:%M:%S'\n",
    ")"
   ]
  },
  {
   "cell_type": "code",
   "execution_count": 3,
   "id": "0a448df8",
   "metadata": {},
   "outputs": [
    {
     "name": "stderr",
     "output_type": "stream",
     "text": [
      "2025-08-27 11:19:11-module1-DEBUG-This is a debug message from logger1\n",
      "2025-08-27 11:19:11-module1-WARNING-This is a warning message form logger1\n"
     ]
    }
   ],
   "source": [
    "# log messages for logger1 \n",
    "logger1.debug('This is a debug message from logger1')\n",
    "logger1.warning('This is a warning message form logger1')"
   ]
  },
  {
   "cell_type": "code",
   "execution_count": 6,
   "id": "e2f6f7c9",
   "metadata": {},
   "outputs": [
    {
     "name": "stderr",
     "output_type": "stream",
     "text": [
      "2025-08-27 11:20:41-module2-CRITICAL-This is a debug message from logger2\n",
      "2025-08-27 11:20:41-module2-WARNING-This is a warning message from logger2\n"
     ]
    }
   ],
   "source": [
    "# log messges for logger2\n",
    "logger2.critical('This is a debug message from logger2')\n",
    "logger2.warning('This is a warning message from logger2')"
   ]
  }
 ],
 "metadata": {
  "kernelspec": {
   "display_name": "venv",
   "language": "python",
   "name": "python3"
  },
  "language_info": {
   "codemirror_mode": {
    "name": "ipython",
    "version": 3
   },
   "file_extension": ".py",
   "mimetype": "text/x-python",
   "name": "python",
   "nbconvert_exporter": "python",
   "pygments_lexer": "ipython3",
   "version": "3.13.5"
  }
 },
 "nbformat": 4,
 "nbformat_minor": 5
}
