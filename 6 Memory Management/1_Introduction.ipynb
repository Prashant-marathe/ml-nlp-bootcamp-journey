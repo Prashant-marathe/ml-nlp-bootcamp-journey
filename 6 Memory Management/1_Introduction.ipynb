{
 "cells": [
  {
   "cell_type": "markdown",
   "id": "b36dfd17",
   "metadata": {},
   "source": [
    "## Memory Management in Python\n",
    "Memory management in Python involves a combination of automatic garbage collection, reference counting , and various internal optimizations to efficiently manage memory allocation and deallocation. "
   ]
  },
  {
   "cell_type": "markdown",
   "id": "e70a7b60",
   "metadata": {},
   "source": [
    "## 1] Reference Counting\n",
    "Reference counting is a primary method python uses to manage memory. Each object in Python maintains a count of references pointing to it. When the references count drops to 0, the memory occupied by the object is deallocated."
   ]
  },
  {
   "cell_type": "code",
   "execution_count": 6,
   "id": "d0408638",
   "metadata": {},
   "outputs": [
    {
     "name": "stdout",
     "output_type": "stream",
     "text": [
      "2\n",
      "3\n"
     ]
    }
   ],
   "source": [
    "import sys\n",
    "\n",
    "a = []\n",
    "\n",
    "print(sys.getrefcount(a))    # so the list has 2 references 'a' the varable name is one and the getrefcount() is the second\n",
    "\n",
    "b = a\n",
    "print(sys.getrefcount(a))  # here b is the one, a is second and getrefcount() is third"
   ]
  },
  {
   "cell_type": "code",
   "execution_count": null,
   "id": "a0b7dd90",
   "metadata": {},
   "outputs": [
    {
     "name": "stdout",
     "output_type": "stream",
     "text": [
      "2\n"
     ]
    }
   ],
   "source": [
    "del b\n",
    "print(sys.getrefcount(a))    # here the ref count of a became 2 again as the variable b refering to it got deleted."
   ]
  },
  {
   "cell_type": "markdown",
   "id": "71d8c93d",
   "metadata": {},
   "source": [
    "## 2] Garbage Collection\n",
    "Python includes a cyclic garbage collection to handle referene cycles. Reference cycles occur when objects refer each other, preventing their reference counts from reaching 0."
   ]
  },
  {
   "cell_type": "code",
   "execution_count": 7,
   "id": "1e3838fa",
   "metadata": {},
   "outputs": [],
   "source": [
    "import gc\n",
    "\n",
    "# Enable garbage collection\n",
    "gc.enable()"
   ]
  },
  {
   "cell_type": "code",
   "execution_count": 8,
   "id": "c55c2d0e",
   "metadata": {},
   "outputs": [],
   "source": [
    "# disable garbage collection\n",
    "gc.disable()"
   ]
  },
  {
   "cell_type": "code",
   "execution_count": null,
   "id": "340a4266",
   "metadata": {},
   "outputs": [
    {
     "data": {
      "text/plain": [
       "281"
      ]
     },
     "execution_count": 9,
     "metadata": {},
     "output_type": "execute_result"
    }
   ],
   "source": [
    "# Run the garbage collector.With no arguments, run a full collection. The optional argument may be an integer specifying which generation to collect. A ValueError is raised if the generation number is invalid.The number of unreachable objects is returned.\n",
    "gc.collect()"
   ]
  },
  {
   "cell_type": "code",
   "execution_count": 10,
   "id": "e0f7a540",
   "metadata": {},
   "outputs": [
    {
     "name": "stdout",
     "output_type": "stream",
     "text": [
      "[{'collections': 66, 'collected': 1840, 'uncollectable': 0}, {'collections': 6, 'collected': 159, 'uncollectable': 0}, {'collections': 1, 'collected': 281, 'uncollectable': 0}]\n"
     ]
    }
   ],
   "source": [
    "# get garbage collection stats\n",
    "print(gc.get_stats())"
   ]
  },
  {
   "cell_type": "code",
   "execution_count": 11,
   "id": "cc3370fe",
   "metadata": {},
   "outputs": [
    {
     "name": "stdout",
     "output_type": "stream",
     "text": [
      "[]\n"
     ]
    }
   ],
   "source": [
    "# get unreachable objects \n",
    "print(gc.garbage)"
   ]
  },
  {
   "cell_type": "markdown",
   "id": "90a42504",
   "metadata": {},
   "source": [
    "## Memory Management best practices:\n",
    "1. Use Local Varibles: Local variables have a shorter lifespan and are freed sooner then global variables.\n",
    "2. Avoid Circular References : Circular references can lead to memory leaks if not properly handled.\n",
    "3. Use Generators : Generators produce items one at a time and only keep one item in memory at a time, making them memory efficient\n",
    "4. Explicitly Delete Objects : Use the del statement to delete variables and object explicitly.\n",
    "5. Profile Memory Usage : Use memory profiling tools like tracemelloc and memory_profiler to identify memory leaks and optimize memory usege."
   ]
  },
  {
   "cell_type": "code",
   "execution_count": 15,
   "id": "f5760760",
   "metadata": {},
   "outputs": [
    {
     "name": "stdout",
     "output_type": "stream",
     "text": [
      "Object prince is created.\n",
      "Object prince is created.\n",
      "Object prince deleted\n",
      "Object prince deleted\n",
      "Object prince deleted\n",
      "Object prince deleted\n"
     ]
    },
    {
     "data": {
      "text/plain": [
       "2711"
      ]
     },
     "execution_count": 15,
     "metadata": {},
     "output_type": "execute_result"
    }
   ],
   "source": [
    "import gc\n",
    "\n",
    "class Myobject:\n",
    "    def __init__(self, name):\n",
    "        self.name = name\n",
    "        print(f'Object {self.name} is created.')\n",
    "\n",
    "    def __del__(self):\n",
    "        print(f'Object {self.name} deleted')\n",
    "\n",
    "obj1 = Myobject(\"prince\")\n",
    "obj2 = Myobject(\"prince\")\n",
    "\n",
    "# Circular Reference\n",
    "obj1.ref = obj2\n",
    "obj2.ref = obj1\n",
    "\n",
    "# use del object to delete both objects and trigger __del__ function\n",
    "del obj1\n",
    "del obj2  # -> del function did not run because of the circular reference (true circular reference). We need to manually call garbage collector to trigger del\n",
    "\n",
    "# call manual garbage collector\n",
    "gc.collect()"
   ]
  },
  {
   "cell_type": "code",
   "execution_count": null,
   "id": "7543f9ec",
   "metadata": {},
   "outputs": [
    {
     "name": "stdout",
     "output_type": "stream",
     "text": [
      "0\n",
      "1\n",
      "2\n",
      "3\n",
      "4\n",
      "5\n",
      "6\n",
      "7\n",
      "8\n",
      "9\n",
      "10\n"
     ]
    }
   ],
   "source": [
    "# Generators for memory efficiency (using yield to allocate and access memory one step at a time)\n",
    "\n",
    "def use_generator(n):\n",
    "    for i in range(n):\n",
    "        yield i\n",
    "\n",
    "for i in use_generator(10000):\n",
    "    print(i)\n",
    "    if i >= 10:\n",
    "        break"
   ]
  },
  {
   "cell_type": "code",
   "execution_count": 21,
   "id": "8f914464",
   "metadata": {},
   "outputs": [],
   "source": [
    "# Profiling memory usage using tracemelloc\n",
    "import tracemalloc\n",
    "\n",
    "def create_list():\n",
    "    return [i for i in range(10000)]\n",
    "\n",
    "def main():\n",
    "    tracemalloc.start()\n",
    "\n",
    "    create_list()\n",
    "\n",
    "    snapshot = tracemalloc.take_snapshot()\n",
    "    top_stats = snapshot.statistics('lineno')\n",
    "\n",
    "    print(\"[Top 10]\")\n",
    "    for stat in top_stats[:10]:\n",
    "        print(stat)"
   ]
  },
  {
   "cell_type": "code",
   "execution_count": 22,
   "id": "bca0e903",
   "metadata": {},
   "outputs": [
    {
     "name": "stdout",
     "output_type": "stream",
     "text": [
      "[Top 10]\n",
      "c:\\Users\\ASUS\\anaconda3\\envs\\venv\\Lib\\selectors.py:305: size=144 KiB, count=3, average=48.0 KiB\n",
      "c:\\Users\\ASUS\\anaconda3\\envs\\venv\\Lib\\site-packages\\IPython\\core\\interactiveshell.py:3052: size=11.8 KiB, count=2, average=6040 B\n",
      "c:\\Users\\ASUS\\anaconda3\\envs\\venv\\Lib\\tracemalloc.py:193: size=5520 B, count=115, average=48 B\n",
      "c:\\Users\\ASUS\\anaconda3\\envs\\venv\\Lib\\json\\decoder.py:361: size=3033 B, count=36, average=84 B\n",
      "c:\\Users\\ASUS\\anaconda3\\envs\\venv\\Lib\\site-packages\\traitlets\\traitlets.py:731: size=2372 B, count=38, average=62 B\n",
      "c:\\Users\\ASUS\\anaconda3\\envs\\venv\\Lib\\site-packages\\IPython\\core\\compilerop.py:174: size=2175 B, count=29, average=75 B\n",
      "c:\\Users\\ASUS\\anaconda3\\envs\\venv\\Lib\\codeop.py:118: size=1926 B, count=20, average=96 B\n",
      "c:\\Users\\ASUS\\anaconda3\\envs\\venv\\Lib\\site-packages\\zmq\\sugar\\attrsettr.py:45: size=1880 B, count=40, average=47 B\n",
      "c:\\Users\\ASUS\\anaconda3\\envs\\venv\\Lib\\site-packages\\traitlets\\traitlets.py:1543: size=1538 B, count=25, average=62 B\n",
      "c:\\Users\\ASUS\\anaconda3\\envs\\venv\\Lib\\threading.py:297: size=1520 B, count=4, average=380 B\n"
     ]
    }
   ],
   "source": [
    "main()"
   ]
  }
 ],
 "metadata": {
  "kernelspec": {
   "display_name": "venv",
   "language": "python",
   "name": "python3"
  },
  "language_info": {
   "codemirror_mode": {
    "name": "ipython",
    "version": 3
   },
   "file_extension": ".py",
   "mimetype": "text/x-python",
   "name": "python",
   "nbconvert_exporter": "python",
   "pygments_lexer": "ipython3",
   "version": "3.13.5"
  }
 },
 "nbformat": 4,
 "nbformat_minor": 5
}
