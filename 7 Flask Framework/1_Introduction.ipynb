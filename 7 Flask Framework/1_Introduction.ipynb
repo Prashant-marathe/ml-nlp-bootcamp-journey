{
 "cells": [
  {
   "cell_type": "markdown",
   "id": "83345acf",
   "metadata": {},
   "source": [
    "# Flask Framework\n",
    "🔻 Flask is a lightweight web framework for Python.\n",
    "\n",
    "🔻It's often called a \"micro-framework\" because it doesn't come with all the built-in features like larger frameworks like (Django).\n",
    "\n",
    "🔻Instead, Flask gices you the essentials (routing, request handling, templates) nd lets you add only what you need via extensions."
   ]
  },
  {
   "cell_type": "markdown",
   "id": "97a015ec",
   "metadata": {},
   "source": [
    "## what is WSGI?\n",
    "🔻WSGI stands for Web Server Gateway Interface.\n",
    "\n",
    "🔻 It's a specification (a standard) that describes how a web server (like Gunicorn, uWSGI) communicates with Python web applications (like Flask and Django).\n",
    "\n",
    "## Why important?\n",
    "🔻Flask app is not a web server.\n",
    "\n",
    "🔻WSGI is the bridge between the web server (Nginx, Apache, Azure) and your Flask application code.\n",
    "\n",
    "🔻Flask has a built-in development werver (using Werkzeug), but in production, you deploy Flask behind a WSGI server."
   ]
  },
  {
   "cell_type": "markdown",
   "id": "74a6c3c2",
   "metadata": {},
   "source": [
    "## What is jinja2 in Flask?\n",
    "🔻jinja2 is the templationg engine used in Flask.\n",
    "\n",
    "🔻It allows you to embed Python-like expressions inside HTMl pages.\n",
    "\n",
    "🔻You can use it to:\n",
    "- Render dynamic content (e.g., insert variables in HTML).\n",
    "- use control strcture (loops, if/else) inside HTML.\n",
    "- Seperate logic (Python code) from presentation (HTML templates)."
   ]
  },
  {
   "cell_type": "code",
   "execution_count": null,
   "id": "89162e67",
   "metadata": {
    "vscode": {
     "languageId": "plaintext"
    }
   },
   "outputs": [],
   "source": []
  }
 ],
 "metadata": {
  "language_info": {
   "name": "python"
  }
 },
 "nbformat": 4,
 "nbformat_minor": 5
}
