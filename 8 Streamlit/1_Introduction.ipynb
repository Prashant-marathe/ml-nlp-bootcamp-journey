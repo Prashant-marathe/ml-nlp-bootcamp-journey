{
 "cells": [
  {
   "cell_type": "markdown",
   "id": "6183ec23",
   "metadata": {},
   "source": [
    "## Streamlit\n",
    "Streamlit is an open source app framework for Machine Learning and Data Science Projects. It allows you to create beautiful web applications for your machine learning and data science projects with simple Python Scripts."
   ]
  },
  {
   "cell_type": "markdown",
   "id": "08f92069",
   "metadata": {},
   "source": []
  }
 ],
 "metadata": {
  "language_info": {
   "name": "python"
  }
 },
 "nbformat": 4,
 "nbformat_minor": 5
}
